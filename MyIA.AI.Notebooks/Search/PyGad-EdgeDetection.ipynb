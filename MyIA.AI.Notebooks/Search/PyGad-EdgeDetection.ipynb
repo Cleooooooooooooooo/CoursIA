{
 "cells": [
  {
   "cell_type": "markdown",
   "metadata": {},
   "source": [
    "### Étape 1 : Configuration du Notebook Jupyter \n",
    "\n",
    "Tout d'abord, créons un nouveau notebook Jupyter et installons les dépendances nécessaires : "
   ]
  },
  {
   "cell_type": "code",
   "execution_count": 19,
   "metadata": {},
   "outputs": [],
   "source": [
    "!pip install pygad opencv-python-headless matplotlib"
   ]
  },
  {
   "cell_type": "markdown",
   "metadata": {},
   "source": [
    "### Étape 2 : Imports et Fonctions Utilitaires\n",
    "\n",
    "Nous allons commencer par importer les bibliothèques nécessaires et définir les fonctions utilitaires."
   ]
  },
  {
   "cell_type": "code",
   "execution_count": 20,
   "metadata": {
    "dotnet_interactive": {
     "language": "csharp"
    },
    "polyglot_notebook": {
     "kernelName": "csharp"
    }
   },
   "outputs": [],
   "source": [
    "import cv2\n",
    "import numpy as np\n",
    "import matplotlib.pyplot as plt\n",
    "from pygad import pygad\n",
    "\n",
    "# Fonction pour sauvegarder une image\n",
    "def save_image(image, filename):\n",
    "    cv2.imwrite(filename, image)\n",
    "    print(f\"Image enregistrée : {filename}\")\n",
    "\n",
    "# Fonction pour convertir une image Bitmap en Matrice OpenCV\n",
    "def bitmap_to_mat(bitmap):\n",
    "    return cv2.cvtColor(np.array(bitmap), cv2.COLOR_BGR2RGB)\n",
    "\n",
    "# Fonction pour afficher une image\n",
    "def display_image(image, title=\"Image\"):\n",
    "    plt.imshow(cv2.cvtColor(image, cv2.COLOR_BGR2RGB))\n",
    "    plt.title(title)\n",
    "    plt.axis('off')\n",
    "    plt.show()"
   ]
  },
  {
   "cell_type": "markdown",
   "metadata": {},
   "source": [
    "### Étape 3 : Définition du Chromosome\n",
    "\n",
    "Nous allons définir la classe `EdgeChromosome` en Python."
   ]
  },
  {
   "cell_type": "code",
   "execution_count": 21,
   "metadata": {},
   "outputs": [],
   "source": [
    "class EdgeChromosome:\n",
    "    def __init__(self, length):\n",
    "        self.kernel_size = 7  # Définir kernel_size avant de l'utiliser dans generate_gene\n",
    "        self.length = length\n",
    "        self.genes = [self.generate_gene() for _ in range(length)]\n",
    "\n",
    "    def generate_gene(self):\n",
    "        return np.random.randint(-20, 20, (self.kernel_size, self.kernel_size), dtype=np.int64)\n",
    "\n",
    "    def get_complete_matrix(self):\n",
    "        complete_matrix = np.zeros((self.kernel_size, self.kernel_size), dtype=np.int64)\n",
    "        for gene in self.genes:\n",
    "            complete_matrix += gene\n",
    "        \n",
    "        max_abs_value = np.max(np.abs(complete_matrix))\n",
    "        if max_abs_value > 10:\n",
    "            complete_matrix = (10.0 * complete_matrix / max_abs_value).astype(np.int64)\n",
    "        \n",
    "        return complete_matrix"
   ]
  },
  {
   "cell_type": "markdown",
   "metadata": {},
   "source": [
    "### Étape 4 : Test du Chromosome\n",
    "\n",
    "Testons la création d'un chromosome, ses gènes, et la matrice résultante correspondante."
   ]
  },
  {
   "cell_type": "code",
   "execution_count": 22,
   "metadata": {},
   "outputs": [],
   "source": [
    "test_chromosome = EdgeChromosome(5)\n",
    "print(\"Gènes générés :\")\n",
    "for gene in test_chromosome.genes:\n",
    "    print(gene)\n",
    "    print()\n",
    "\n",
    "test_matrix = test_chromosome.get_complete_matrix()\n",
    "print(\"Matrice complète générée :\")\n",
    "print(test_matrix)"
   ]
  },
  {
   "cell_type": "markdown",
   "metadata": {},
   "source": [
    "### Étape 5 : Définition de la Fonction d'Évaluation\n",
    "\n",
    "Nous allons implémenter la fonction d'évaluation en Python."
   ]
  },
  {
   "cell_type": "code",
   "execution_count": 23,
   "metadata": {},
   "outputs": [],
   "source": [
    "class EdgeFitness:\n",
    "    def __init__(self, original_image):\n",
    "        self.original_image = cv2.cvtColor(np.array(original_image), cv2.COLOR_BGR2RGB)\n",
    "        if len(self.original_image.shape) == 3:\n",
    "            self.original_image = cv2.cvtColor(self.original_image, cv2.COLOR_BGR2GRAY)\n",
    "        \n",
    "        # Appliquer le filtre Sobel pour référence\n",
    "        self.reference_image = cv2.Sobel(self.original_image, cv2.CV_64F, 1, 0)\n",
    "\n",
    "        if len(self.reference_image.shape) == 3:\n",
    "            self.reference_image = cv2.cvtColor(self.reference_image, cv2.COLOR_BGR2GRAY)\n",
    "        \n",
    "        # Normaliser et convertir l'image de référence en CV_8U\n",
    "        self.reference_image = cv2.normalize(self.reference_image, None, 0, 255, cv2.NORM_MINMAX).astype(np.uint8)\n",
    "\n",
    "    def display_images(self):\n",
    "        save_image(self.original_image, \"original.png\")\n",
    "        save_image(self.reference_image, \"reference.png\")\n",
    "        display_image(self.original_image, \"Original Image\")\n",
    "        display_image(self.reference_image, \"Reference Image\")\n",
    "\n",
    "    def apply_filter(self, chromosome, display=False):\n",
    "        filter_matrix = chromosome.get_complete_matrix()\n",
    "        kernel = np.float32(filter_matrix)\n",
    "        \n",
    "        if display:\n",
    "            print(\"Noyau généré :\")\n",
    "            print(kernel)\n",
    "        \n",
    "        source_image = self.original_image.copy()\n",
    "        if source_image.dtype != np.float32:\n",
    "            source_image = source_image.astype(np.float32)\n",
    "        \n",
    "        filtered_image = cv2.filter2D(source_image, -1, kernel)\n",
    "        \n",
    "        if filtered_image.dtype != self.reference_image.dtype:\n",
    "            filtered_image = filtered_image.astype(self.reference_image.dtype)\n",
    "        \n",
    "        return filtered_image\n",
    "\n",
    "    def evaluate(self, solution, solution_idx):\n",
    "        chromosome = EdgeChromosome(20)\n",
    "        chromosome.genes = [np.array(solution[i:i+49]).reshape(7, 7).astype(np.int64) for i in range(0, len(solution), 49)]\n",
    "        \n",
    "        filtered_image = self.apply_filter(chromosome, False)\n",
    "        \n",
    "        if len(filtered_image.shape) == 3:\n",
    "            filtered_image = cv2.cvtColor(filtered_image, cv2.COLOR_BGR2GRAY)\n",
    "        \n",
    "        if len(self.reference_image.shape) == 3:\n",
    "            self.reference_image = cv2.cvtColor(self.reference_image, cv2.COLOR_BGR2GRAY)\n",
    "        \n",
    "        if filtered_image.dtype != np.uint8:\n",
    "            filtered_image = cv2.normalize(filtered_image, None, 0, 255, cv2.NORM_MINMAX).astype(np.uint8)\n",
    "        \n",
    "        if self.reference_image.dtype != np.uint8:\n",
    "            self.reference_image = cv2.normalize(self.reference_image, None, 0, 255, cv2.NORM_MINMAX).astype(np.uint8)\n",
    "        \n",
    "        if filtered_image.shape != self.reference_image.shape:\n",
    "            filtered_image = cv2.resize(filtered_image, (self.reference_image.shape[1], self.reference_image.shape[0]))\n",
    "        \n",
    "        result = cv2.matchTemplate(filtered_image, self.reference_image, cv2.TM_CCOEFF_NORMED)\n",
    "        min_val, max_val, min_loc, max_loc = cv2.minMaxLoc(result)\n",
    "        \n",
    "        filter_matrix = chromosome.get_complete_matrix()\n",
    "        filter_sum = np.sum(filter_matrix)\n",
    "        filter_penalty = 1 if abs(filter_sum) < 1e-3 else np.log10(abs(filter_sum) + 1)\n",
    "        \n",
    "        return max_val / filter_penalty\n",
    "\n",
    "    def display_chromosome_result(self, chromosome, filename_prefix, generation):\n",
    "        filtered_image = self.apply_filter(chromosome, True)\n",
    "        filename = f\"{filename_prefix}_generation_{generation}.png\"\n",
    "        save_image(filtered_image, filename)\n",
    "        display_image(filtered_image, f\"Generation {generation}\")"
   ]
  },
  {
   "cell_type": "markdown",
   "metadata": {},
   "source": [
    "### Étape 6 : Test de la Fonction Fitness\n",
    "\n",
    "Test de la fonction fitness."
   ]
  },
  {
   "cell_type": "code",
   "execution_count": 24,
   "metadata": {},
   "outputs": [],
   "source": [
    "from PIL import Image\n",
    "# Test de la fonction fitness\n",
    "image_path = r\"E:\\Dev\\AI\\Cours\\CoursIA\\MyIA.AI.Notebooks\\Search\\MRI_Prostate_Cancer.jpg\"\n",
    "original_image = Image.open(image_path)\n",
    "fitness = EdgeFitness(original_image)\n",
    "\n",
    "# Test d'un chromosome\n",
    "chromosome = EdgeChromosome(20)\n",
    "print(f\"Score de fitness : {fitness.evaluate(np.concatenate([gene.flatten() for gene in chromosome.genes]), 0)}\")"
   ]
  },
  {
   "cell_type": "markdown",
   "metadata": {},
   "source": [
    "### Étape 7 : Configuration de l'Algorithme Génétique\n",
    "\n",
    "Configuration de l'algorithme génétique avec une population, une fonction de sélection, un opérateur de croisement et un opérateur de mutation.\n"
   ]
  },
  {
   "cell_type": "code",
   "execution_count": 25,
   "metadata": {},
   "outputs": [],
   "source": [
    "# Charger une image de test\n",
    "image_path = r\"E:\\Dev\\AI\\Cours\\CoursIA\\MyIA.AI.Notebooks\\Search\\MRI_Prostate_Cancer.jpg\"  # Remplacez par le chemin de votre image\n",
    "\n",
    "original_image = Image.open(image_path)\n",
    "fitness = EdgeFitness(original_image)\n",
    "fitness.display_images()\n",
    "\n",
    "# Initialiser un chromosome\n",
    "chromosome_length = 20 * 49  # 20 gènes, chaque gène est une matrice 7x7\n",
    "\n",
    "# Initialiser la population\n",
    "population_size = (50, chromosome_length)\n",
    "\n",
    "# Fonction de fitness\n",
    "def fitness_func(ga_instance, solution, solution_idx):\n",
    "    chromosome = EdgeChromosome(20)\n",
    "    chromosome.genes = [np.array(solution[i:i+49]).reshape(7, 7).astype(np.int64) for i in range(0, len(solution), 49)]\n",
    "    return fitness.evaluate(solution, solution_idx)\n",
    "\n",
    "def on_generation(ga_instance):\n",
    "    best_solution, best_solution_fitness, best_match_idx = ga_instance.best_solution()\n",
    "    best_chromosome = EdgeChromosome(20)\n",
    "    best_chromosome.genes = [np.array(best_solution[i:i+49]).reshape(7, 7).astype(np.int64) for i in range(0, len(best_solution), 49)]\n",
    "    print(f\"Génération {ga_instance.generations_completed} - Meilleur score : {best_solution_fitness}\")\n",
    "    \n",
    "    if ga_instance.generations_completed % 10 == 0:\n",
    "        fitness.display_chromosome_result(best_chromosome, \"best\", ga_instance.generations_completed)\n",
    "\n",
    "# Configurer les opérateurs génétiques\n",
    "ga_instance = pygad.GA(\n",
    "    num_generations=100,\n",
    "    num_parents_mating=10,\n",
    "    fitness_func=fitness_func,\n",
    "    sol_per_pop=population_size[0],\n",
    "    num_genes=population_size[1],\n",
    "    init_range_low=-20,\n",
    "    init_range_high=20,\n",
    "    parent_selection_type=\"sss\",\n",
    "    keep_parents=-1,\n",
    "    crossover_type=\"uniform\",\n",
    "    mutation_type=\"random\",\n",
    "    mutation_percent_genes=10,\n",
    "    on_generation=on_generation  # Ajout de la fonction de callback\n",
    ")"
   ]
  },
  {
   "cell_type": "markdown",
   "metadata": {},
   "source": [
    "### Étape 8 : Exécution et Visualisation\n",
    "\n",
    "Lancement de l'algorithme génétique et suivi de l'évolution des solutions."
   ]
  },
  {
   "cell_type": "code",
   "execution_count": 26,
   "metadata": {},
   "outputs": [],
   "source": [
    "# Initialiser le placeholder avec l'image originale\n",
    "display_image(bitmap_to_mat(original_image), \"Original Image\")\n",
    "\n",
    "ga_instance.run()\n",
    "\n",
    "best_solution, best_solution_fitness, best_match_idx = ga_instance.best_solution()\n",
    "best_chromosome = EdgeChromosome(20)\n",
    "best_chromosome.genes = [np.array(best_solution[i:i+49]).reshape(7, 7).astype(np.int64) for i in range(0, len(best_solution), 49)]\n",
    "fitness.display_chromosome_result(best_chromosome, \"best\", ga_instance.generations_completed)\n",
    "print(f\"Meilleure solution trouvée avec un score de {best_solution_fitness}.\")"
   ]
  }
 ],
 "metadata": {
  "kernelspec": {
   "display_name": "base",
   "language": "python",
   "name": "python3"
  },
  "language_info": {
   "codemirror_mode": {
    "name": "ipython",
    "version": 3
   },
   "file_extension": ".py",
   "mimetype": "text/x-python",
   "name": "python",
   "nbconvert_exporter": "python",
   "pygments_lexer": "ipython3",
   "version": "3.12.7"
  },
  "polyglot_notebook": {
   "kernelInfo": {
    "defaultKernelName": "csharp",
    "items": [
     {
      "aliases": [],
      "name": "csharp"
     }
    ]
   }
  }
 },
 "nbformat": 4,
 "nbformat_minor": 2
}
