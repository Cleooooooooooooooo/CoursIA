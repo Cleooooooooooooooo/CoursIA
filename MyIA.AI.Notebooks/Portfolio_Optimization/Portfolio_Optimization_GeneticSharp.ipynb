{
 "cells": [
  {
   "cell_type": "markdown",
   "metadata": {},
   "source": [
    "## Installation de GeneticSharp\n"
   ]
  },
  {
   "cell_type": "code",
   "execution_count": 21,
   "metadata": {
    "dotnet_interactive": {
     "language": "csharp"
    },
    "polyglot_notebook": {
     "kernelName": "csharp"
    }
   },
   "outputs": [],
   "source": [
    "#r \"nuget: GeneticSharp\""
   ]
  },
  {
   "cell_type": "markdown",
   "metadata": {},
   "source": [
    "## Classe Portfolio\n",
    "\n",
    "Cette classe Portfolio est utilisée pour représenter un portefeuille d'actifs financiers. Chaque actif a un prix et un rendement attendu. Cette classe inclut des méthodes pour calculer le retour total et le risque du portefeuille en fonction des poids des actifs."
   ]
  },
  {
   "cell_type": "code",
   "execution_count": 22,
   "metadata": {
    "dotnet_interactive": {
     "language": "csharp"
    },
    "polyglot_notebook": {
     "kernelName": "csharp"
    }
   },
   "outputs": [],
   "source": [
    "using System;\n",
    "using System.Collections.Generic;\n",
    "using System.Linq;\n",
    "\n",
    "// Classe Portfolio pour représenter un portefeuille d'actifs financiers\n",
    "public class Portfolio\n",
    "{\n",
    "    // Liste des noms d'actifs\n",
    "    public List<string> Assets { get; set; }\n",
    "    \n",
    "    // Dictionnaire avec les prix des actifs\n",
    "    public Dictionary<string, double> Prices { get; set; }\n",
    "    \n",
    "    // Dictionnaire contenant les rendements attendus des actifs\n",
    "    public Dictionary<string, double> ExpectedReturns { get; set; }\n",
    "\n",
    "    // Constructeur pour initialiser le portefeuille chaque actif a un prix et un rendemenent associé \n",
    "    public Portfolio(List<string> assets, Dictionary<string, double> prices, Dictionary<string, double> expectedReturns)\n",
    "    {\n",
    "        Assets = assets;\n",
    "        Prices = prices;\n",
    "        ExpectedReturns = expectedReturns;\n",
    "    }\n",
    "\n",
    "    // Calcul du retour total du portefeuille\n",
    "    public double CalculateReturn(Dictionary<string, double> weights)\n",
    "    {\n",
    "        double portfolioReturn = 0;\n",
    "        foreach (var asset in Assets)\n",
    "        {\n",
    "            portfolioReturn += weights[asset] * ExpectedReturns[asset];\n",
    "        }\n",
    "        return portfolioReturn;\n",
    "    }\n",
    "\n",
    "    // Calcul du risque du portefeuille (simplifié pour l'instant)\n",
    "    public double CalculateRisk(Dictionary<string, double> weights)\n",
    "    {\n",
    "        double risk = 0;\n",
    "        foreach (var weight in weights.Values)\n",
    "        {\n",
    "            risk += Math.Pow(weight, 2);\n",
    "        }\n",
    "        return Math.Sqrt(risk); \n",
    "    }\n",
    "}\n",
    "\n"
   ]
  },
  {
   "cell_type": "markdown",
   "metadata": {},
   "source": [
    "## Définition des Chromosomes et de la Fonction de Fitness\n",
    "\n",
    "La classe PortfolioChromosome représente un chromosome dans notre algorithme génétique. Chaque gène représente le poids d'un actif dans le portefeuille. Les poids sont initialisés aléatoirement et normalisés pour s'assurer que la somme des poids est égale à 1."
   ]
  },
  {
   "cell_type": "code",
   "execution_count": 23,
   "metadata": {
    "dotnet_interactive": {
     "language": "csharp"
    },
    "polyglot_notebook": {
     "kernelName": "csharp"
    }
   },
   "outputs": [],
   "source": [
    "using GeneticSharp;\n",
    "using System.Collections.Generic;\n",
    "using System.Linq;\n",
    "\n",
    "// Classe pour représenter un chromosome de portefeuille\n",
    "public class PortfolioChromosome : ChromosomeBase\n",
    "{\n",
    "    private List<string> _assets;\n",
    "\n",
    "    // Constructeur pour initialiser les actifs du chromosome\n",
    "    public PortfolioChromosome(List<string> assets) : base(assets.Count)\n",
    "    {\n",
    "        _assets = assets;\n",
    "        for (int i = 0; i < assets.Count; i++)\n",
    "        {\n",
    "            ReplaceGene(i, new Gene(RandomizationProvider.Current.GetDouble(0, 1)));\n",
    "        }\n",
    "    }\n",
    "\n",
    "    // Génère un gène avec une valeur aléatoire\n",
    "    public override Gene GenerateGene(int geneIndex)\n",
    "    {\n",
    "        return new Gene(RandomizationProvider.Current.GetDouble(0, 1));\n",
    "    }\n",
    "\n",
    "    // Crée un nouveau chromosome\n",
    "    public override IChromosome CreateNew()\n",
    "    {\n",
    "        return new PortfolioChromosome(_assets);\n",
    "    }\n",
    "\n",
    "    // Obtient les poids des actifs représentés par le chromosome\n",
    "    public Dictionary<string, double> GetWeights()\n",
    "    {\n",
    "        var weights = new Dictionary<string, double>();\n",
    "        for (int i = 0; i < Length; i++)\n",
    "        {\n",
    "            weights.Add(_assets[i], (double)GetGene(i).Value);\n",
    "        }\n",
    "        NormalizeWeights(weights);\n",
    "        return weights;\n",
    "    }\n",
    "\n",
    "    // Normalise les poids pour que leur somme soit égale à 1\n",
    "    private void NormalizeWeights(Dictionary<string, double> weights)\n",
    "    {\n",
    "        double sum = weights.Values.Sum();\n",
    "        var keys = weights.Keys.ToList();\n",
    "        foreach (var key in keys)\n",
    "        {\n",
    "            weights[key] /= sum;\n",
    "        }\n",
    "    }\n",
    "}\n"
   ]
  },
  {
   "cell_type": "markdown",
   "metadata": {},
   "source": [
    "## Implémentation du Solveur par Algorithme Génétique\n",
    "\n",
    "L'implémentation du solveur par algorithme génétique se fait en plusieurs étapes, incluant la définition des classes nécessaires, la configuration de l'algorithme génétique et l'exécution de l'algorithme pour trouver la meilleure solution possible."
   ]
  },
  {
   "cell_type": "code",
   "execution_count": 24,
   "metadata": {
    "dotnet_interactive": {
     "language": "csharp"
    },
    "polyglot_notebook": {
     "kernelName": "csharp"
    }
   },
   "outputs": [],
   "source": [
    "using GeneticSharp;\n",
    "\n",
    "// Classe pour évaluer la fitness d'un portefeuille\n",
    "public class PortfolioFitness : IFitness\n",
    "{\n",
    "    private Portfolio _portfolio;\n",
    "\n",
    "    // Constructeur pour initialiser le portefeuille\n",
    "    public PortfolioFitness(Portfolio portfolio)\n",
    "    {\n",
    "        _portfolio = portfolio;\n",
    "    }\n",
    "\n",
    "    // Fonction d'évaluation de la fitness\n",
    "    public double Evaluate(IChromosome chromosome)\n",
    "    {\n",
    "        var portfolioChromosome = chromosome as PortfolioChromosome;\n",
    "        var weights = portfolioChromosome.GetWeights();\n",
    "        double portfolioReturn = _portfolio.CalculateReturn(weights);\n",
    "        double risk = _portfolio.CalculateRisk(weights);\n",
    "        \n",
    "        // Objectif : Maximiser le retour et minimiser le risque\n",
    "        return portfolioReturn - risk;\n",
    "    }\n",
    "}\n"
   ]
  },
  {
   "cell_type": "markdown",
   "metadata": {},
   "source": [
    "## Test du Solveur"
   ]
  },
  {
   "cell_type": "code",
   "execution_count": 25,
   "metadata": {
    "dotnet_interactive": {
     "language": "csharp"
    },
    "polyglot_notebook": {
     "kernelName": "csharp"
    }
   },
   "outputs": [],
   "source": [
    "//on définit une liste d'actifs financiers (assets), avec leurs prix (prices) et leurs rendements attendus (expectedReturns)\n",
    "var assets = new List<string> { \"Asset0\", \"Asset1\", \"Asset2\", \"Asset3\", \"Asset4\" };\n",
    "var prices = new Dictionary<string, double>\n",
    "{\n",
    "    { \"Asset0\", 100 },\n",
    "    { \"Asset1\", 200 },\n",
    "    { \"Asset2\", 300 },\n",
    "    { \"Asset3\", 400 },\n",
    "    { \"Asset4\", 500 }\n",
    "};\n",
    "var expectedReturns = new Dictionary<string, double>\n",
    "{\n",
    "    { \"Asset0\", 0.05 },\n",
    "    { \"Asset1\", 0.10 },\n",
    "    { \"Asset2\", 0.15 },\n",
    "    { \"Asset3\", 0.20 },\n",
    "    { \"Asset4\", 0.25 }\n",
    "};\n",
    "\n",
    "// Crée un portefeuille\n",
    "var portfolio = new Portfolio(assets, prices, expectedReturns);\n",
    "\n",
    "// Crée la fitness,Un objet PortfolioFitness est créé pour évaluer la \"qualité\" des solutions potentielles (portefeuilles) générées par l'algorithme génétique. \n",
    "//La méthode Evaluate de cette classe calcule le retour total et le risque du portefeuille, et essaie de maximiser le retour tout en minimisant le risque\n",
    "var fitness = new PortfolioFitness(portfolio);\n",
    "\n",
    "// Crée le chromosome initial, il est créé pour évaluer la \"qualité\" des solutions potentielles (les portefeuilles)\n",
    "// générées par l'algorithme génétique.\n",
    "// La méthode Evaluate de cette classe calcule le retour total et le risque du portefeuille, \n",
    "//et essaie de maximiser le retour tout en minimisant le risque.\n",
    "var chromosome = new PortfolioChromosome(assets);\n",
    "\n",
    "// Une population initiale de solutions potentielles est créée. \n",
    "//La population est composée d'un minimum de 50 chromosomes (solutions) et peut aller jusqu'à 100 chromosomes\n",
    "var population = new Population(50, 100, chromosome);\n",
    "\n",
    "//Un objet GeneticAlgorithm est créé en utilisant la population, la fonction de fitness, et les mécanismes de sélection, croisement, et mutation.\n",
    "\n",
    "//RouletteWheelSelection: Sélectionne les parents proportionnellement à leur fitness.\n",
    "//UniformCrossover: Combine les gènes des parents pour créer un enfant.\n",
    "//UniformMutation: Change aléatoirement les gènes des chromosomes pour introduire de la diversité.\n",
    "//L'algorithme génétique s'exécute pour un maximum de 100 générations (GenerationNumberTermination(100)), après quoi il s'arrête.\n",
    "var ga = new GeneticAlgorithm(population, fitness, new RouletteWheelSelection(), new UniformCrossover(), new UniformMutation());\n",
    "ga.Termination = new GenerationNumberTermination(100);\n",
    "ga.Start();\n",
    "\n",
    "// Affiche les résultats\n",
    "var bestChromosome = ga.BestChromosome as PortfolioChromosome;\n",
    "var bestWeights = bestChromosome.GetWeights();\n",
    "Console.WriteLine(\"Meilleure allocation d'actifs trouvée :\");\n",
    "foreach (var asset in bestWeights.Keys)\n",
    "{\n",
    "    Console.WriteLine($\"{asset}: {bestWeights[asset]:P2}\");\n",
    "}\n",
    "Console.WriteLine($\"Retour attendu: {portfolio.CalculateReturn(bestWeights):P2}\");\n",
    "Console.WriteLine($\"Risque: {portfolio.CalculateRisk(bestWeights):P2}\");\n"
   ]
  }
 ],
 "metadata": {
  "kernelspec": {
   "display_name": ".NET (C#)",
   "language": "C#",
   "name": ".net-csharp"
  },
  "polyglot_notebook": {
   "kernelInfo": {
    "defaultKernelName": "csharp",
    "items": [
     {
      "aliases": [],
      "languageName": "csharp",
      "name": "csharp"
     }
    ]
   }
  }
 },
 "nbformat": 4,
 "nbformat_minor": 2
}
