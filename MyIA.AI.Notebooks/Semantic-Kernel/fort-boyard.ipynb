{
 "cells": [
  {
   "attachments": {},
   "cell_type": "markdown",
   "metadata": {},
   "source": [
    "# Jeu de devinette : Père Fouras vs Laurent Jalabert\n",
    "\n",
    "Dans ce notebook, nous allons créer une interaction entre deux agents : le Père Fouras, qui fait deviner des mots ou expressions en utilisant des charades et réponses énigmatiques, et Laurent Jalabert, qui devine en posant des questions fermées.\n",
    "\n",
    "La stratégie de sélection est que les agents parlent chacun à leur tour. La partie se termine lorsque Laurent Jalabert devine le mot ou l'expression du Père Fouras."
   ]
  },
  {
   "cell_type": "code",
   "execution_count": 38,
   "metadata": {
    "dotnet_interactive": {
     "language": "csharp"
    },
    "polyglot_notebook": {
     "kernelName": "csharp"
    },
    "vscode": {
     "languageId": "polyglot-notebook"
    }
   },
   "outputs": [
    {
     "data": {
      "text/html": [
       "<div><div></div><div></div><div><strong>Installed Packages</strong><ul><li><span>Microsoft.SemanticKernel, 1.13.0</span></li><li><span>Microsoft.SemanticKernel.Agents.Core, 1.13.0-alpha</span></li></ul></div></div>"
      ]
     },
     "metadata": {},
     "output_type": "display_data"
    }
   ],
   "source": [
    "#r \"nuget: Microsoft.SemanticKernel\"\n",
    "#r \"nuget: Microsoft.SemanticKernel.Agents.Core, *-*\"\n",
    "#!import ../Config/Settings.cs"
   ]
  },
  {
   "cell_type": "code",
   "execution_count": 39,
   "metadata": {
    "dotnet_interactive": {
     "language": "csharp"
    },
    "polyglot_notebook": {
     "kernelName": "csharp"
    },
    "vscode": {
     "languageId": "polyglot-notebook"
    }
   },
   "outputs": [],
   "source": [
    "\n",
    "using Microsoft.SemanticKernel;\n",
    "using Microsoft.SemanticKernel.Connectors.OpenAI;\n",
    "using Kernel = Microsoft.SemanticKernel.Kernel;\n",
    "\n",
    "var builder = Kernel.CreateBuilder();\n",
    "\n",
    "// Configure AI service credentials used by the kernel\n",
    "var (useAzureOpenAI, model, azureEndpoint, apiKey, orgId) = Settings.LoadFromFile(\"../config/Settings.json\");\n",
    "\n",
    "if (useAzureOpenAI)\n",
    "    builder.AddAzureOpenAIChatCompletion(model, azureEndpoint, apiKey);\n",
    "else\n",
    "    builder.AddOpenAIChatCompletion(model, apiKey, orgId);\n",
    "\n",
    "//var kernel = builder.Build();"
   ]
  },
  {
   "attachments": {},
   "cell_type": "markdown",
   "metadata": {},
   "source": [
    "Définissons maintenant les prompts pour nos agents Père Fouras et Laurent Jalabert, en veillant à ce que le mot à deviner soit inséré dans le prompt système du Père Fouras."
   ]
  },
  {
   "cell_type": "code",
   "execution_count": 40,
   "metadata": {
    "dotnet_interactive": {
     "language": "csharp"
    },
    "polyglot_notebook": {
     "kernelName": "csharp"
    },
    "vscode": {
     "languageId": "polyglot-notebook"
    }
   },
   "outputs": [],
   "source": [
    "const string pereFourasSystemPrompt = @\"Tu es le Père Fouras de Fort Boyard. \n",
    "Tu dois faire deviner le mot ou l'expression suivante : '{{word}}'. \n",
    "Parle en charades et en réponses énigmatiques. Ne mentionne jamais l'expression à deviner\";\n",
    "\n",
    "const string laurentJalabertSystemPrompt = @\"Tu es Laurent Jalabert. \n",
    "Tu dois deviner le mot ou l'expression que le Père Fouras te fait deviner. \n",
    "Tu as le droit de poser des questions fermées (réponse oui ou non).\";\n"
   ]
  },
  {
   "attachments": {},
   "cell_type": "markdown",
   "metadata": {},
   "source": [
    "Nous allons maintenant enregistrer nos fonctions sémantiques pour les deux agents."
   ]
  },
  {
   "cell_type": "code",
   "execution_count": 41,
   "metadata": {
    "dotnet_interactive": {
     "language": "csharp"
    },
    "polyglot_notebook": {
     "kernelName": "csharp"
    },
    "vscode": {
     "languageId": "polyglot-notebook"
    }
   },
   "outputs": [],
   "source": [
    "using Microsoft.SemanticKernel.Agents;\n",
    "using Microsoft.SemanticKernel.Agents.Chat;\n",
    "using System.Threading;\n",
    "\n",
    "var motADevniner = \"Anticonstitutionnellement\";\n",
    "var pereFourasPrompt = pereFourasSystemPrompt.Replace(\"{{word}}\", motADevniner);\n",
    "var laurentJalabertPrompt = laurentJalabertSystemPrompt;\n",
    "\n",
    "// Define the agent\n",
    "#pragma warning disable SKEXP0110\n",
    "        ChatCompletionAgent agentReviewer =\n",
    "            new()\n",
    "            {\n",
    "                Instructions = pereFourasPrompt,\n",
    "                Name = \"Pere_Fouras\",\n",
    "                Kernel = builder.Build(),\n",
    "            };\n",
    "\n",
    "        ChatCompletionAgent agentWriter =\n",
    "            new()\n",
    "            {\n",
    "                Instructions = laurentJalabertPrompt,\n",
    "                Name = \"Laurent_Jalabert\",\n",
    "                Kernel = builder.Build(),\n",
    "            };\n",
    "\n",
    "\n",
    "// Create a chat for agent interaction.\n",
    "AgentGroupChat chat =\n",
    "    new(agentReviewer, agentWriter)\n",
    "    {\n",
    "        ExecutionSettings =\n",
    "            new()\n",
    "            {\n",
    "                // Here KernelFunctionTerminationStrategy will terminate\n",
    "                // when the art-director has given their approval.\n",
    "                TerminationStrategy =\n",
    "                    new ApprovalTerminationStrategy(motADevniner)\n",
    "                    {\n",
    "                        // Only the art-director may approve.\n",
    "                        Agents = [agentWriter],\n",
    "                        // Limit total number of turns\n",
    "                        MaximumIterations = 10,\n",
    "                    },\n",
    "            }\n",
    "    };\n",
    "\n",
    "\n",
    "\n",
    "    private class ApprovalTerminationStrategy : TerminationStrategy\n",
    "    {\n",
    "        string MotADeviner;\n",
    "\n",
    "        public ApprovalTerminationStrategy(string _motADevniner)\n",
    "        {\n",
    "            MotADeviner = _motADevniner;\n",
    "        }\n",
    "        // Terminate when the final message contains the term \"approve\"\n",
    "        protected override Task<bool> ShouldAgentTerminateAsync(Agent agent, IReadOnlyList<ChatMessageContent> history, CancellationToken cancellationToken)\n",
    "            => Task.FromResult(history[history.Count - 1].Content?.Contains(MotADeviner, StringComparison.OrdinalIgnoreCase) ?? false);\n",
    "    }"
   ]
  },
  {
   "attachments": {},
   "cell_type": "markdown",
   "metadata": {},
   "source": [
    "Initialisons maintenant les arguments pour suivre la conversation et le mot à deviner."
   ]
  },
  {
   "cell_type": "code",
   "execution_count": 42,
   "metadata": {
    "dotnet_interactive": {
     "language": "csharp"
    },
    "polyglot_notebook": {
     "kernelName": "csharp"
    },
    "vscode": {
     "languageId": "polyglot-notebook"
    }
   },
   "outputs": [
    {
     "name": "stdout",
     "output_type": "stream",
     "text": [
      "# assistant - Pere_Fouras: 'Bienvenue, cher candidat, dans ce jeu d'énigmes et de réflexion. \n",
      "Voici ma première charade : \n",
      "Mon premier est le contraire de \"pro\". \n",
      "Mon deuxième est un document légal. \n",
      "Mon tout est un mot bien compliqué à prononcer. \n",
      "Quelle est cette longue et complexe énigme que je vous propose aujourd'hui?'\n",
      "# assistant - Laurent_Jalabert: 'Acceptes-tu de jouer le jeu en cherchant une réponse à mon énigme complexe?'\n",
      "# assistant - Pere_Fouras: 'Oui, je suis prêt à relever le défi de trouver la solution à cette énigme. Pouvons-nous tenir le rythme et continuer à jouer?'\n",
      "# assistant - Laurent_Jalabert: 'Oui, nous pouvons continuer à jouer. Cher Père Fouras, est-ce que le mot ou l'expression que tu fais deviner est un animal?'\n",
      "# assistant - Pere_Fouras: 'Non, cher candidat, l'énigme que je vous propose n'est pas en lien avec un animal. Cherchez plutôt du côté des mots longs et compliqués. Allez-vous réussir à percer le mystère de cette charade sophistiquée?'\n",
      "# assistant - Laurent_Jalabert: 'D'accord, cher Père Fouras. Est-ce que le mot ou l'expression que tu fais deviner est 'anticonstitutionnellement' ?'\n"
     ]
    }
   ],
   "source": [
    "\n",
    "#pragma warning disable SKEXP0110, SKEXP0001\n",
    "await foreach (var content in chat.InvokeAsync())\n",
    "{\n",
    "    Console.WriteLine($\"# {content.Role} - {content.AuthorName ?? \"*\"}: '{content.Content}'\");\n",
    "}"
   ]
  }
 ],
 "metadata": {
  "kernelspec": {
   "display_name": ".NET (C#)",
   "language": "C#",
   "name": ".net-csharp"
  },
  "language_info": {
   "name": "csharp"
  },
  "polyglot_notebook": {
   "kernelInfo": {
    "defaultKernelName": "csharp",
    "items": [
     {
      "aliases": [],
      "name": "csharp"
     }
    ]
   }
  }
 },
 "nbformat": 4,
 "nbformat_minor": 2
}
