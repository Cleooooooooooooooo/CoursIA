{
 "cells": [
  {
   "cell_type": "markdown",
   "metadata": {},
   "source": [
    "## **Notebook : Découverte de PyPhi et des principes d’IIT**\n",
    "\n",
    "### **Sommaire**\n",
    "1. [Introduction à l’IIT](#sec1)  \n",
    "2. [Installation et importation de PyPhi](#sec2)  \n",
    "3. [Création d’un réseau simple (Network)](#sec3)  \n",
    "4. [Définition d’un Subsystem et calcul de \\(\\Phi\\)](#sec4)  \n",
    "5. [Concepts, mécanismes, et structure cause-effet (CES)](#sec5)  \n",
    "6. [Exploration d’exemples avancés (macro, actual causation…)](#sec6)  \n",
    "7. [Ressources complémentaires](#sec7)\n",
    "\n",
    "---\n",
    "\n",
    "<a id=\"sec1\"></a>\n",
    "## 1. Introduction à l’IIT\n",
    "\n",
    "**Objectif** : l’**Integrated Information Theory** (IIT), introduite par Giulio Tononi et collaborateurs, propose une mesure de la conscience à partir de la quantité d’information intégrée par un système. En pratique :\n",
    "\n",
    "- Un **système** (réseau de neurones, circuit logique, etc.) est représenté par une **Transition Probability Matrix (TPM)**.\n",
    "- L’information intégrée est notée \\(\\Phi\\) (Phi). PyPhi calcule \\(\\Phi\\) pour des sous-systèmes et explore la structure causale (Cause-Effect Structure, ou *CES*).\n",
    "- L’**objectif pédagogique** de ce notebook est de créer un petit réseau, de définir un état, et de calculer \\(\\Phi\\) pour différents sous-ensembles (subsystèmes).\n",
    "\n",
    "---\n",
    "\n",
    "<a id=\"sec2\"></a>\n",
    "## 2. Installation et importation de PyPhi\n",
    "\n",
    "> **Remarque** : PyPhi exige parfois une installation depuis la source ou via `pip`.  \n",
    "> **Pré-requis** : Python 3.7+ (recommandé).\n",
    "\n",
    "Utiliser conda create --name pyphi python=3.7 -y\n",
    "\n",
    "Sélectionner l'environnement nouvellement créé comme noyau"
   ]
  },
  {
   "cell_type": "code",
   "execution_count": 53,
   "metadata": {
    "dotnet_interactive": {
     "language": "csharp"
    },
    "polyglot_notebook": {
     "kernelName": "csharp"
    }
   },
   "outputs": [
    {
     "name": "stdout",
     "output_type": "stream",
     "text": [
      "Requirement already satisfied: pyphi in c:\\programdata\\miniconda3\\envs\\pyphi\\lib\\site-packages (1.2.0)\n",
      "Requirement already satisfied: scipy>=0.13.3 in c:\\programdata\\miniconda3\\envs\\pyphi\\lib\\site-packages (from pyphi) (1.7.3)\n",
      "Requirement already satisfied: decorator>=4.0.0 in c:\\users\\administrateur.000\\appdata\\roaming\\python\\python37\\site-packages (from pyphi) (4.4.2)\n",
      "Requirement already satisfied: joblib>=0.8.0 in c:\\programdata\\miniconda3\\envs\\pyphi\\lib\\site-packages (from pyphi) (1.3.2)\n",
      "Requirement already satisfied: pymongo>=2.7.1 in c:\\programdata\\miniconda3\\envs\\pyphi\\lib\\site-packages (from pyphi) (4.7.3)\n",
      "Requirement already satisfied: redis>=2.10.5 in c:\\programdata\\miniconda3\\envs\\pyphi\\lib\\site-packages (from pyphi) (5.0.8)\n",
      "Requirement already satisfied: pyemd>=0.3.0 in c:\\programdata\\miniconda3\\envs\\pyphi\\lib\\site-packages (from pyphi) (1.0.0)\n",
      "Requirement already satisfied: psutil>=2.1.1 in c:\\programdata\\miniconda3\\envs\\pyphi\\lib\\site-packages (from pyphi) (5.9.3)\n",
      "Requirement already satisfied: tblib>=1.3.2 in c:\\programdata\\miniconda3\\envs\\pyphi\\lib\\site-packages (from pyphi) (2.0.0)\n",
      "Requirement already satisfied: numpy>=1.11.0 in c:\\programdata\\miniconda3\\envs\\pyphi\\lib\\site-packages (from pyphi) (1.21.6)\n",
      "Requirement already satisfied: pyyaml>=3.13 in c:\\programdata\\miniconda3\\envs\\pyphi\\lib\\site-packages (from pyphi) (6.0.1)\n",
      "Requirement already satisfied: tqdm>=4.20.0 in c:\\programdata\\miniconda3\\envs\\pyphi\\lib\\site-packages (from pyphi) (4.67.1)\n",
      "Requirement already satisfied: dnspython<3.0.0,>=1.16.0 in c:\\programdata\\miniconda3\\envs\\pyphi\\lib\\site-packages (from pymongo>=2.7.1->pyphi) (2.3.0)\n",
      "Requirement already satisfied: async-timeout>=4.0.3 in c:\\programdata\\miniconda3\\envs\\pyphi\\lib\\site-packages (from redis>=2.10.5->pyphi) (4.0.3)\n",
      "Requirement already satisfied: importlib-metadata>=1.0 in c:\\programdata\\miniconda3\\envs\\pyphi\\lib\\site-packages (from redis>=2.10.5->pyphi) (6.7.0)\n",
      "Requirement already satisfied: typing-extensions in c:\\programdata\\miniconda3\\envs\\pyphi\\lib\\site-packages (from redis>=2.10.5->pyphi) (4.7.1)\n",
      "Requirement already satisfied: colorama in c:\\users\\administrateur.000\\appdata\\roaming\\python\\python37\\site-packages (from tqdm>=4.20.0->pyphi) (0.4.3)\n",
      "Requirement already satisfied: zipp>=0.5 in c:\\programdata\\miniconda3\\envs\\pyphi\\lib\\site-packages (from importlib-metadata>=1.0->redis>=2.10.5->pyphi) (3.15.0)\n"
     ]
    }
   ],
   "source": [
    "# Dans un terminal ou dans un environnement conda :\n",
    "! pip install pyphi\n"
   ]
  },
  {
   "cell_type": "code",
   "execution_count": 54,
   "metadata": {
    "dotnet_interactive": {
     "language": "csharp"
    },
    "polyglot_notebook": {
     "kernelName": "csharp"
    }
   },
   "outputs": [
    {
     "name": "stdout",
     "output_type": "stream",
     "text": [
      "PyPhi version: 1.2.0\n"
     ]
    }
   ],
   "source": [
    "import pyphi\n",
    "\n",
    "print(\"PyPhi version:\", pyphi.__version__)"
   ]
  },
  {
   "cell_type": "markdown",
   "metadata": {},
   "source": [
    "<a id=\"sec3\"></a>\n",
    "## 3. Création d’un réseau simple (Network)\n",
    "\n",
    "### 3.1. Structure d’un réseau\n",
    "\n",
    "Un **Network** dans PyPhi est défini par :\n",
    "- Une **TPM** (`ExplicitTPM`) en forme de matrice multidimensionnelle ou un array 2D.\n",
    "- Une **connectivity matrix** (CM), indiquant comment les nœuds sont connectés.\n",
    "\n",
    "### 3.2. Exemple : un circuit logique\n",
    "\n",
    "Nous allons créer un réseau (circuit) minimaliste à 3 nœuds (A, B, C) :\n",
    "\n",
    "- **A** : passerelle logique, reçoit des entrées de B et C  \n",
    "- **B** : un XOR des entrées de A et C  \n",
    "- **C** : identique à B ou un AND/OR, selon l’exemple souhaité "
   ]
  },
  {
   "cell_type": "code",
   "execution_count": 55,
   "metadata": {},
   "outputs": [
    {
     "name": "stdout",
     "output_type": "stream",
     "text": [
      "Nodes: NodeLabels(('A', 'B', 'C'))\n",
      "TPM shape: (2, 2, 2, 3)\n",
      "Connectivity matrix:\n",
      " [[0 1 1]\n",
      " [1 0 1]\n",
      " [1 1 0]]\n"
     ]
    }
   ],
   "source": [
    "import numpy as np\n",
    "import pyphi\n",
    "\n",
    "# Exemple d'un petit réseau XOR\n",
    "# 3 noeuds : A, B, C\n",
    "# On utilise un exemple déjà inclus dans pyphi.examples\n",
    "\n",
    "network = pyphi.examples.xor_network()\n",
    "\n",
    "print(\"Nodes:\", network.node_labels)\n",
    "print(\"TPM shape:\", network.tpm.shape)\n",
    "print(\"Connectivity matrix:\\n\", network.cm)"
   ]
  },
  {
   "cell_type": "markdown",
   "metadata": {},
   "source": [
    "**Comment ça marche ?**  \n",
    "- `pyphi.examples.xor_network()` renvoie un réseau (Network) de taille 3, où chaque nœud est un XOR à deux entrées (sans auto-connexion).  \n",
    "- La **TPM** est stockée dans `network.tpm`, et chaque dimension correspond à un état binaire (`0/1`). La `TPM` est un tableau multidimensionnel de taille (2, 2, 2, 3), reflétant les états binaires pour 3 nœuds.\n",
    "La matrice de connectivité montre les liens (XOR signifie que chaque nœud dépend des deux autres sans boucles sur soi-même).\n",
    "\n",
    "\n",
    "---\n",
    "\n",
    "### 3.3. Inspection de la TPM\n",
    "\n",
    "Pour mieux comprendre le fonctionnement du réseau, vous pouvez examiner directement les valeurs de la matrice de transition (TPM). Celle-ci peut être soit en _state-by-state_ (SBS) ou _state-by-node_ (SBN) selon votre cas. PyPhi propose des utilitaires de conversion.\n"
   ]
  },
  {
   "cell_type": "code",
   "execution_count": 56,
   "metadata": {},
   "outputs": [
    {
     "name": "stdout",
     "output_type": "stream",
     "text": [
      "TPM (state-by-node) shape: (2, 2, 2, 3)\n",
      "Premier 'slice' de la TPM (correspondant à un sous-état) :\n",
      " [[[0. 0. 0.]\n",
      "  [1. 1. 0.]]\n",
      "\n",
      " [[1. 0. 1.]\n",
      "  [0. 1. 1.]]]\n",
      "\n",
      "TPM (state-by-state) shape: (8, 8)\n",
      "Quelques lignes du TPM:\n",
      " [[1. 0. 0. 0. 0. 0. 0. 0.]\n",
      " [0. 0. 0. 0. 0. 0. 1. 0.]\n",
      " [0. 0. 0. 0. 0. 1. 0. 0.]\n",
      " [0. 0. 0. 1. 0. 0. 0. 0.]]\n"
     ]
    }
   ],
   "source": [
    "import pyphi.convert\n",
    "\n",
    "sbn_tpm = network.tpm\n",
    "print(\"TPM (state-by-node) shape:\", sbn_tpm.shape)\n",
    "\n",
    "# Pour visualiser un 'slice' ou un 'flatten' :\n",
    "print(\"Premier 'slice' de la TPM (correspondant à un sous-état) :\\n\", sbn_tpm[0])\n",
    "\n",
    "# Passer au format state-by-state pour mieux le parcourir\n",
    "sbs_tpm = pyphi.convert.state_by_node2state_by_state(sbn_tpm)\n",
    "print(\"\\nTPM (state-by-state) shape:\", sbs_tpm.shape)\n",
    "print(\"Quelques lignes du TPM:\\n\", sbs_tpm[:4])\n"
   ]
  },
  {
   "cell_type": "markdown",
   "metadata": {},
   "source": [
    "<a id=\"sec4\"></a>\n",
    "## 4. Définition d’un Subsystem et calcul de \\(\\Phi\\)\n",
    "\n",
    "### 4.1. Sous-système (Subsystem)\n",
    "\n",
    "Un **Subsystem** se définit en spécifiant :\n",
    "1. Un **Network** ;\n",
    "2. Un **état** du réseau (ex. `(0, 0, 0)` pour `A=0, B=0, C=0`) ;\n",
    "3. Les indices de nœuds internes qu’on considère comme faisant partie du sous-système.\n",
    "\n",
    "Ensuite, PyPhi peut calculer la valeur de \\(\\Phi\\) pour ce sous-système."
   ]
  },
  {
   "cell_type": "code",
   "execution_count": 57,
   "metadata": {},
   "outputs": [
    {
     "name": "stderr",
     "output_type": "stream",
     "text": [
      "                                                                 "
     ]
    },
    {
     "name": "stdout",
     "output_type": "stream",
     "text": [
      "Φ pour le sous-système (0,1,2) à l’état (0,0,0) : 1.874999\n"
     ]
    },
    {
     "name": "stderr",
     "output_type": "stream",
     "text": [
      "\r"
     ]
    }
   ],
   "source": [
    "# État de départ\n",
    "state = (0, 0, 0)\n",
    "\n",
    "# Créons un Subsystem pour l’ensemble des nœuds (0, 1, 2)\n",
    "subsystem = pyphi.Subsystem(network, state, (0, 1, 2))\n",
    "\n",
    "# Calcul de Phi\n",
    "phi_value = pyphi.compute.phi(subsystem)\n",
    "\n",
    "print(\"Φ pour le sous-système (0,1,2) à l’état (0,0,0) :\", phi_value)"
   ]
  },
  {
   "cell_type": "markdown",
   "metadata": {},
   "source": [
    "### 4.2. States inaccessibles et validation\n",
    "PyPhi, par défaut, peut émettre des erreurs (`StateUnreachableError`) si l’état que vous définissez n’est pas accessible depuis la TPM. Ci-dessous, on montre comment désactiver temporairement la validation pour s’assurer que PyPhi ne bloque pas le calcul.\n"
   ]
  },
  {
   "cell_type": "code",
   "execution_count": 58,
   "metadata": {},
   "outputs": [
    {
     "name": "stderr",
     "output_type": "stream",
     "text": [
      "                                                                 "
     ]
    },
    {
     "name": "stdout",
     "output_type": "stream",
     "text": [
      "État inaccessible, PyPhi a lancé une exception !\n"
     ]
    },
    {
     "name": "stderr",
     "output_type": "stream",
     "text": [
      "\r"
     ]
    }
   ],
   "source": [
    "# Configurer PyPhi pour ignorer les inaccessibilités d’états\n",
    "pyphi.config.VALIDATE_SUBSYSTEM_STATES = False\n",
    "\n",
    "# Réessayer un état arbitraire\n",
    "test_state = (1,0,0)\n",
    "subsys_test = pyphi.Subsystem(network, test_state, (0,1,2))\n",
    "try:\n",
    "    val_test = pyphi.compute.phi(subsys_test)\n",
    "    print(f\"État {test_state} -> Φ = {val_test:.5f}\")\n",
    "except pyphi.exceptions.StateUnreachableError:\n",
    "    print(\"État inaccessible, PyPhi a lancé une exception !\")\n"
   ]
  },
  {
   "cell_type": "markdown",
   "metadata": {},
   "source": [
    "On peut également calculer \\\\(\\Phi\\\\) pour d'autres états accessibles:"
   ]
  },
  {
   "cell_type": "code",
   "execution_count": 59,
   "metadata": {},
   "outputs": [
    {
     "name": "stderr",
     "output_type": "stream",
     "text": [
      "                                                                 \r"
     ]
    },
    {
     "name": "stdout",
     "output_type": "stream",
     "text": [
      "État (0, 0, 0) -> Φ = 1.87500\n"
     ]
    },
    {
     "name": "stderr",
     "output_type": "stream",
     "text": [
      "                                                                 \r"
     ]
    },
    {
     "name": "stdout",
     "output_type": "stream",
     "text": [
      "État (0, 1, 1) -> Φ = 1.87500\n"
     ]
    },
    {
     "name": "stderr",
     "output_type": "stream",
     "text": [
      "                                                                 "
     ]
    },
    {
     "name": "stdout",
     "output_type": "stream",
     "text": [
      "État (1, 1, 0) -> Φ = 1.87500\n"
     ]
    },
    {
     "name": "stderr",
     "output_type": "stream",
     "text": [
      "\r"
     ]
    }
   ],
   "source": [
    "# Exemple d'états stables pour éviter StateUnreachableError\n",
    "for s in [(0,0,0), (0,1,1), (1,1,0)]:\n",
    "    subsys = pyphi.Subsystem(network, s, (0,1,2))\n",
    "    val = pyphi.compute.phi(subsys)\n",
    "    print(f\"État {s} -> Φ = {val:.5f}\")\n"
   ]
  },
  {
   "cell_type": "markdown",
   "metadata": {},
   "source": [
    "<a id=\"sec5\"></a>\n",
    "## 5. Concepts, mécanismes, et structure cause-effet (CES)\n",
    "\n",
    "PyPhi peut également détailler la structure de cause-effet (CES) :\n",
    "\n",
    "- Chaque *concept* correspond à un **mécanisme** (ex. nœud simple ou sous-groupe de nœuds) et à son purview (cause et/ou effet)."
   ]
  },
  {
   "cell_type": "code",
   "execution_count": 60,
   "metadata": {},
   "outputs": [
    {
     "name": "stderr",
     "output_type": "stream",
     "text": [
      "                                                         "
     ]
    },
    {
     "name": "stdout",
     "output_type": "stream",
     "text": [
      "Nombre de concepts dans la CES : 3\n",
      "Liste des mécanismes : (['A', 'B'], ['A', 'C'], ['B', 'C'])\n"
     ]
    },
    {
     "name": "stderr",
     "output_type": "stream",
     "text": [
      "\r"
     ]
    }
   ],
   "source": [
    "ces = pyphi.compute.ces(subsystem)\n",
    "print(\"Nombre de concepts dans la CES :\", len(ces))\n",
    "print(\"Liste des mécanismes :\", ces.labeled_mechanisms)"
   ]
  },
  {
   "cell_type": "markdown",
   "metadata": {},
   "source": [
    "### 5.1. Analyse d’un concept spécifique\n",
    "\n",
    "Chaque concept est défini par un mécanisme (un ensemble de nœuds) et un purview (un ensemble de nœuds qui subissent ses effets ou le causent). Explorons le premier concept dans la CES, pour comprendre sa cause / effet et son petit phi (\\\\(\\\\varphi\\\\)).\n"
   ]
  },
  {
   "cell_type": "code",
   "execution_count": 61,
   "metadata": {},
   "outputs": [
    {
     "name": "stdout",
     "output_type": "stream",
     "text": [
      "Mécanisme: (0, 1)\n",
      "Cause purview: (0, 1, 2)\n",
      "Cause repertoire:\n",
      " [[[0.5 0. ]\n",
      "  [0.  0. ]]\n",
      "\n",
      " [[0.  0. ]\n",
      "  [0.  0.5]]]\n",
      "Effect purview: (2,)\n",
      "Effect repertoire:\n",
      " [[[1. 0.]]]\n",
      "Petit phi (φ) = 0.5\n"
     ]
    }
   ],
   "source": [
    "# Prenons le premier concept dans la CES\n",
    "first_concept = ces[0]\n",
    "print(\"Mécanisme:\", first_concept.mechanism)\n",
    "print(\"Cause purview:\", first_concept.cause.purview)\n",
    "print(\"Cause repertoire:\\n\", first_concept.cause.repertoire)\n",
    "print(\"Effect purview:\", first_concept.effect.purview)\n",
    "print(\"Effect repertoire:\\n\", first_concept.effect.repertoire)\n",
    "print(\"Petit phi (φ) =\", first_concept.phi)\n"
   ]
  },
  {
   "cell_type": "markdown",
   "metadata": {},
   "source": [
    "Vous pouvez inspecter chaque concept : \n",
    "- son mécanisme,\n",
    "- son purview, \n",
    "- et la valeur \\\\(\\varphi\\\\ (petit phi) mesurant l’irréductibilité du mécanisme.\n",
    "\n",
    "---\n",
    "\n",
    "<a id=\"sec6\"></a>\n",
    "## 6. Exemple avancé : analyse de causalité et macro-subsystems\n",
    "\n",
    "### 6.1 Actual Causation\n",
    "\n",
    "PyPhi offre `pyphi.actual` pour analyser la causalité effective (\\\"What caused what?\\\"). On définit un `Transition` : état avant, état après, et on cherche les liens causaux irréductibles.\n",
    "\n"
   ]
  },
  {
   "cell_type": "code",
   "execution_count": 62,
   "metadata": {},
   "outputs": [
    {
     "name": "stdout",
     "output_type": "stream",
     "text": [
      "Nombre de causal links : 10\n",
      "CausalLink\n",
      "  α = 1.0  [B, C] ◀━━ [A]\n",
      "CausalLink\n",
      "  α = 1.0  [A, C] ◀━━ [B]\n",
      "CausalLink\n",
      "  α = 1.0  [A, B] ◀━━ [C]\n",
      "CausalLink\n",
      "  α = 1.0  [A, B, C] ◀━━ [A, B]\n",
      "CausalLink\n",
      "  α = 1.0  [A, B, C] ◀━━ [A, C]\n",
      "CausalLink\n",
      "  α = 1.0  [A, B, C] ◀━━ [B, C]\n",
      "CausalLink\n",
      "  α = 1.0  [A, B] ━━▶ [C]\n",
      "CausalLink\n",
      "  α = 1.0  [A, C] ━━▶ [B]\n",
      "CausalLink\n",
      "  α = 1.0  [B, C] ━━▶ [A]\n",
      "CausalLink\n",
      "  α = 2.0  [A, B, C] ━━▶ [A, B, C]\n"
     ]
    }
   ],
   "source": [
    "import pyphi\n",
    "import pyphi.actual\n",
    "\n",
    "pyphi.config.VALIDATE_SUBSYSTEM_STATES = False\n",
    "\n",
    "before_state = (1,1,1)\n",
    "after_state  = (0,0,0)\n",
    "\n",
    "transition = pyphi.actual.Transition(\n",
    "    network,\n",
    "    before_state,\n",
    "    after_state,\n",
    "    cause_indices=(0,1,2),\n",
    "    effect_indices=(0,1,2)\n",
    ")\n",
    "\n",
    "account = pyphi.actual.account(transition)\n",
    "print(\"Nombre de causal links :\", len(account))\n",
    "for link in account:\n",
    "    print(link)\n"
   ]
  },
  {
   "cell_type": "markdown",
   "metadata": {},
   "source": [
    "### 6.2 Macro-subsystems (coarse-graining, blackboxing)\n",
    "\n",
    "Le module `pyphi.macro` permet d'agréger des nœuds (coarse-grain) ou de blackboxer certains éléments. \n",
    "On peut ainsi recalculer \\\\(\\Phi\\\\) à une échelle différente, ce qui rejoint l’idée de l’ICT qu’on peut analyser l’information intégrée à divers niveaux.\n",
    "\n"
   ]
  },
  {
   "cell_type": "markdown",
   "metadata": {},
   "source": [
    "<a id=\"sec7\"></a>\n",
    "## 7. Ressources complémentaires\n",
    "\n",
    "- [Documentation PyPhi](https://pyphi.readthedocs.io/en/stable/)\",\n",
    "- [\\\"Major Complex\\\", \\\"Actual Causation\\\"](https://github.com/wmayner/pyphi/tree/master/examples)\",\n",
    "- Travaux de Tononi, Koch, Oizumi, Albantakis, etc. (cf. publications IIT)\",\n",
    "- Pour aller plus loin : l’ICT, l’analyse fractale de l’information, etc.\n",
    "\n",
    "**Fin du notebook**. \n",
    "Merci pour votre attention !"
   ]
  }
 ],
 "metadata": {
  "kernelspec": {
   "display_name": "pyphi",
   "language": "python",
   "name": "python3"
  },
  "language_info": {
   "codemirror_mode": {
    "name": "ipython",
    "version": 3
   },
   "file_extension": ".py",
   "mimetype": "text/x-python",
   "name": "python",
   "nbconvert_exporter": "python",
   "pygments_lexer": "ipython3",
   "version": "3.7.12"
  },
  "polyglot_notebook": {
   "kernelInfo": {
    "defaultKernelName": "csharp",
    "items": [
     {
      "aliases": [],
      "name": "csharp"
     }
    ]
   }
  }
 },
 "nbformat": 4,
 "nbformat_minor": 2
}
