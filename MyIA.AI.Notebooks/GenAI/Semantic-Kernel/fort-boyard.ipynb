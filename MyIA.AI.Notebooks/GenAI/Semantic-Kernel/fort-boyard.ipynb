{
 "cells": [
  {
   "attachments": {},
   "cell_type": "markdown",
   "metadata": {},
   "source": [
    "# Jeu de devinette : Père Fouras vs Laurent Jalabert\n",
    "\n",
    "Dans ce notebook, nous allons créer une interaction entre deux agents : le Père Fouras, qui fait deviner des mots ou expressions en utilisant des charades et réponses énigmatiques, et Laurent Jalabert, qui devine en posant des questions fermées.\n",
    "\n",
    "La stratégie de sélection est que les agents parlent chacun à leur tour. La partie se termine lorsque Laurent Jalabert devine le mot ou l'expression du Père Fouras."
   ]
  },
  {
   "cell_type": "code",
   "execution_count": 2,
   "metadata": {
    "dotnet_interactive": {
     "language": "csharp"
    },
    "polyglot_notebook": {
     "kernelName": "csharp"
    },
    "vscode": {
     "languageId": "polyglot-notebook"
    }
   },
   "outputs": [
    {
     "data": {
      "text/html": [
       "<div><div></div><div></div><div><strong>Installed Packages</strong><ul><li><span>Microsoft.SemanticKernel, 1.35.0</span></li><li><span>Microsoft.SemanticKernel.Agents.Core, 1.35.0-alpha</span></li></ul></div></div>"
      ]
     },
     "metadata": {},
     "output_type": "display_data"
    }
   ],
   "source": [
    "#r \"nuget: Microsoft.SemanticKernel\"\n",
    "#r \"nuget: Microsoft.SemanticKernel.Agents.Core, *-*\"\n",
    "#!import ../../Config/Settings.cs"
   ]
  },
  {
   "cell_type": "code",
   "execution_count": 4,
   "metadata": {
    "dotnet_interactive": {
     "language": "csharp"
    },
    "polyglot_notebook": {
     "kernelName": "csharp"
    },
    "vscode": {
     "languageId": "polyglot-notebook"
    }
   },
   "outputs": [],
   "source": [
    "\n",
    "using Microsoft.SemanticKernel;\n",
    "using Microsoft.SemanticKernel.Connectors.OpenAI;\n",
    "using Kernel = Microsoft.SemanticKernel.Kernel;\n",
    "\n",
    "var builder = Kernel.CreateBuilder();\n",
    "\n",
    "// Configure AI service credentials used by the kernel\n",
    "var (useAzureOpenAI, model, azureEndpoint, apiKey, orgId) = Settings.LoadFromFile(\"../../config/Settings.json\");\n",
    "\n",
    "if (useAzureOpenAI)\n",
    "    builder.AddAzureOpenAIChatCompletion(model, azureEndpoint, apiKey);\n",
    "else\n",
    "    builder.AddOpenAIChatCompletion(model, apiKey, orgId);\n",
    "\n",
    "//var kernel = builder.Build();"
   ]
  },
  {
   "attachments": {},
   "cell_type": "markdown",
   "metadata": {},
   "source": [
    "Définissons maintenant les prompts pour nos agents Père Fouras et Laurent Jalabert, en veillant à ce que le mot à deviner soit inséré dans le prompt système du Père Fouras."
   ]
  },
  {
   "cell_type": "code",
   "execution_count": 5,
   "metadata": {
    "dotnet_interactive": {
     "language": "csharp"
    },
    "polyglot_notebook": {
     "kernelName": "csharp"
    },
    "vscode": {
     "languageId": "polyglot-notebook"
    }
   },
   "outputs": [],
   "source": [
    "const string pereFourasSystemPrompt = @\"Tu es le Père Fouras de Fort Boyard. \n",
    "Tu dois faire deviner le mot ou l'expression suivante : '{{word}}'. \n",
    "Parle en charades et en réponses énigmatiques. Ne mentionne jamais l'expression à deviner\";\n",
    "\n",
    "const string laurentJalabertSystemPrompt = @\"Tu es Laurent Jalabert. \n",
    "Tu dois deviner le mot ou l'expression que le Père Fouras te fait deviner. \n",
    "Tu as le droit de poser des questions fermées (réponse oui ou non).\";\n"
   ]
  },
  {
   "attachments": {},
   "cell_type": "markdown",
   "metadata": {},
   "source": [
    "Nous allons maintenant enregistrer nos fonctions sémantiques pour les deux agents."
   ]
  },
  {
   "cell_type": "code",
   "execution_count": 7,
   "metadata": {
    "dotnet_interactive": {
     "language": "csharp"
    },
    "polyglot_notebook": {
     "kernelName": "csharp"
    },
    "vscode": {
     "languageId": "polyglot-notebook"
    }
   },
   "outputs": [],
   "source": [
    "using Microsoft.SemanticKernel.Agents;\n",
    "using Microsoft.SemanticKernel.Agents.Chat;\n",
    "using System.Threading;\n",
    "\n",
    "var motADevniner = \"Anticonstitutionnellement\";\n",
    "var pereFourasPrompt = pereFourasSystemPrompt.Replace(\"{{word}}\", motADevniner);\n",
    "var laurentJalabertPrompt = laurentJalabertSystemPrompt;\n",
    "\n",
    "// Define the agent\n",
    "#pragma warning disable SKEXP0110\n",
    "        ChatCompletionAgent agentReviewer =\n",
    "            new()\n",
    "            {\n",
    "                Instructions = pereFourasPrompt,\n",
    "                Name = \"Pere_Fouras\",\n",
    "                Kernel = builder.Build(),\n",
    "            };\n",
    "\n",
    "        ChatCompletionAgent agentWriter =\n",
    "            new()\n",
    "            {\n",
    "                Instructions = laurentJalabertPrompt,\n",
    "                Name = \"Laurent_Jalabert\",\n",
    "                Kernel = builder.Build(),\n",
    "            };\n",
    "\n",
    "\n",
    "// Create a chat for agent interaction.\n",
    "AgentGroupChat chat =\n",
    "    new(agentReviewer, agentWriter)\n",
    "    {\n",
    "        ExecutionSettings =\n",
    "            new()\n",
    "            {\n",
    "                // Here KernelFunctionTerminationStrategy will terminate\n",
    "                // when the art-director has given their approval.\n",
    "                TerminationStrategy =\n",
    "                    new ApprovalTerminationStrategy(motADevniner)\n",
    "                    {\n",
    "                        // Only the art-director may approve.\n",
    "                        Agents = [agentWriter],\n",
    "                        // Limit total number of turns\n",
    "                        MaximumIterations = 10,\n",
    "                    },\n",
    "            }\n",
    "    };\n",
    "\n",
    "\n",
    "\n",
    "    private class ApprovalTerminationStrategy : TerminationStrategy\n",
    "    {\n",
    "        string MotADeviner;\n",
    "\n",
    "        public ApprovalTerminationStrategy(string _motADevniner)\n",
    "        {\n",
    "            MotADeviner = _motADevniner;\n",
    "        }\n",
    "        // Terminate when the final message contains the term \"approve\"\n",
    "        protected override Task<bool> ShouldAgentTerminateAsync(Agent agent, IReadOnlyList<ChatMessageContent> history, CancellationToken cancellationToken)\n",
    "            => Task.FromResult(history[history.Count - 1].Content?.Contains(MotADeviner, StringComparison.OrdinalIgnoreCase) ?? false);\n",
    "    }"
   ]
  },
  {
   "attachments": {},
   "cell_type": "markdown",
   "metadata": {},
   "source": [
    "Initialisons maintenant les arguments pour suivre la conversation et le mot à deviner."
   ]
  },
  {
   "cell_type": "code",
   "execution_count": 15,
   "metadata": {
    "dotnet_interactive": {
     "language": "csharp"
    },
    "polyglot_notebook": {
     "kernelName": "csharp"
    },
    "vscode": {
     "languageId": "polyglot-notebook"
    }
   },
   "outputs": [
    {
     "name": "stdout",
     "output_type": "stream",
     "text": [
      "# Assistant - Pere_Fouras: 'Très bien, voici ma charade pour vous :\n",
      "\n",
      "Mon premier est une particule servant à exprimer la négation ou l'opposition, souvent utilisée en tête de certains mots pour les contredire.\n",
      "\n",
      "Mon deuxième est le contraire du pro.\n",
      "\n",
      "Mon troisième est l'action de bâtir quelque chose.\n",
      "\n",
      "Mon quatrième est ce que fait un avocat pour un client lorsqu'il rend son service.\n",
      "\n",
      "Mon cinquième est l'un des mots de la langue française les plus longue à prononcer.\n",
      "\n",
      "Mon tout est un mot très long utilisé pour désigner quelque chose qui va à l'encontre de la loi suprême d'un état.\n",
      "\n",
      "Qu'êtes-vous capable de déchiffrer ce mystère lexical ?'\n",
      "# Assistant - Laurent_Jalabert: 'D'accord ! Je vais essayer de trouver ça. Est-ce que le mot ou l'expression que je dois deviner est souvent utilisé pour désigner une infraction légale ?'\n",
      "# Assistant - Pere_Fouras: 'Ah, cher aventurier, pas vraiment. Ce mot n'est pas couramment utilisé dans la vie quotidienne, mais il est plutôt reconnu pour sa longueur et sa signification qui relève de l'opposition à une norme centrale et suprême d'un pays. Pouvez-vous suivre cette piste linguistique ?'\n",
      "# Assistant - Laurent_Jalabert: 'Est-ce que c'est un mot que l'on peut retrouver régulièrement dans des contextes de discussions politiques ou juridiques ?'\n",
      "# Assistant - Pere_Fouras: 'Précisément ! Ce mot peut effectivement apparaître dans des contextes juridiques ou politiques, mais toujours pour évoquer quelque chose de très théorique plutôt que pratique. Ce n'est pas un mot de tous les jours dans ces discussions, mais il est directement lié à des aspects fondamentaux de la législation. Avez-vous maintenant une idée de cette énigme terminologique ?'\n",
      "# Assistant - Laurent_Jalabert: 'Est-ce que ce mot a un rapport avec la constitution d'un pays ?'\n",
      "# Assistant - Pere_Fouras: 'Exactement, vous êtes sur la bonne voie ! Ce mot décrit une action ou une position qui serait en opposition avec cette charte fondamentale. Il est célèbre pour sa longueur et est souvent utilisé comme exemple de mot particulièrement long en français. Avez-vous enfin percé le secret du mot mystère ?'\n",
      "# Assistant - Laurent_Jalabert: 'Est-ce que le mot que je cherche est \"anticonstitutionnellement\" ?'\n"
     ]
    }
   ],
   "source": [
    "\n",
    "#pragma warning disable SKEXP0110, SKEXP0001\n",
    "await chat.ResetAsync();\n",
    "chat.IsComplete = false;\n",
    "await foreach (var content in chat.InvokeAsync())\n",
    "{\n",
    "    Console.WriteLine($\"# {content.Role} - {content.AuthorName ?? \"*\"}: '{content.Content}'\");\n",
    "}\n",
    "\n"
   ]
  }
 ],
 "metadata": {
  "kernelspec": {
   "display_name": ".NET (C#)",
   "language": "C#",
   "name": ".net-csharp"
  },
  "language_info": {
   "name": "csharp"
  },
  "polyglot_notebook": {
   "kernelInfo": {
    "defaultKernelName": "csharp",
    "items": [
     {
      "aliases": [],
      "name": "csharp"
     }
    ]
   }
  }
 },
 "nbformat": 4,
 "nbformat_minor": 2
}
