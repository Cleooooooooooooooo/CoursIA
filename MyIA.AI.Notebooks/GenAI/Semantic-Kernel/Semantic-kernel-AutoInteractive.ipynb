{
 "cells": [
  {
   "cell_type": "markdown",
   "metadata": {},
   "source": [
    "# Notebook de conception de Notebook\n",
    "\n",
    "Ce Notebook .Net interactive a pour objectif de permettre la création assistée d'autres notebooks .Net interactive en confiant le soin à ChatGPT d'analyser et de proposer des modifications d'une version courante, et en prenant en charge la mise à jour et l'exécution des mises à jour en function calling Open AI grâce à l'API .Net interactive. \n",
    "\n",
    "\n",
    "### 1. Initialisation\n",
    "\n",
    "On installe des packages pour la manipulation de notebook et pour l'orchestration de LLMs."
   ]
  },
  {
   "cell_type": "code",
   "execution_count": 1,
   "metadata": {
    "dotnet_interactive": {
     "language": "csharp"
    },
    "polyglot_notebook": {
     "kernelName": "csharp"
    }
   },
   "outputs": [],
   "source": [
    "// #r \"nuget: Microsoft.DotNet.Interactive, *-*\"\n",
    "#r \"nuget: Microsoft.DotNet.Interactive.CSharp, *-*\"\n",
    "#r \"nuget: Microsoft.DotNet.Interactive.Documents, *-*\"\n",
    "#r \"nuget: Microsoft.DotNet.Interactive.PackageManagement, *-*\"\n",
    "#r \"nuget: Microsoft.Extensions.Logging\"\n",
    "#r \"nuget: Microsoft.SemanticKernel, *-*\"\n",
    "#r \"nuget: Microsoft.SemanticKernel.Planners.OpenAI, *-*\"\n",
    "#r \"nuget: Microsoft.SemanticKernel.Agents.Core, *-*\""
   ]
  },
  {
   "cell_type": "markdown",
   "metadata": {},
   "source": [
    "### Importation des fichiers `.cs`\n",
    "\n",
    "Un certain nombre de classes ont été conçues pour fournir l'exécution et la mise à jour de notebook .Net interactive à l'aide de Semantic-Kernel."
   ]
  },
  {
   "cell_type": "code",
   "execution_count": 11,
   "metadata": {
    "dotnet_interactive": {
     "language": "csharp"
    },
    "polyglot_notebook": {
     "kernelName": "csharp"
    }
   },
   "outputs": [],
   "source": [
    "// Load some helper functions to load values from settings.json\n",
    "#!import ../Config/Settings.cs \n",
    "\n",
    "#!import DisplayLogger.cs\n",
    "#!import DisplayLoggerProvider.cs\n",
    "#!import NotebookExecutor.cs\n",
    "// #!import WorkbookInteractionBase.cs\n",
    "// #!import WorkbookUpdateInteraction.cs\n",
    "// #!import WorkbookValidation.cs\n",
    "// #!import NotebookUpdaterBase.cs\n",
    "// #!import AutoInvokeSKAgentsNotebookUpdater.cs\n",
    "\n",
    "// #!import NotebookPlannerUpdater.cs\n",
    "// #!import AutoGenNotebookUpdater.cs"
   ]
  },
  {
   "cell_type": "markdown",
   "metadata": {},
   "source": [
    "- **Imports des espaces de noms**\n",
    "\n",
    "On prend soin de distinguer le kernel d'exécution de notebook .Net interactive, et le kernel de semantic-kernel."
   ]
  },
  {
   "cell_type": "code",
   "execution_count": 3,
   "metadata": {
    "dotnet_interactive": {
     "language": "csharp"
    },
    "polyglot_notebook": {
     "kernelName": "csharp"
    }
   },
   "outputs": [],
   "source": [
    "using Microsoft.DotNet.Interactive;\n",
    "using Microsoft.SemanticKernel;\n",
    "using Microsoft.SemanticKernel.Planning;\n",
    "using Microsoft.SemanticKernel.Connectors.OpenAI;\n",
    "  \n",
    "using System;\n",
    "using System.IO;\n",
    "using System.Threading.Tasks;\n",
    "\n",
    "using Microsoft.Extensions.Logging;\n",
    "using Microsoft.Extensions.DependencyInjection;\n",
    "\n",
    "using SKernel = Microsoft.SemanticKernel.Kernel;\n",
    "using IKernel = Microsoft.DotNet.Interactive.Kernel;"
   ]
  },
  {
   "cell_type": "markdown",
   "metadata": {},
   "source": [
    "### 2. Mode de Fourniture des Informations\n",
    "\n",
    "On permet à l'utilisateur de saisir les informations décrivant la tâche à accomplir dans le notebook de travail de plusieurs façons différentes."
   ]
  },
  {
   "cell_type": "code",
   "execution_count": 4,
   "metadata": {
    "dotnet_interactive": {
     "language": "csharp"
    },
    "polyglot_notebook": {
     "kernelName": "csharp"
    }
   },
   "outputs": [],
   "source": [
    "public enum InformationMode\n",
    "{\n",
    "    Variable,\n",
    "    Prompt,\n",
    "    File\n",
    "}\n",
    "\n"
   ]
  },
  {
   "cell_type": "markdown",
   "metadata": {},
   "source": [
    "### 5. Recueil des informations\n",
    "\n",
    "Selon le mode de fourniture des informations choisi, on récupère la tâche à accomplir dans le notebook de travail."
   ]
  },
  {
   "cell_type": "code",
   "execution_count": 5,
   "metadata": {
    "dotnet_interactive": {
     "language": "csharp"
    },
    "polyglot_notebook": {
     "kernelName": "csharp"
    }
   },
   "outputs": [],
   "source": [
    "var infoCollectionDisplay = display(\"Collecte d'informations en cours...\");\n",
    "\n",
    "var mode = InformationMode.Variable;\n",
    "\n",
    "string taskDescription = \"Créer un notebook .Net interactive permettant de requêter DBPedia, utilisant les package Nuget dotNetRDF et XPlot.Plotly.Interactive. Commencer par éditer les cellules de Markdown pour définir et affiner l'exemple de requête dont le graphique final sera le plus pertinent. Choisir un exemple de requête complexe, manipulant des aggrégats, qui pourront être synthétisés dans un graphique. Une fois les cellules de code alimentées et les bugs corrigés, s'assurer que la sortie de la cellule générant le graphique est conforme et pertinente.\";\n",
    "\n",
    "if (mode == InformationMode.Variable)\n",
    "{\n",
    "    display(\"Utilisation de la variable pour la description de la tâche.\");\n",
    "}\n",
    "else if (mode == InformationMode.Prompt)\n",
    "{\n",
    "    var questions = new[]\n",
    "    {\n",
    "        \"Bonjour! Veuillez fournir une brève description de la tâche à accomplir.\",\n",
    "        \"Quels sont les principaux objectifs de cette tâche?\",\n",
    "        \"Y a-t-il des contraintes ou des conditions spécifiques à prendre en compte?\",\n",
    "        \"Des informations supplémentaires que vous souhaitez ajouter?\"\n",
    "    };\n",
    "\n",
    "    taskDescription = string.Empty;\n",
    "    foreach (var question in questions)\n",
    "    {\n",
    "        var response = await IKernel.GetInputAsync(question);\n",
    "        taskDescription += $\"{question}\\\\n{response}\\\\n\\\\n\";\n",
    "    }\n",
    "}\n",
    "\n",
    "\n",
    "display(\"Informations recueillies :\\\\n\" + taskDescription);"
   ]
  },
  {
   "cell_type": "markdown",
   "metadata": {},
   "source": [
    "### 3. Personnalisation du Notebook de Travail\n",
    "\n",
    "On charge un notebook template contenant des parties de Markdown et de code à compléter, et on injecte la tâche dans la partie descriptive en entête du notebook .Net interactive."
   ]
  },
  {
   "cell_type": "code",
   "execution_count": 6,
   "metadata": {
    "dotnet_interactive": {
     "language": "csharp"
    },
    "polyglot_notebook": {
     "kernelName": "csharp"
    }
   },
   "outputs": [],
   "source": [
    "\n",
    "var notebookPath = @$\"./Workbooks/Workbook-{DateTime.Now.ToFileTime()}.ipynb\";\n"
   ]
  },
  {
   "cell_type": "markdown",
   "metadata": {},
   "source": [
    "### Exécution et Mise à Jour Itérative avec AutoInvokeSKAgentsNotebookUpdater\n"
   ]
  },
  {
   "cell_type": "code",
   "execution_count": 7,
   "metadata": {
    "dotnet_interactive": {
     "language": "csharp"
    },
    "polyglot_notebook": {
     "kernelName": "csharp"
    }
   },
   "outputs": [],
   "source": [
    "var logger = new DisplayLogger(\"NotebookUpdater\", LogLevel.Trace);\n",
    "var updater = new AutoInvokeSKAgentsNotebookUpdater(notebookPath, logger);\n",
    "updater.SetStartingNotebookFromTemplate(taskDescription);\n",
    "display(\"Appel à UpdateNotebookWithAutoInvokeSKAgents...\");\n",
    "await updater.UpdateNotebookWithAutoInvokeSKAgents();\n",
    "display(\"Mise à jour du notebook terminée.\");\n"
   ]
  }
 ],
 "metadata": {
  "kernelspec": {
   "display_name": ".NET (C#)",
   "language": "C#",
   "name": ".net-csharp"
  },
  "polyglot_notebook": {
   "kernelInfo": {
    "defaultKernelName": "csharp",
    "items": [
     {
      "aliases": [],
      "languageName": "csharp",
      "name": "csharp"
     }
    ]
   }
  }
 },
 "nbformat": 4,
 "nbformat_minor": 2
}
