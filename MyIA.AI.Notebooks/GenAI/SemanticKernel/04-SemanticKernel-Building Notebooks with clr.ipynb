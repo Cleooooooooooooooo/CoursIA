{
 "cells": [
  {
   "cell_type": "markdown",
   "metadata": {},
   "source": [
    "# Utilisation d'Agents C# (Semantic Kernel) depuis Python via pythonnet\n",
    "\n",
    "Ce **troisième notebook** illustre comment, en Python, on peut :\n",
    "\n",
    "1. **Installer et configurer** `pythonnet`  \n",
    "2. **Charger** la DLL .NET (compilée en C#) qui contient notre code d’agent (`AutoInvokeSKAgentsNotebookUpdater` et consorts)  \n",
    "3. **Instancier** et **appeler** ces classes depuis Python  \n",
    "\n",
    "**Prérequis** :  \n",
    "- Avoir le fichier `MyIA.AI.Notebooks.dll` déjà compilé (typiquement dans `..\\..\\bin\\Debug\\net9.0\\MyIA.AI.Notebooks.dll`).  \n",
    "- Disposer d’un environnement Python (3.x) qui peut installer `pythonnet`.  \n",
    "\n"
   ]
  },
  {
   "cell_type": "code",
   "execution_count": 13,
   "metadata": {},
   "outputs": [
    {
     "name": "stdout",
     "output_type": "stream",
     "text": [
      "Requirement already satisfied: pythonnet in c:\\users\\administrateur.000\\appdata\\local\\programs\\python\\python311\\lib\\site-packages (3.0.5)\n",
      "Requirement already satisfied: clr_loader<0.3.0,>=0.2.7 in c:\\users\\administrateur.000\\appdata\\local\\programs\\python\\python311\\lib\\site-packages (from pythonnet) (0.2.7.post0)\n",
      "Requirement already satisfied: cffi>=1.17 in c:\\users\\administrateur.000\\appdata\\local\\programs\\python\\python311\\lib\\site-packages (from clr_loader<0.3.0,>=0.2.7->pythonnet) (1.17.1)\n",
      "Requirement already satisfied: pycparser in c:\\users\\administrateur.000\\appdata\\local\\programs\\python\\python311\\lib\\site-packages (from cffi>=1.17->clr_loader<0.3.0,>=0.2.7->pythonnet) (2.22)\n",
      "Note: you may need to restart the kernel to use updated packages.\n",
      "pythonnet version : 3.0.5\n",
      "Installation pythonnet : OK\n"
     ]
    }
   ],
   "source": [
    "# ============================\n",
    "# Bloc 1 : Installation pythonnet & configuration\n",
    "# ============================\n",
    "\n",
    "# Installe pythonnet. À n’exécuter qu’une seule fois (enlevez --quiet si besoin)\n",
    "%pip install pythonnet\n",
    "\n",
    "# On peut vérifier la version\n",
    "import pkg_resources\n",
    "print(\"pythonnet version :\", pkg_resources.get_distribution(\"pythonnet\").version)\n",
    "\n",
    "print(\"Installation pythonnet : OK\")\n"
   ]
  },
  {
   "cell_type": "markdown",
   "metadata": {},
   "source": [
    "## Bloc 2 : Importation de la DLL .NET\n",
    "\n",
    "Nous allons :  \n",
    "1. **Modifier** le chemin Python (`sys.path`) pour inclure le dossier où se trouve la DLL .NET.  \n",
    "2. **Charger** la DLL (`clr.AddReference`)  \n",
    "3. **Importer** les namespaces/classes C# (ex. `MyIA.AI.Notebooks`).\n",
    "\n",
    "Note : Adaptez `dll_path` si nécessaire.\n"
   ]
  },
  {
   "cell_type": "code",
   "execution_count": 14,
   "metadata": {},
   "outputs": [
    {
     "name": "stdout",
     "output_type": "stream",
     "text": [
      "Référence à 'MyIA.AI.Notebooks.dll' ajoutée avec succès.\n"
     ]
    }
   ],
   "source": [
    "# ============================\n",
    "# Bloc 2 : Charger la DLL .NET dans Python\n",
    "# ============================\n",
    "\n",
    "import sys\n",
    "import clr\n",
    "\n",
    "# <-- Ajustez ce chemin vers le dossier contenant MyIA.AI.Notebooks.dll\n",
    "dll_path = r\"..\\..\\bin\\Debug\\net9.0\"\n",
    "\n",
    "# On ajoute ce dossier dans sys.path\n",
    "if dll_path not in sys.path:\n",
    "    sys.path.append(dll_path)\n",
    "\n",
    "# On charge la DLL (sans l'extension .dll)\n",
    "clr.AddReference(\"MyIA.AI.Notebooks\")\n",
    "\n",
    "print(\"Référence à 'MyIA.AI.Notebooks.dll' ajoutée avec succès.\")\n"
   ]
  },
  {
   "cell_type": "markdown",
   "metadata": {},
   "source": [
    "# Vérifier le contenu chargé par `clr.AddReference` dans pythonnet\n",
    "\n",
    "Pour **examiner** ce qui a été effectivement chargé en mémoire via `clr.AddReference`, vous pouvez :\n",
    "\n",
    "1. **Lister les assemblées (.NET) actuellement référencées**  \n",
    "2. **Inspecter** les types (classes, etc.) exportés par chaque assembly\n",
    "\n",
    "\n"
   ]
  },
  {
   "cell_type": "code",
   "execution_count": 15,
   "metadata": {},
   "outputs": [
    {
     "name": "stdout",
     "output_type": "stream",
     "text": [
      "\n",
      "Assembly: MyIA.AI.Notebooks\n",
      "  -> MyNotebookLib.AutoGenNotebookUpdater\n",
      "  -> MyNotebookLib.AutoInvokeSKAgentsNotebookUpdater\n",
      "  -> MyNotebookLib.DisplayLogger\n",
      "  -> MyNotebookLib.DisplayLoggerProvider\n",
      "  -> MyNotebookLib.GuessingGame\n",
      "  -> MyNotebookLib.NotebookExecutor\n",
      "  -> MyNotebookLib.NotebookPlannerUpdater\n",
      "  -> MyNotebookLib.NotebookUpdaterBase\n",
      "  -> MyNotebookLib.WorkbookInteractionBase\n",
      "  -> MyNotebookLib.WorkbookUpdateInteraction\n",
      "  -> MyNotebookLib.WorkbookValidation\n",
      "  -> MyIA.AI.Notebooks.Config.Settings\n",
      "  -> MyIA.AI.Notebooks.Config.SkiaUtils\n",
      "  -> MyIA.AI.Notebooks.Config.Utils\n"
     ]
    }
   ],
   "source": [
    "import clr\n",
    "from System import AppDomain\n",
    "\n",
    "for asm in AppDomain.CurrentDomain.GetAssemblies():\n",
    "    if asm.GetName().Name == \"MyIA.AI.Notebooks\":\n",
    "        print(f\"\\nAssembly: {asm.GetName().Name}\")\n",
    "        try:\n",
    "            for t in asm.GetExportedTypes():\n",
    "                print(\"  ->\", t.FullName)\n",
    "        except:\n",
    "            pass\n"
   ]
  },
  {
   "cell_type": "markdown",
   "metadata": {},
   "source": [
    "## Bloc 3 : Import des classes C# du namespace `MyIA.AI.Notebooks`\n",
    "\n",
    "On suppose que les classes suivantes sont exposées :  \n",
    "- **`AutoInvokeSKAgentsNotebookUpdater`**  \n",
    "- **`DisplayLogger`** (et son provider)  \n",
    "- etc.\n",
    "\n",
    "Ensuite, on pourra instancier et exécuter du code C# directement depuis Python.\n"
   ]
  },
  {
   "cell_type": "code",
   "execution_count": 16,
   "metadata": {},
   "outputs": [
    {
     "ename": "ModuleNotFoundError",
     "evalue": "No module named 'MyNotebookLib'",
     "output_type": "error",
     "traceback": [
      "\u001b[1;31m---------------------------------------------------------------------------\u001b[0m",
      "\u001b[1;31mModuleNotFoundError\u001b[0m                       Traceback (most recent call last)",
      "Cell \u001b[1;32mIn[16], line 6\u001b[0m\n\u001b[0;32m      1\u001b[0m \u001b[38;5;66;03m# ============================\u001b[39;00m\n\u001b[0;32m      2\u001b[0m \u001b[38;5;66;03m# Bloc 3 : Import des classes du namespace\u001b[39;00m\n\u001b[0;32m      3\u001b[0m \u001b[38;5;66;03m# ============================\u001b[39;00m\n\u001b[0;32m      4\u001b[0m \n\u001b[0;32m      5\u001b[0m \u001b[38;5;66;03m# On importe le namespace racine\u001b[39;00m\n\u001b[1;32m----> 6\u001b[0m \u001b[38;5;28;01mfrom\u001b[39;00m \u001b[38;5;21;01mMyNotebookLib\u001b[39;00m \u001b[38;5;28;01mimport\u001b[39;00m AutoInvokeSKAgentsNotebookUpdater\n\u001b[0;32m     10\u001b[0m \u001b[38;5;66;03m# S'il y a d'autres classes à importer, faites:\u001b[39;00m\n\u001b[0;32m     11\u001b[0m \u001b[38;5;66;03m# from MyIA.AI.Notebooks import DisplayLogger, DisplayLoggerProvider, NotebookUpdaterBase, ...\u001b[39;00m\n\u001b[0;32m     13\u001b[0m \u001b[38;5;28mprint\u001b[39m(\u001b[38;5;124m\"\u001b[39m\u001b[38;5;124mImport des classes C# terminé.\u001b[39m\u001b[38;5;124m\"\u001b[39m)\n",
      "\u001b[1;31mModuleNotFoundError\u001b[0m: No module named 'MyNotebookLib'"
     ]
    }
   ],
   "source": [
    "# ============================\n",
    "# Bloc 3 : Import des classes du namespace\n",
    "# ============================\n",
    "\n",
    "# On importe le namespace racine\n",
    "from MyNotebookLib import AutoInvokeSKAgentsNotebookUpdater\n",
    "\n",
    "\n",
    "\n",
    "# S'il y a d'autres classes à importer, faites:\n",
    "# from MyIA.AI.Notebooks import DisplayLogger, DisplayLoggerProvider, NotebookUpdaterBase, ...\n",
    "\n",
    "print(\"Import des classes C# terminé.\")\n"
   ]
  },
  {
   "cell_type": "markdown",
   "metadata": {},
   "source": [
    "## Bloc 4 : Exemple d'utilisation\n",
    "\n",
    "- On va créer une instance de `AutoInvokeSKAgentsNotebookUpdater`.\n",
    "- On va définir un logger factice ou inexistant (selon la configuration).\n",
    "- On va lancer la méthode `UpdateNotebookAsync()` pour lancer l'agent.\n",
    "\n",
    "Note : Comme la méthode est asynchrone en C#, on l'appelle via `await` dans un contexte `asyncio` Python.\n"
   ]
  },
  {
   "cell_type": "code",
   "execution_count": 7,
   "metadata": {},
   "outputs": [
    {
     "ename": "NameError",
     "evalue": "name 'AutoInvokeSKAgentsNotebookUpdater' is not defined",
     "output_type": "error",
     "traceback": [
      "\u001b[1;31m---------------------------------------------------------------------------\u001b[0m",
      "\u001b[1;31mNameError\u001b[0m                                 Traceback (most recent call last)",
      "Cell \u001b[1;32mIn[7], line 43\u001b[0m\n\u001b[0;32m     39\u001b[0m     \u001b[38;5;28mprint\u001b[39m(\u001b[38;5;124m\"\u001b[39m\u001b[38;5;124mAgent SK terminé avec succès !\u001b[39m\u001b[38;5;124m\"\u001b[39m)\n\u001b[0;32m     42\u001b[0m \u001b[38;5;66;03m# Lancement\u001b[39;00m\n\u001b[1;32m---> 43\u001b[0m \u001b[43masyncio\u001b[49m\u001b[38;5;241;43m.\u001b[39;49m\u001b[43mrun\u001b[49m\u001b[43m(\u001b[49m\u001b[43mrun_agent_example\u001b[49m\u001b[43m(\u001b[49m\u001b[43m)\u001b[49m\u001b[43m)\u001b[49m\n",
      "File \u001b[1;32mc:\\Users\\Administrateur.000\\AppData\\Local\\Programs\\Python\\Python311\\Lib\\site-packages\\nest_asyncio.py:30\u001b[0m, in \u001b[0;36m_patch_asyncio.<locals>.run\u001b[1;34m(main, debug)\u001b[0m\n\u001b[0;32m     28\u001b[0m task \u001b[38;5;241m=\u001b[39m asyncio\u001b[38;5;241m.\u001b[39mensure_future(main)\n\u001b[0;32m     29\u001b[0m \u001b[38;5;28;01mtry\u001b[39;00m:\n\u001b[1;32m---> 30\u001b[0m     \u001b[38;5;28;01mreturn\u001b[39;00m \u001b[43mloop\u001b[49m\u001b[38;5;241;43m.\u001b[39;49m\u001b[43mrun_until_complete\u001b[49m\u001b[43m(\u001b[49m\u001b[43mtask\u001b[49m\u001b[43m)\u001b[49m\n\u001b[0;32m     31\u001b[0m \u001b[38;5;28;01mfinally\u001b[39;00m:\n\u001b[0;32m     32\u001b[0m     \u001b[38;5;28;01mif\u001b[39;00m \u001b[38;5;129;01mnot\u001b[39;00m task\u001b[38;5;241m.\u001b[39mdone():\n",
      "File \u001b[1;32mc:\\Users\\Administrateur.000\\AppData\\Local\\Programs\\Python\\Python311\\Lib\\site-packages\\nest_asyncio.py:98\u001b[0m, in \u001b[0;36m_patch_loop.<locals>.run_until_complete\u001b[1;34m(self, future)\u001b[0m\n\u001b[0;32m     95\u001b[0m \u001b[38;5;28;01mif\u001b[39;00m \u001b[38;5;129;01mnot\u001b[39;00m f\u001b[38;5;241m.\u001b[39mdone():\n\u001b[0;32m     96\u001b[0m     \u001b[38;5;28;01mraise\u001b[39;00m \u001b[38;5;167;01mRuntimeError\u001b[39;00m(\n\u001b[0;32m     97\u001b[0m         \u001b[38;5;124m'\u001b[39m\u001b[38;5;124mEvent loop stopped before Future completed.\u001b[39m\u001b[38;5;124m'\u001b[39m)\n\u001b[1;32m---> 98\u001b[0m \u001b[38;5;28;01mreturn\u001b[39;00m \u001b[43mf\u001b[49m\u001b[38;5;241;43m.\u001b[39;49m\u001b[43mresult\u001b[49m\u001b[43m(\u001b[49m\u001b[43m)\u001b[49m\n",
      "File \u001b[1;32mc:\\Users\\Administrateur.000\\AppData\\Local\\Programs\\Python\\Python311\\Lib\\asyncio\\futures.py:203\u001b[0m, in \u001b[0;36mFuture.result\u001b[1;34m(self)\u001b[0m\n\u001b[0;32m    201\u001b[0m \u001b[38;5;28mself\u001b[39m\u001b[38;5;241m.\u001b[39m__log_traceback \u001b[38;5;241m=\u001b[39m \u001b[38;5;28;01mFalse\u001b[39;00m\n\u001b[0;32m    202\u001b[0m \u001b[38;5;28;01mif\u001b[39;00m \u001b[38;5;28mself\u001b[39m\u001b[38;5;241m.\u001b[39m_exception \u001b[38;5;129;01mis\u001b[39;00m \u001b[38;5;129;01mnot\u001b[39;00m \u001b[38;5;28;01mNone\u001b[39;00m:\n\u001b[1;32m--> 203\u001b[0m     \u001b[38;5;28;01mraise\u001b[39;00m \u001b[38;5;28mself\u001b[39m\u001b[38;5;241m.\u001b[39m_exception\u001b[38;5;241m.\u001b[39mwith_traceback(\u001b[38;5;28mself\u001b[39m\u001b[38;5;241m.\u001b[39m_exception_tb)\n\u001b[0;32m    204\u001b[0m \u001b[38;5;28;01mreturn\u001b[39;00m \u001b[38;5;28mself\u001b[39m\u001b[38;5;241m.\u001b[39m_result\n",
      "File \u001b[1;32mc:\\Users\\Administrateur.000\\AppData\\Local\\Programs\\Python\\Python311\\Lib\\asyncio\\tasks.py:277\u001b[0m, in \u001b[0;36mTask.__step\u001b[1;34m(***failed resolving arguments***)\u001b[0m\n\u001b[0;32m    273\u001b[0m \u001b[38;5;28;01mtry\u001b[39;00m:\n\u001b[0;32m    274\u001b[0m     \u001b[38;5;28;01mif\u001b[39;00m exc \u001b[38;5;129;01mis\u001b[39;00m \u001b[38;5;28;01mNone\u001b[39;00m:\n\u001b[0;32m    275\u001b[0m         \u001b[38;5;66;03m# We use the `send` method directly, because coroutines\u001b[39;00m\n\u001b[0;32m    276\u001b[0m         \u001b[38;5;66;03m# don't have `__iter__` and `__next__` methods.\u001b[39;00m\n\u001b[1;32m--> 277\u001b[0m         result \u001b[38;5;241m=\u001b[39m \u001b[43mcoro\u001b[49m\u001b[38;5;241;43m.\u001b[39;49m\u001b[43msend\u001b[49m\u001b[43m(\u001b[49m\u001b[38;5;28;43;01mNone\u001b[39;49;00m\u001b[43m)\u001b[49m\n\u001b[0;32m    278\u001b[0m     \u001b[38;5;28;01melse\u001b[39;00m:\n\u001b[0;32m    279\u001b[0m         result \u001b[38;5;241m=\u001b[39m coro\u001b[38;5;241m.\u001b[39mthrow(exc)\n",
      "Cell \u001b[1;32mIn[7], line 23\u001b[0m, in \u001b[0;36mrun_agent_example\u001b[1;34m()\u001b[0m\n\u001b[0;32m     20\u001b[0m     notebook_path \u001b[38;5;241m=\u001b[39m \u001b[38;5;124mr\u001b[39m\u001b[38;5;124m\"\u001b[39m\u001b[38;5;124m.\u001b[39m\u001b[38;5;124m\\\u001b[39m\u001b[38;5;124mWorkbook-Template-Python.ipynb\u001b[39m\u001b[38;5;124m\"\u001b[39m\n\u001b[0;32m     22\u001b[0m     \u001b[38;5;66;03m# On crée l'updater\u001b[39;00m\n\u001b[1;32m---> 23\u001b[0m     updater \u001b[38;5;241m=\u001b[39m \u001b[43mAutoInvokeSKAgentsNotebookUpdater\u001b[49m(notebook_path, logger)\n\u001b[0;32m     25\u001b[0m     \u001b[38;5;66;03m# On définit un template ou une instruction initiale\u001b[39;00m\n\u001b[0;32m     26\u001b[0m     \u001b[38;5;66;03m# (Équivalent de: autoInvokeUpdater.SetStartingNotebookFromTemplate(...))\u001b[39;00m\n\u001b[0;32m     27\u001b[0m     \u001b[38;5;66;03m# La méthode correspondante est \"SetStartingNotebookFromTemplate\" :\u001b[39;00m\n\u001b[0;32m     28\u001b[0m     updater\u001b[38;5;241m.\u001b[39mSetStartingNotebookFromTemplate(\u001b[38;5;124m\"\"\"\u001b[39m\n\u001b[0;32m     29\u001b[0m \u001b[38;5;124mCréer un notebook Python, capable de requêter DBpedia via SPARQL, \u001b[39m\n\u001b[0;32m     30\u001b[0m \u001b[38;5;124mpuis tracer un graphique Plotly. \u001b[39m\n\u001b[1;32m   (...)\u001b[0m\n\u001b[0;32m     33\u001b[0m \u001b[38;5;124m2) valider la sortie\u001b[39m\n\u001b[0;32m     34\u001b[0m \u001b[38;5;124m\"\"\"\u001b[39m)\n",
      "\u001b[1;31mNameError\u001b[0m: name 'AutoInvokeSKAgentsNotebookUpdater' is not defined"
     ]
    }
   ],
   "source": [
    "# ============================\n",
    "# Bloc 4 : Exemple d'appel d'agent\n",
    "# ============================\n",
    "import nest_asyncio\n",
    "nest_asyncio.apply()\n",
    "\n",
    "import asyncio\n",
    "\n",
    "\n",
    "\n",
    "# Facultatif si vous avez un logger C# \n",
    "# from Microsoft.Extensions.Logging import LogLevel\n",
    "# from MyIA.AI.Notebooks import DisplayLogger\n",
    "\n",
    "async def run_agent_example():\n",
    "    # logger = DisplayLogger(\"PyNotebookUpdater\", LogLevel.Debug)  # Si vous avez un logger\n",
    "    logger = None  # ou passer None si le constructeur l'accepte\n",
    "\n",
    "    # Chemin où sera généré le notebook \"cible\" à manipuler\n",
    "    notebook_path = r\".\\Workbook-Template-Python.ipynb\"\n",
    "\n",
    "    # On crée l'updater\n",
    "    updater = AutoInvokeSKAgentsNotebookUpdater(notebook_path, logger)\n",
    "\n",
    "    # On définit un template ou une instruction initiale\n",
    "    # (Équivalent de: autoInvokeUpdater.SetStartingNotebookFromTemplate(...))\n",
    "    # La méthode correspondante est \"SetStartingNotebookFromTemplate\" :\n",
    "    updater.SetStartingNotebookFromTemplate(\"\"\"\n",
    "Créer un notebook Python, capable de requêter DBpedia via SPARQL, \n",
    "puis tracer un graphique Plotly. \n",
    "Ensuite, \n",
    "1) corriger d'éventuels bugs \n",
    "2) valider la sortie\n",
    "\"\"\")\n",
    "\n",
    "    # On exécute l'agent => C# : await autoInvokeUpdater.UpdateNotebookAsync()\n",
    "    await updater.UpdateNotebookAsync()\n",
    "\n",
    "    print(\"Agent SK terminé avec succès !\")\n",
    "\n",
    "\n",
    "# Lancement\n",
    "asyncio.run(run_agent_example())\n"
   ]
  },
  {
   "cell_type": "markdown",
   "metadata": {},
   "source": [
    "## Explications\n",
    "\n",
    "1. **`NotebookPath`** : Le fichier `.ipynb` que vous souhaitez générer / mettre à jour.\n",
    "2. **`updater.SetStartingNotebookFromTemplate(...)`** : Injecte la consigne ou le template initial dans le notebook cible.\n",
    "3. **`await updater.UpdateNotebookAsync()`** : Lance l'agent C# (AutoInvokeSKAgentsNotebookUpdater) qui va orchestrer Semantic Kernel pour incrémenter / améliorer le notebook.\n",
    "\n",
    "Vous pouvez ensuite rouvrir le fichier `.ipynb` généré (dans un Jupyter Lab/VS Code) pour voir le résultat.\n"
   ]
  },
  {
   "cell_type": "markdown",
   "metadata": {},
   "source": [
    "## Conclusion\n",
    "\n",
    "Grâce à `pythonnet`, on peut :\n",
    "- **Charger** des DLL C# (compilées .NET).\n",
    "- **Importer** leurs classes.\n",
    "- **Instancier** et **appeler** leurs méthodes asynchrones ou synchrones, y compris du code Semantic Kernel.\n",
    "- **Exploiter** des agents SK pour générer ou manipuler des notebooks interactifs, directement depuis un script/notebook Python.\n",
    "\n",
    "Cela permet de **mélanger** l’écosystème Python avec des composants .NET plus sophistiqués, comme vos agents d’orchestration.\n"
   ]
  }
 ],
 "metadata": {
  "kernelspec": {
   "display_name": "Python 3",
   "language": "python",
   "name": "python3"
  },
  "language_info": {
   "codemirror_mode": {
    "name": "ipython",
    "version": 3
   },
   "file_extension": ".py",
   "mimetype": "text/x-python",
   "name": "python",
   "nbconvert_exporter": "python",
   "pygments_lexer": "ipython3",
   "version": "3.11.9"
  },
  "polyglot_notebook": {
   "kernelInfo": {
    "defaultKernelName": "csharp",
    "items": [
     {
      "aliases": [],
      "name": "csharp"
     }
    ]
   }
  }
 },
 "nbformat": 4,
 "nbformat_minor": 2
}
