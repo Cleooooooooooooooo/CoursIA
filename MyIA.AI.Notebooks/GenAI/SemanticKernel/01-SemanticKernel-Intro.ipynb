{
 "cells": [
  {
   "cell_type": "markdown",
   "metadata": {},
   "source": [
    "# Introduction à Semantic Kernel\n",
    "\n",
    "Ce notebook vous permettra de découvrir **Semantic Kernel**, un SDK permettant d'intégrer et d'orchestrer des modèles de langage dans vos applications Python.  \n",
    "Nous verrons notamment :\n",
    "- L'installation et la configuration du SDK.\n",
    "- La configuration du service LLM (OpenAI ou Azure OpenAI) via un fichier `.env`.\n",
    "- Le chargement et l'utilisation du Kernel.\n",
    "- L'exécution de fonctions sémantiques définies depuis des fichiers prompt et directement en code.\n",
    "- La gestion d'une conversation (chat) en utilisant des arguments de Kernel pour garder l'historique.\n",
    "\n",
    "Ce notebook s'adresse à des étudiants de niveau licence ayant quelques bases en Python.\n"
   ]
  },
  {
   "cell_type": "code",
   "execution_count": 4,
   "metadata": {
    "dotnet_interactive": {
     "language": "csharp"
    },
    "polyglot_notebook": {
     "kernelName": "csharp"
    }
   },
   "outputs": [
    {
     "name": "stdout",
     "output_type": "stream",
     "text": [
      "Requirement already satisfied: semantic-kernel in c:\\users\\administrateur.000\\appdata\\local\\programs\\python\\python311\\lib\\site-packages (1.20.0)\n",
      "Requirement already satisfied: aiohttp~=3.8 in c:\\users\\administrateur.000\\appdata\\local\\programs\\python\\python311\\lib\\site-packages (from semantic-kernel) (3.11.10)\n",
      "Requirement already satisfied: cloudevents~=1.0 in c:\\users\\administrateur.000\\appdata\\local\\programs\\python\\python311\\lib\\site-packages (from semantic-kernel) (1.11.0)\n",
      "Requirement already satisfied: pydantic!=2.10.0,!=2.10.1,!=2.10.2,!=2.10.3,<2.11,>=2.0 in c:\\users\\administrateur.000\\appdata\\local\\programs\\python\\python311\\lib\\site-packages (from semantic-kernel) (2.9.2)\n",
      "Requirement already satisfied: pydantic-settings~=2.0 in c:\\users\\administrateur.000\\appdata\\local\\programs\\python\\python311\\lib\\site-packages (from semantic-kernel) (2.7.0)\n",
      "Requirement already satisfied: defusedxml~=0.7 in c:\\users\\administrateur.000\\appdata\\local\\programs\\python\\python311\\lib\\site-packages (from semantic-kernel) (0.7.1)\n",
      "Requirement already satisfied: azure-identity~=1.13 in c:\\users\\administrateur.000\\appdata\\local\\programs\\python\\python311\\lib\\site-packages (from semantic-kernel) (1.19.0)\n",
      "Requirement already satisfied: numpy>=1.25.0 in c:\\users\\administrateur.000\\appdata\\local\\programs\\python\\python311\\lib\\site-packages (from semantic-kernel) (1.26.4)\n",
      "Requirement already satisfied: openai~=1.0 in c:\\users\\administrateur.000\\appdata\\local\\programs\\python\\python311\\lib\\site-packages (from semantic-kernel) (1.57.4)\n",
      "Requirement already satisfied: openapi_core<0.20,>=0.18 in c:\\users\\administrateur.000\\appdata\\local\\programs\\python\\python311\\lib\\site-packages (from semantic-kernel) (0.19.4)\n",
      "Requirement already satisfied: opentelemetry-api~=1.24 in c:\\users\\administrateur.000\\appdata\\local\\programs\\python\\python311\\lib\\site-packages (from semantic-kernel) (1.29.0)\n",
      "Requirement already satisfied: opentelemetry-sdk~=1.24 in c:\\users\\administrateur.000\\appdata\\local\\programs\\python\\python311\\lib\\site-packages (from semantic-kernel) (1.29.0)\n",
      "Requirement already satisfied: prance~=23.6.21.0 in c:\\users\\administrateur.000\\appdata\\local\\programs\\python\\python311\\lib\\site-packages (from semantic-kernel) (23.6.21.0)\n",
      "Requirement already satisfied: pybars4~=0.9 in c:\\users\\administrateur.000\\appdata\\local\\programs\\python\\python311\\lib\\site-packages (from semantic-kernel) (0.9.13)\n",
      "Requirement already satisfied: jinja2~=3.1 in c:\\users\\administrateur.000\\appdata\\local\\programs\\python\\python311\\lib\\site-packages (from semantic-kernel) (3.1.4)\n",
      "Requirement already satisfied: nest-asyncio~=1.6 in c:\\users\\administrateur.000\\appdata\\local\\programs\\python\\python311\\lib\\site-packages (from semantic-kernel) (1.6.0)\n",
      "Requirement already satisfied: aiohappyeyeballs>=2.3.0 in c:\\users\\administrateur.000\\appdata\\local\\programs\\python\\python311\\lib\\site-packages (from aiohttp~=3.8->semantic-kernel) (2.4.4)\n",
      "Requirement already satisfied: aiosignal>=1.1.2 in c:\\users\\administrateur.000\\appdata\\local\\programs\\python\\python311\\lib\\site-packages (from aiohttp~=3.8->semantic-kernel) (1.3.2)\n",
      "Requirement already satisfied: attrs>=17.3.0 in c:\\users\\administrateur.000\\appdata\\local\\programs\\python\\python311\\lib\\site-packages (from aiohttp~=3.8->semantic-kernel) (24.3.0)\n",
      "Requirement already satisfied: frozenlist>=1.1.1 in c:\\users\\administrateur.000\\appdata\\local\\programs\\python\\python311\\lib\\site-packages (from aiohttp~=3.8->semantic-kernel) (1.5.0)\n",
      "Requirement already satisfied: multidict<7.0,>=4.5 in c:\\users\\administrateur.000\\appdata\\local\\programs\\python\\python311\\lib\\site-packages (from aiohttp~=3.8->semantic-kernel) (6.1.0)\n",
      "Requirement already satisfied: propcache>=0.2.0 in c:\\users\\administrateur.000\\appdata\\local\\programs\\python\\python311\\lib\\site-packages (from aiohttp~=3.8->semantic-kernel) (0.2.1)\n",
      "Requirement already satisfied: yarl<2.0,>=1.17.0 in c:\\users\\administrateur.000\\appdata\\local\\programs\\python\\python311\\lib\\site-packages (from aiohttp~=3.8->semantic-kernel) (1.18.3)\n",
      "Requirement already satisfied: azure-core>=1.31.0 in c:\\users\\administrateur.000\\appdata\\local\\programs\\python\\python311\\lib\\site-packages (from azure-identity~=1.13->semantic-kernel) (1.32.0)\n",
      "Requirement already satisfied: cryptography>=2.5 in c:\\users\\administrateur.000\\appdata\\local\\programs\\python\\python311\\lib\\site-packages (from azure-identity~=1.13->semantic-kernel) (42.0.8)\n",
      "Requirement already satisfied: msal>=1.30.0 in c:\\users\\administrateur.000\\appdata\\local\\programs\\python\\python311\\lib\\site-packages (from azure-identity~=1.13->semantic-kernel) (1.31.1)\n",
      "Requirement already satisfied: msal-extensions>=1.2.0 in c:\\users\\administrateur.000\\appdata\\local\\programs\\python\\python311\\lib\\site-packages (from azure-identity~=1.13->semantic-kernel) (1.2.0)\n",
      "Requirement already satisfied: typing-extensions>=4.0.0 in c:\\users\\administrateur.000\\appdata\\local\\programs\\python\\python311\\lib\\site-packages (from azure-identity~=1.13->semantic-kernel) (4.12.2)\n",
      "Requirement already satisfied: deprecation<3.0,>=2.0 in c:\\users\\administrateur.000\\appdata\\local\\programs\\python\\python311\\lib\\site-packages (from cloudevents~=1.0->semantic-kernel) (2.1.0)\n",
      "Requirement already satisfied: MarkupSafe>=2.0 in c:\\users\\administrateur.000\\appdata\\local\\programs\\python\\python311\\lib\\site-packages (from jinja2~=3.1->semantic-kernel) (3.0.2)\n",
      "Requirement already satisfied: anyio<5,>=3.5.0 in c:\\users\\administrateur.000\\appdata\\local\\programs\\python\\python311\\lib\\site-packages (from openai~=1.0->semantic-kernel) (4.7.0)\n",
      "Requirement already satisfied: distro<2,>=1.7.0 in c:\\users\\administrateur.000\\appdata\\local\\programs\\python\\python311\\lib\\site-packages (from openai~=1.0->semantic-kernel) (1.9.0)\n",
      "Requirement already satisfied: httpx<1,>=0.23.0 in c:\\users\\administrateur.000\\appdata\\local\\programs\\python\\python311\\lib\\site-packages (from openai~=1.0->semantic-kernel) (0.28.1)\n",
      "Requirement already satisfied: jiter<1,>=0.4.0 in c:\\users\\administrateur.000\\appdata\\local\\programs\\python\\python311\\lib\\site-packages (from openai~=1.0->semantic-kernel) (0.8.2)\n",
      "Requirement already satisfied: sniffio in c:\\users\\administrateur.000\\appdata\\local\\programs\\python\\python311\\lib\\site-packages (from openai~=1.0->semantic-kernel) (1.3.1)\n",
      "Requirement already satisfied: tqdm>4 in c:\\users\\administrateur.000\\appdata\\local\\programs\\python\\python311\\lib\\site-packages (from openai~=1.0->semantic-kernel) (4.67.1)\n",
      "Requirement already satisfied: isodate in c:\\users\\administrateur.000\\appdata\\local\\programs\\python\\python311\\lib\\site-packages (from openapi_core<0.20,>=0.18->semantic-kernel) (0.7.2)\n",
      "Requirement already satisfied: jsonschema<5.0.0,>=4.18.0 in c:\\users\\administrateur.000\\appdata\\local\\programs\\python\\python311\\lib\\site-packages (from openapi_core<0.20,>=0.18->semantic-kernel) (4.23.0)\n",
      "Requirement already satisfied: jsonschema-path<0.4.0,>=0.3.1 in c:\\users\\administrateur.000\\appdata\\local\\programs\\python\\python311\\lib\\site-packages (from openapi_core<0.20,>=0.18->semantic-kernel) (0.3.3)\n",
      "Requirement already satisfied: more-itertools in c:\\users\\administrateur.000\\appdata\\local\\programs\\python\\python311\\lib\\site-packages (from openapi_core<0.20,>=0.18->semantic-kernel) (10.5.0)\n",
      "Requirement already satisfied: openapi-schema-validator<0.7.0,>=0.6.0 in c:\\users\\administrateur.000\\appdata\\local\\programs\\python\\python311\\lib\\site-packages (from openapi_core<0.20,>=0.18->semantic-kernel) (0.6.2)\n",
      "Requirement already satisfied: openapi-spec-validator<0.8.0,>=0.7.1 in c:\\users\\administrateur.000\\appdata\\local\\programs\\python\\python311\\lib\\site-packages (from openapi_core<0.20,>=0.18->semantic-kernel) (0.7.1)\n",
      "Requirement already satisfied: parse in c:\\users\\administrateur.000\\appdata\\local\\programs\\python\\python311\\lib\\site-packages (from openapi_core<0.20,>=0.18->semantic-kernel) (1.20.2)\n",
      "Requirement already satisfied: werkzeug in c:\\users\\administrateur.000\\appdata\\local\\programs\\python\\python311\\lib\\site-packages (from openapi_core<0.20,>=0.18->semantic-kernel) (3.1.3)\n",
      "Requirement already satisfied: deprecated>=1.2.6 in c:\\users\\administrateur.000\\appdata\\local\\programs\\python\\python311\\lib\\site-packages (from opentelemetry-api~=1.24->semantic-kernel) (1.2.15)\n",
      "Requirement already satisfied: importlib-metadata<=8.5.0,>=6.0 in c:\\users\\administrateur.000\\appdata\\local\\programs\\python\\python311\\lib\\site-packages (from opentelemetry-api~=1.24->semantic-kernel) (8.5.0)\n",
      "Requirement already satisfied: opentelemetry-semantic-conventions==0.50b0 in c:\\users\\administrateur.000\\appdata\\local\\programs\\python\\python311\\lib\\site-packages (from opentelemetry-sdk~=1.24->semantic-kernel) (0.50b0)\n",
      "Requirement already satisfied: chardet>=3.0 in c:\\users\\administrateur.000\\appdata\\local\\programs\\python\\python311\\lib\\site-packages (from prance~=23.6.21.0->semantic-kernel) (5.2.0)\n",
      "Requirement already satisfied: ruamel.yaml>=0.17.10 in c:\\users\\administrateur.000\\appdata\\local\\programs\\python\\python311\\lib\\site-packages (from prance~=23.6.21.0->semantic-kernel) (0.18.6)\n",
      "Requirement already satisfied: requests>=2.25 in c:\\users\\administrateur.000\\appdata\\local\\programs\\python\\python311\\lib\\site-packages (from prance~=23.6.21.0->semantic-kernel) (2.32.3)\n",
      "Requirement already satisfied: six~=1.15 in c:\\users\\administrateur.000\\appdata\\local\\programs\\python\\python311\\lib\\site-packages (from prance~=23.6.21.0->semantic-kernel) (1.16.0)\n",
      "Requirement already satisfied: packaging>=21.3 in c:\\users\\administrateur.000\\appdata\\local\\programs\\python\\python311\\lib\\site-packages (from prance~=23.6.21.0->semantic-kernel) (24.1)\n",
      "Requirement already satisfied: PyMeta3>=0.5.1 in c:\\users\\administrateur.000\\appdata\\local\\programs\\python\\python311\\lib\\site-packages (from pybars4~=0.9->semantic-kernel) (0.5.1)\n",
      "Requirement already satisfied: annotated-types>=0.6.0 in c:\\users\\administrateur.000\\appdata\\local\\programs\\python\\python311\\lib\\site-packages (from pydantic!=2.10.0,!=2.10.1,!=2.10.2,!=2.10.3,<2.11,>=2.0->semantic-kernel) (0.7.0)\n",
      "Requirement already satisfied: pydantic-core==2.23.4 in c:\\users\\administrateur.000\\appdata\\local\\programs\\python\\python311\\lib\\site-packages (from pydantic!=2.10.0,!=2.10.1,!=2.10.2,!=2.10.3,<2.11,>=2.0->semantic-kernel) (2.23.4)\n",
      "Requirement already satisfied: python-dotenv>=0.21.0 in c:\\users\\administrateur.000\\appdata\\local\\programs\\python\\python311\\lib\\site-packages (from pydantic-settings~=2.0->semantic-kernel) (1.0.1)\n",
      "Requirement already satisfied: idna>=2.8 in c:\\users\\administrateur.000\\appdata\\local\\programs\\python\\python311\\lib\\site-packages (from anyio<5,>=3.5.0->openai~=1.0->semantic-kernel) (3.10)\n",
      "Requirement already satisfied: cffi>=1.12 in c:\\users\\administrateur.000\\appdata\\local\\programs\\python\\python311\\lib\\site-packages (from cryptography>=2.5->azure-identity~=1.13->semantic-kernel) (1.17.1)\n",
      "Requirement already satisfied: wrapt<2,>=1.10 in c:\\users\\administrateur.000\\appdata\\local\\programs\\python\\python311\\lib\\site-packages (from deprecated>=1.2.6->opentelemetry-api~=1.24->semantic-kernel) (1.17.0)\n",
      "Requirement already satisfied: certifi in c:\\users\\administrateur.000\\appdata\\local\\programs\\python\\python311\\lib\\site-packages (from httpx<1,>=0.23.0->openai~=1.0->semantic-kernel) (2024.8.30)\n",
      "Requirement already satisfied: httpcore==1.* in c:\\users\\administrateur.000\\appdata\\local\\programs\\python\\python311\\lib\\site-packages (from httpx<1,>=0.23.0->openai~=1.0->semantic-kernel) (1.0.7)\n",
      "Requirement already satisfied: h11<0.15,>=0.13 in c:\\users\\administrateur.000\\appdata\\local\\programs\\python\\python311\\lib\\site-packages (from httpcore==1.*->httpx<1,>=0.23.0->openai~=1.0->semantic-kernel) (0.14.0)\n",
      "Requirement already satisfied: zipp>=3.20 in c:\\users\\administrateur.000\\appdata\\local\\programs\\python\\python311\\lib\\site-packages (from importlib-metadata<=8.5.0,>=6.0->opentelemetry-api~=1.24->semantic-kernel) (3.21.0)\n",
      "Requirement already satisfied: jsonschema-specifications>=2023.03.6 in c:\\users\\administrateur.000\\appdata\\local\\programs\\python\\python311\\lib\\site-packages (from jsonschema<5.0.0,>=4.18.0->openapi_core<0.20,>=0.18->semantic-kernel) (2023.12.1)\n",
      "Requirement already satisfied: referencing>=0.28.4 in c:\\users\\administrateur.000\\appdata\\local\\programs\\python\\python311\\lib\\site-packages (from jsonschema<5.0.0,>=4.18.0->openapi_core<0.20,>=0.18->semantic-kernel) (0.35.1)\n",
      "Requirement already satisfied: rpds-py>=0.7.1 in c:\\users\\administrateur.000\\appdata\\local\\programs\\python\\python311\\lib\\site-packages (from jsonschema<5.0.0,>=4.18.0->openapi_core<0.20,>=0.18->semantic-kernel) (0.22.3)\n",
      "Requirement already satisfied: PyYAML>=5.1 in c:\\users\\administrateur.000\\appdata\\local\\programs\\python\\python311\\lib\\site-packages (from jsonschema-path<0.4.0,>=0.3.1->openapi_core<0.20,>=0.18->semantic-kernel) (6.0.2)\n",
      "Requirement already satisfied: pathable<0.5.0,>=0.4.1 in c:\\users\\administrateur.000\\appdata\\local\\programs\\python\\python311\\lib\\site-packages (from jsonschema-path<0.4.0,>=0.3.1->openapi_core<0.20,>=0.18->semantic-kernel) (0.4.3)\n",
      "Requirement already satisfied: PyJWT<3,>=1.0.0 in c:\\users\\administrateur.000\\appdata\\local\\programs\\python\\python311\\lib\\site-packages (from PyJWT[crypto]<3,>=1.0.0->msal>=1.30.0->azure-identity~=1.13->semantic-kernel) (2.10.1)\n",
      "Requirement already satisfied: portalocker<3,>=1.4 in c:\\users\\administrateur.000\\appdata\\local\\programs\\python\\python311\\lib\\site-packages (from msal-extensions>=1.2.0->azure-identity~=1.13->semantic-kernel) (2.10.1)\n",
      "Requirement already satisfied: rfc3339-validator in c:\\users\\administrateur.000\\appdata\\local\\programs\\python\\python311\\lib\\site-packages (from openapi-schema-validator<0.7.0,>=0.6.0->openapi_core<0.20,>=0.18->semantic-kernel) (0.1.4)\n",
      "Requirement already satisfied: lazy-object-proxy<2.0.0,>=1.7.1 in c:\\users\\administrateur.000\\appdata\\local\\programs\\python\\python311\\lib\\site-packages (from openapi-spec-validator<0.8.0,>=0.7.1->openapi_core<0.20,>=0.18->semantic-kernel) (1.10.0)\n",
      "Requirement already satisfied: charset-normalizer<4,>=2 in c:\\users\\administrateur.000\\appdata\\local\\programs\\python\\python311\\lib\\site-packages (from requests>=2.25->prance~=23.6.21.0->semantic-kernel) (3.4.0)\n",
      "Requirement already satisfied: urllib3<3,>=1.21.1 in c:\\users\\administrateur.000\\appdata\\local\\programs\\python\\python311\\lib\\site-packages (from requests>=2.25->prance~=23.6.21.0->semantic-kernel) (2.2.3)\n",
      "Requirement already satisfied: ruamel.yaml.clib>=0.2.7 in c:\\users\\administrateur.000\\appdata\\local\\programs\\python\\python311\\lib\\site-packages (from ruamel.yaml>=0.17.10->prance~=23.6.21.0->semantic-kernel) (0.2.12)\n",
      "Requirement already satisfied: colorama in c:\\users\\administrateur.000\\appdata\\local\\programs\\python\\python311\\lib\\site-packages (from tqdm>4->openai~=1.0->semantic-kernel) (0.4.6)\n",
      "Requirement already satisfied: pycparser in c:\\users\\administrateur.000\\appdata\\local\\programs\\python\\python311\\lib\\site-packages (from cffi>=1.12->cryptography>=2.5->azure-identity~=1.13->semantic-kernel) (2.22)\n",
      "Requirement already satisfied: pywin32>=226 in c:\\users\\administrateur.000\\appdata\\local\\programs\\python\\python311\\lib\\site-packages (from portalocker<3,>=1.4->msal-extensions>=1.2.0->azure-identity~=1.13->semantic-kernel) (308)\n",
      "Note: you may need to restart the kernel to use updated packages.\n",
      "Semantic Kernel version : 1.20.0\n"
     ]
    }
   ],
   "source": [
    "# Installation de Semantic Kernel (si nécessaire)\n",
    "%pip install --upgrade semantic-kernel\n",
    "\n",
    "# Vérification de la version installée\n",
    "from semantic_kernel import __version__\n",
    "print(f\"Semantic Kernel version : {__version__}\")\n"
   ]
  },
  {
   "cell_type": "markdown",
   "metadata": {},
   "source": [
    "\n",
    "### 📌 **Importation des bibliothèques nécessaires**\n",
    "Dans cette cellule, nous allons importer les modules principaux.\n"
   ]
  },
  {
   "cell_type": "code",
   "execution_count": 5,
   "metadata": {},
   "outputs": [],
   "source": [
    "import os\n",
    "import json\n",
    "from dotenv import load_dotenv\n",
    "from semantic_kernel import Kernel\n",
    "from semantic_kernel.connectors.ai.open_ai import OpenAIChatCompletion\n",
    "from semantic_kernel.functions import KernelArguments  # Correction de l'import\n"
   ]
  },
  {
   "cell_type": "markdown",
   "metadata": {},
   "source": [
    "## **📁 2. Chargement des paramètres de configuration**\n",
    "### 📌 **Lecture des paramètres depuis un fichier `.env` ou JSON**\n",
    "Le fichier de configuration `.env` doit contenir les clés nécessaires pour accéder aux services OpenAI/Azure OpenAI.\n",
    "\n",
    "💡 **Vérifiez que vous avez bien créé un fichier `.env`** dans le même dossier que ce notebook avec ces valeurs :\n",
    "\n",
    "```plaintext\n",
    "GLOBAL_LLM_SERVICE=\"OpenAI\"\n",
    "OPENAI_API_KEY=\"sk-...\"\n",
    "OPENAI_CHAT_MODEL_ID=\"gpt-4o-mini\"\n",
    "```\n",
    "\n",
    "👉 Nous allons maintenant **charger ces paramètres en Python** :"
   ]
  },
  {
   "cell_type": "code",
   "execution_count": 6,
   "metadata": {},
   "outputs": [
    {
     "name": "stdout",
     "output_type": "stream",
     "text": [
      "Service sélectionné : OpenAI\n",
      "Modèle utilisé : gpt-4o-mini\n"
     ]
    }
   ],
   "source": [
    "# Chargement du fichier .env\n",
    "load_dotenv()\n",
    "\n",
    "# Récupération des clés API et du modèle\n",
    "llm_service = os.getenv(\"GLOBAL_LLM_SERVICE\", \"OpenAI\")\n",
    "api_key = os.getenv(\"OPENAI_API_KEY\")\n",
    "model_id = os.getenv(\"OPENAI_CHAT_MODEL_ID\", \"gpt-4o-mini\")\n",
    "\n",
    "# Vérification\n",
    "print(f\"Service sélectionné : {llm_service}\")\n",
    "print(f\"Modèle utilisé : {model_id}\")\n"
   ]
  },
  {
   "cell_type": "code",
   "execution_count": 12,
   "metadata": {},
   "outputs": [
    {
     "name": "stdout",
     "output_type": "stream",
     "text": [
      "Kernel initialisé avec succès.\n"
     ]
    }
   ],
   "source": [
    "# Importer le Kernel depuis Semantic Kernel\n",
    "from semantic_kernel import Kernel\n",
    "\n",
    "# Créer une instance du Kernel\n",
    "kernel = Kernel()\n",
    "print(\"Kernel initialisé avec succès.\")\n"
   ]
  },
  {
   "cell_type": "markdown",
   "metadata": {},
   "source": [
    "## Configuration du service LLM\n",
    "\n",
    "Nous devons connecter notre Kernel à un service de Chat Completion.  \n",
    "Pour cet exemple, nous allons utiliser OpenAI. Si vous préférez Azure OpenAI, adaptez le code en conséquence (voir la documentation).\n",
    "\n",
    "La configuration se fait via l'ajout d'un service au Kernel.  \n",
    "Assurez-vous que votre fichier `.env` contient votre clé API.\n"
   ]
  },
  {
   "cell_type": "code",
   "execution_count": 13,
   "metadata": {},
   "outputs": [
    {
     "name": "stdout",
     "output_type": "stream",
     "text": [
      "Service OpenAI ajouté au Kernel.\n"
     ]
    }
   ],
   "source": [
    "# Importation du service OpenAI pour le Chat Completion\n",
    "from semantic_kernel.connectors.ai.open_ai import OpenAIChatCompletion\n",
    "\n",
    "# Ajout du service \"default\" au Kernel\n",
    "kernel.add_service(OpenAIChatCompletion(service_id=\"default\"))\n",
    "print(\"Service OpenAI ajouté au Kernel.\")\n"
   ]
  },
  {
   "cell_type": "markdown",
   "metadata": {},
   "source": [
    "## Utiliser un Plugin de Prompt\n",
    "\n",
    "Semantic Kernel permet de charger des **prompt plugins** stockés sur disque.  \n",
    "Dans cet exemple, nous chargerons le plugin \"FunPlugin\" qui contient, par exemple, une fonction pour générer une blague.\n",
    "\n",
    "Les fichiers du plugin (le prompt et sa configuration) sont stockés dans le répertoire `prompt_template_samples/`.  \n",
    "Nous allons charger ce plugin et invoquer la fonction \"Joke\" pour générer une blague sur un sujet donné.\n"
   ]
  },
  {
   "cell_type": "code",
   "execution_count": 18,
   "metadata": {},
   "outputs": [
    {
     "name": "stdout",
     "output_type": "stream",
     "text": [
      "Plugin chargé avec succès.\n",
      "Blague générée : Why did the time traveler bring a ladder to the dinosaur age?\n",
      "\n",
      "Because they heard the T-Rex was a little \"short-tempered\" and wanted to reach new heights in their friendship!\n"
     ]
    }
   ],
   "source": [
    "# Chemin correct vers les plugins\n",
    "plugins_directory = \"./prompt_template_samples/\"\n",
    "\n",
    "# Vérifier si le dossier du plugin existe avant de charger\n",
    "if os.path.exists(os.path.join(plugins_directory, \"FunPlugin\")):\n",
    "    fun_plugin = kernel.add_plugin(parent_directory=plugins_directory, plugin_name=\"FunPlugin\")\n",
    "    joke_function = fun_plugin[\"Joke\"]\n",
    "    print(\"Plugin chargé avec succès.\")\n",
    "else:\n",
    "    print(\"⚠️ Le plugin FunPlugin est introuvable. Vérifiez le chemin et assurez-vous qu'il est bien présent.\")\n",
    "\n",
    "\n",
    "# Invoquer la fonction pour générer une blague sur un thème donné\n",
    "# Pour ce faire, nous utilisons des KernelArguments (ici, seul l'input est nécessaire)\n",
    "from semantic_kernel.functions import KernelArguments\n",
    "\n",
    "# Exemple : générer une blague sur \"time travel to dinosaur age\" avec un style \"super silly\"\n",
    "joke_response = await kernel.invoke(joke_function, KernelArguments(input=\"time travel to dinosaur age\", style=\"super silly\"))\n",
    "print(\"Blague générée :\", joke_response)\n"
   ]
  },
  {
   "cell_type": "markdown",
   "metadata": {},
   "source": [
    "## Définir une fonction sémantique en ligne\n",
    "\n",
    "Outre l'utilisation de plugins stockés sur disque, il est possible de définir des fonctions sémantiques directement dans votre code Python.  \n",
    "Cette approche est particulièrement utile pour :\n",
    "- Générer dynamiquement des prompts en fonction du contexte\n",
    "- Prototyper rapidement des idées sans créer de fichiers séparés\n",
    "\n",
    "Dans cet exemple, nous allons créer une fonction qui résume un texte donné en quelques mots (TL;DR).\n"
   ]
  },
  {
   "cell_type": "code",
   "execution_count": 15,
   "metadata": {},
   "outputs": [
    {
     "name": "stdout",
     "output_type": "stream",
     "text": [
      "Résumé (TL;DR) : Poétesse grecque, unique poème.\n"
     ]
    }
   ],
   "source": [
    "from semantic_kernel.connectors.ai.open_ai import OpenAIChatPromptExecutionSettings\n",
    "from semantic_kernel.prompt_template import PromptTemplateConfig\n",
    "from semantic_kernel.prompt_template.input_variable import InputVariable\n",
    "\n",
    "# Définition du prompt\n",
    "tldr_prompt = \"\"\"\n",
    "{{$input}}\n",
    "\n",
    "Donne-moi un résumé en 5 mots ou moins.\n",
    "\"\"\"\n",
    "\n",
    "# Configuration de l'exécution\n",
    "execution_settings = OpenAIChatPromptExecutionSettings(\n",
    "    service_id=\"default\",\n",
    "    ai_model_id=model_id,\n",
    "    max_tokens=2000,\n",
    "    temperature=0.7,\n",
    ")\n",
    "\n",
    "# Configuration du prompt template\n",
    "tldr_template_config = PromptTemplateConfig(\n",
    "    template=tldr_prompt,\n",
    "    name=\"tldr\",\n",
    "    template_format=\"semantic-kernel\",\n",
    "    input_variables=[InputVariable(name=\"input\", description=\"Texte à résumer\", is_required=True)],\n",
    "    execution_settings=execution_settings,\n",
    ")\n",
    "\n",
    "# Ajout de la fonction au Kernel\n",
    "tldr_function = kernel.add_function(function_name=\"tldrFunction\", plugin_name=\"tldrPlugin\", prompt_template_config=tldr_template_config)\n",
    "\n",
    "# Exécution de la fonction\n",
    "async def run_tldr():\n",
    "    input_text = \"Demo était une poétesse grecque ancienne connue pour un unique poème gravé sur le Colosse de Memnon.\"\n",
    "    tldr_summary = await kernel.invoke(tldr_function, KernelArguments(input=input_text))\n",
    "    print(\"Résumé (TL;DR) :\", tldr_summary)\n",
    "\n",
    "# Lancer la fonction\n",
    "await run_tldr()\n"
   ]
  },
  {
   "cell_type": "markdown",
   "metadata": {},
   "source": [
    "## Chat interactif avec le Kernel\n",
    "\n",
    "Semantic Kernel offre également la possibilité de créer des interactions de type chatbot.  \n",
    "Nous allons configurer une fonction de chat qui utilise des **Kernel Arguments** pour conserver l'historique de la conversation.\n",
    "\n",
    "L'objectif est de simuler une conversation où l'utilisateur envoie un message, le bot y répond, et l'historique est mis à jour à chaque échange.\n"
   ]
  },
  {
   "cell_type": "code",
   "execution_count": 17,
   "metadata": {},
   "outputs": [
    {
     "name": "stdout",
     "output_type": "stream",
     "text": [
      "Utilisateur : Salut, je cherche des suggestions de livres sur la philosophie antique.\n",
      "ChatBot : Salut ! Voici quelques suggestions de livres sur la philosophie antique qui pourraient t'intéresser :\n",
      "\n",
      "1. **\"La République\" de Platon** - Un dialogue majeur où Platon explore la justice, la politique et la nature de l'homme.\n",
      "\n",
      "2. **\"Éthique à Nicomaque\" d'Aristote** - Ce livre est une réflexion sur l'éthique, la vertu et le bonheur, et il reste une référence incontournable dans l'étude de la philosophie morale.\n",
      "\n",
      "3. **\"Les Pensées\" de Marc Aurèle** - Un recueil de réflexions personnelles de l'empereur romain qui illustre la philosophie stoïcienne et offre des conseils sur la vie et la vertu.\n",
      "\n",
      "4. **\"La Métaphysique\" d'Aristote** - Un texte fondamental qui traite des questions de l'existence, de la substance et de la réalité.\n",
      "\n",
      "5. **\"Les Discours\" d'Épictète** - Ce stoïcien aborde des thèmes de la liberté, du contrôle personnel et de la manière de vivre une vie vertueuse.\n",
      "\n",
      "6. **\"Les Maximes\" de La Rochefoucauld** - Bien que davantage orienté vers la moralité et la critique sociale, ce livre s'inspire des philosophies antiques et peut offrir un éclairage intéressant.\n",
      "\n",
      "7. **\"Le Tao Tö King\" de Lao Tseu** - Bien que chinois, ce texte philosophique ancien partage des thèmes avec la philosophie antique occidentale et propose une vision du monde unique.\n",
      "\n",
      "Ces livres te donneront un bon aperçu des idées et des réflexions des philosophes antiques. Bonne lecture !\n",
      "Utilisateur : Peux-tu m'en recommander quelques-uns ?\n",
      "ChatBot : Bien sûr ! Voici quelques recommandations spécifiques de livres sur la philosophie antique :\n",
      "\n",
      "1. **\"La République\" de Platon** - Une exploration des concepts de justice et de société idéale.\n",
      "\n",
      "2. **\"Éthique à Nicomaque\" d'Aristote** - Une analyse approfondie de la vertu et du bonheur.\n",
      "\n",
      "3. **\"Les Pensées\" de Marc Aurèle** - Un recueil de réflexions stoïciennes sur la vie et la moralité.\n",
      "\n",
      "4. **\"Les Méditations\" de Marc Aurèle** - Une autre œuvre de Marc Aurèle, riche en sagesse stoïcienne.\n",
      "\n",
      "5. **\"Les Discours\" d'Épictète** - Un guide pratique sur la façon de vivre selon les principes stoïciens.\n",
      "\n",
      "6. **\"Socrate et la philosophie\" de Paul Ricoeur** - Une interprétation moderne des idées socratiques et de leur impact.\n",
      "\n",
      "7. **\"Le Banquet\" de Platon** - Un dialogue sur l'amour et la beauté, qui aborde des thèmes fondamentaux de la philosophie.\n",
      "\n",
      "Ces titres te fourniront une bonne base pour explorer la richesse de la philosophie antique. Bonne lecture !\n"
     ]
    }
   ],
   "source": [
    "from semantic_kernel.contents import ChatHistory\n",
    "\n",
    "# Initialiser l'historique\n",
    "chat_history = ChatHistory()\n",
    "chat_history.add_system_message(\"Vous êtes un chatbot utile et vous fournissez des recommandations de livres.\")\n",
    "\n",
    "# Définition du prompt de chat\n",
    "chat_prompt = \"\"\"\n",
    "{{$history}}\n",
    "User: {{$user_input}}\n",
    "ChatBot:\n",
    "\"\"\"\n",
    "\n",
    "# Configuration de l'exécution\n",
    "chat_exec_settings = OpenAIChatPromptExecutionSettings(\n",
    "    service_id=\"default\",\n",
    "    ai_model_id=model_id,\n",
    "    max_tokens=2000,\n",
    "    temperature=0.7,\n",
    ")\n",
    "\n",
    "# Configuration du chat template\n",
    "chat_template_config = PromptTemplateConfig(\n",
    "    template=chat_prompt,\n",
    "    name=\"chat\",\n",
    "    template_format=\"semantic-kernel\",\n",
    "    input_variables=[\n",
    "        InputVariable(name=\"user_input\", description=\"Message de l'utilisateur\", is_required=True),\n",
    "        InputVariable(name=\"history\", description=\"Historique de la conversation\", is_required=True),\n",
    "    ],\n",
    "    execution_settings=chat_exec_settings,\n",
    ")\n",
    "\n",
    "# Ajout au Kernel\n",
    "chat_function = kernel.add_function(function_name=\"chat\", plugin_name=\"chatPlugin\", prompt_template_config=chat_template_config)\n",
    "\n",
    "# Fonction asynchrone pour le chat\n",
    "async def chat(input_text: str):\n",
    "    print(f\"Utilisateur : {input_text}\")\n",
    "    response = await kernel.invoke(chat_function, KernelArguments(user_input=input_text, history=chat_history))\n",
    "    print(f\"ChatBot : {response}\")\n",
    "    chat_history.add_user_message(input_text)\n",
    "    chat_history.add_assistant_message(str(response))\n",
    "\n",
    "# Exécution des exemples\n",
    "await chat(\"Salut, je cherche des suggestions de livres sur la philosophie antique.\")\n",
    "await chat(\"Peux-tu m'en recommander quelques-uns ?\")\n"
   ]
  },
  {
   "cell_type": "markdown",
   "metadata": {},
   "source": [
    "# Conclusion\n",
    "\n",
    "Dans ce notebook, nous avons :\n",
    "- Installé et configuré **Semantic Kernel**.\n",
    "- Chargé et configuré le service LLM (ici, OpenAI).\n",
    "- Utilisé un plugin de prompt pour générer une blague.\n",
    "- Défini une fonction sémantique inline pour obtenir un résumé (TL;DR) d’un texte.\n",
    "- Créé une interaction de type chatbot en gérant l'historique via **Kernel Arguments**.\n",
    "\n",
    "Ces exemples illustrent comment Semantic Kernel peut vous aider à intégrer des capacités avancées de traitement du langage naturel dans vos applications Python de manière modulaire et flexible.\n",
    "\n",
    "Pour aller plus loin, vous pouvez explorer :\n",
    "- La création de plugins plus complexes.\n",
    "- L'intégration de fonctions supplémentaires et la gestion d'historique persistant.\n",
    "- L'utilisation de Semantic Kernel avec différents services LLM (Azure OpenAI, HuggingFace, etc.).\n",
    "\n",
    "Bonne exploration et n'hésitez pas à poser des questions !\n"
   ]
  }
 ],
 "metadata": {
  "kernelspec": {
   "display_name": "Python 3",
   "language": "python",
   "name": "python3"
  },
  "language_info": {
   "codemirror_mode": {
    "name": "ipython",
    "version": 3
   },
   "file_extension": ".py",
   "mimetype": "text/x-python",
   "name": "python",
   "nbconvert_exporter": "python",
   "pygments_lexer": "ipython3",
   "version": "3.11.9"
  },
  "polyglot_notebook": {
   "kernelInfo": {
    "defaultKernelName": "csharp",
    "items": [
     {
      "aliases": [],
      "name": "csharp"
     }
    ]
   }
  }
 },
 "nbformat": 4,
 "nbformat_minor": 2
}
