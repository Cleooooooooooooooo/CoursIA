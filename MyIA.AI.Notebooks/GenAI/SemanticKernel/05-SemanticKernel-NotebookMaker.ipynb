{
 "cells": [
  {
   "cell_type": "markdown",
   "metadata": {},
   "source": [
    "# Pipeline d'Orchestration Multi‑Agents pour la Mise à Jour de Notebook\n",
    "\n",
    "Ce notebook présente un pipeline 100% Python qui permet de :\n",
    "1. Exécuter un notebook template via Papermill et y injecter des paramètres.\n",
    "2. Mettre à jour dynamiquement une cellule ciblée dans le notebook via nbformat.\n",
    "3. Orchestrer une conversation collaborative entre plusieurs agents (Coder, Reviewer, Admin) utilisant Semantic Kernel, chacun disposant d’un kernel et de plugins spécifiques (ici, NotebookControlPlugin) afin d'interroger l'état du notebook et de soumettre sa validation.\n",
    "\n",
    "Le workflow itératif permet au Coder Agent de proposer des modifications, au Reviewer Agent d'exécuter et valider le notebook, et à l'Admin Agent de soumettre le tout pour approbation finale."
   ]
  },
  {
   "cell_type": "code",
   "execution_count": 8,
   "metadata": {},
   "outputs": [
    {
     "name": "stdout",
     "output_type": "stream",
     "text": [
      "Note: you may need to restart the kernel to use updated packages.\n",
      "Packages installés et imports effectués.\n"
     ]
    }
   ],
   "source": [
    "# Bloc 1 : Installation et imports (à exécuter une seule fois)\n",
    "%pip install --quiet papermill nbformat semantic-kernel\n",
    "\n",
    "import asyncio\n",
    "import logging\n",
    "import nbformat\n",
    "import papermill as pm\n",
    "from datetime import datetime \n",
    "\n",
    "# Imports de Semantic Kernel\n",
    "from semantic_kernel import Kernel\n",
    "from semantic_kernel.agents import ChatCompletionAgent, AgentGroupChat\n",
    "from semantic_kernel.connectors.ai.open_ai import OpenAIChatCompletion\n",
    "from semantic_kernel.contents import ChatHistory, AuthorRole, ChatMessageContent\n",
    "from semantic_kernel.functions import KernelArguments, kernel_function, KernelFunctionFromPrompt\n",
    "from semantic_kernel.agents.strategies import KernelFunctionTerminationStrategy, KernelFunctionSelectionStrategy\n",
    "\n",
    "# Configuration des logs avec formatage détaillé\n",
    "logging.basicConfig(\n",
    "    level=logging.INFO,\n",
    "    format='%(asctime)s [%(levelname)s] %(message)s',\n",
    "    handlers=[logging.StreamHandler()]\n",
    ")\n",
    "# Remplacer la configuration des logs existante par :\n",
    "class ColorFormatter(logging.Formatter):\n",
    "    colors = {\n",
    "        'DEBUG': '\\033[94m',\n",
    "        'INFO': '\\033[92m',\n",
    "        'WARNING': '\\033[93m',\n",
    "        'ERROR': '\\033[91m',\n",
    "        'CRITICAL': '\\033[91m\\033[1m'\n",
    "    }\n",
    "    reset = '\\033[0m'\n",
    "\n",
    "    def format(self, record):\n",
    "        color = self.colors.get(record.levelname, '')\n",
    "        message = super().format(record)\n",
    "        return f\"{color}{message}{self.reset}\" if color else message\n",
    "\n",
    "logger = logging.getLogger('Orchestration')\n",
    "logger.setLevel(logging.INFO)\n",
    "\n",
    "handler = logging.StreamHandler()\n",
    "handler.setFormatter(ColorFormatter(\n",
    "    '%(asctime)s [%(levelname)s] %(name)s - %(message)s',\n",
    "    datefmt='%Y-%m-%d %H:%M:%S'\n",
    "))\n",
    "logger.addHandler(handler)\n",
    "\n",
    "# Désactiver les logs verbeux des librairies\n",
    "logging.getLogger(\"papermill\").setLevel(logging.WARNING)\n",
    "logging.getLogger(\"semantic_kernel\").setLevel(logging.WARNING)\n",
    "logging.getLogger(\"openai\").setLevel(logging.WARNING)\n",
    "\n",
    "\n",
    "print(\"Packages installés et imports effectués.\")\n"
   ]
  },
  {
   "cell_type": "markdown",
   "metadata": {},
   "source": [
    "## Partie 1 : Exécution paramétrée et mise à jour du Notebook\n",
    "\n",
    "1. Nous chargeons un notebook template (Notebook-Template.ipynb) et y injectons l'instruction de tâche via Papermill.\n",
    "2. Ensuite, nous mettons à jour une cellule ciblée (repérant le marqueur unique TASK_INSTRUCTION_PLACEHOLDER) via nbformat, puis nous réexécutons le notebook pour obtenir la version finale."
   ]
  },
  {
   "cell_type": "code",
   "execution_count": 9,
   "metadata": {},
   "outputs": [
    {
     "name": "stderr",
     "output_type": "stream",
     "text": [
      "\u001b[92m2025-02-07 09:29:08 [INFO] Orchestration - 🚀 Début de l'exécution Papermill avec paramètre: Créer un notebook Python qui requête DBpedia via SPARQL et affiche un graphique Plotly.\u001b[0m\n",
      "\u001b[92m2025-02-07 09:29:08 [INFO] Orchestration - 🚀 Début de l'exécution Papermill avec paramètre: Créer un notebook Python qui requête DBpedia via SPARQL et affiche un graphique Plotly.\u001b[0m\n",
      "2025-02-07 09:29:08,391 [INFO] 🚀 Début de l'exécution Papermill avec paramètre: Créer un notebook Python qui requête DBpedia via SPARQL et affiche un graphique Plotly.\n",
      "2025-02-07 09:29:08,396 [WARNING] Passed unknown parameter: TASK_INSTRUCTION\n",
      "2025-02-07 09:29:08,400 [WARNING] Input notebook does not contain a cell with tag 'parameters'\n",
      "Executing: 100%|██████████| 12/12 [00:01<00:00,  6.80cell/s]\n",
      "\u001b[92m2025-02-07 09:29:10 [INFO] Orchestration - ✅ Papermill a généré: Notebook-Updated.ipynb\u001b[0m\n",
      "\u001b[92m2025-02-07 09:29:10 [INFO] Orchestration - ✅ Papermill a généré: Notebook-Updated.ipynb\u001b[0m\n",
      "2025-02-07 09:29:10,177 [INFO] ✅ Papermill a généré: Notebook-Updated.ipynb\n",
      "\u001b[92m2025-02-07 09:29:10 [INFO] Orchestration - 🔍 Recherche du marqueur 'TASK_INSTRUCTION_PLACEHOLDER' dans Notebook-Updated.ipynb\u001b[0m\n",
      "\u001b[92m2025-02-07 09:29:10 [INFO] Orchestration - 🔍 Recherche du marqueur 'TASK_INSTRUCTION_PLACEHOLDER' dans Notebook-Updated.ipynb\u001b[0m\n",
      "2025-02-07 09:29:10,180 [INFO] 🔍 Recherche du marqueur 'TASK_INSTRUCTION_PLACEHOLDER' dans Notebook-Updated.ipynb\n",
      "\u001b[92m2025-02-07 09:29:10 [INFO] Orchestration - 📄 Nombre de cellules initiales : 12\u001b[0m\n",
      "\u001b[92m2025-02-07 09:29:10 [INFO] Orchestration - 📄 Nombre de cellules initiales : 12\u001b[0m\n",
      "2025-02-07 09:29:10,195 [INFO] 📄 Nombre de cellules initiales : 12\n",
      "\u001b[92m2025-02-07 09:29:10 [INFO] Orchestration - 🎯 Cellule trouvée à l'index 2 - Type: markdown\u001b[0m\n",
      "\u001b[92m2025-02-07 09:29:10 [INFO] Orchestration - 🎯 Cellule trouvée à l'index 2 - Type: markdown\u001b[0m\n",
      "2025-02-07 09:29:10,197 [INFO] 🎯 Cellule trouvée à l'index 2 - Type: markdown\n",
      "\u001b[92m2025-02-07 09:29:10 [INFO] Orchestration - 👉 Avant mise à jour : ## 0. Objectif du Notebook  Dans cette section, nous décrivons l'objectif du notebook, sa fonction, \u001b[0m\n",
      "\u001b[92m2025-02-07 09:29:10 [INFO] Orchestration - 👉 Avant mise à jour : ## 0. Objectif du Notebook  Dans cette section, nous décrivons l'objectif du notebook, sa fonction, \u001b[0m\n",
      "2025-02-07 09:29:10,200 [INFO] 👉 Avant mise à jour : ## 0. Objectif du Notebook  Dans cette section, nous décrivons l'objectif du notebook, sa fonction, \n",
      "\u001b[92m2025-02-07 09:29:10 [INFO] Orchestration - ✅ Cellule 2 mise à jour avec succès\u001b[0m\n",
      "\u001b[92m2025-02-07 09:29:10 [INFO] Orchestration - ✅ Cellule 2 mise à jour avec succès\u001b[0m\n",
      "2025-02-07 09:29:10,204 [INFO] ✅ Cellule 2 mise à jour avec succès\n",
      "\u001b[92m2025-02-07 09:29:10 [INFO] Orchestration - 👉 Après mise à jour : TASK_INSTRUCTION_PLACEHOLDER Task: Créer un notebook Python qui requête DBpedia via SPARQL et affich...\u001b[0m\n",
      "\u001b[92m2025-02-07 09:29:10 [INFO] Orchestration - 👉 Après mise à jour : TASK_INSTRUCTION_PLACEHOLDER Task: Créer un notebook Python qui requête DBpedia via SPARQL et affich...\u001b[0m\n",
      "2025-02-07 09:29:10,206 [INFO] 👉 Après mise à jour : TASK_INSTRUCTION_PLACEHOLDER Task: Créer un notebook Python qui requête DBpedia via SPARQL et affich...\n",
      "\u001b[92m2025-02-07 09:29:10 [INFO] Orchestration - 🔄 Réexécution du notebook mis à jour\u001b[0m\n",
      "\u001b[92m2025-02-07 09:29:10 [INFO] Orchestration - 🔄 Réexécution du notebook mis à jour\u001b[0m\n",
      "2025-02-07 09:29:10,209 [INFO] 🔄 Réexécution du notebook mis à jour\n"
     ]
    },
    {
     "name": "stdout",
     "output_type": "stream",
     "text": [
      "Notebook exécuté sous 'Notebook-Updated.ipynb'.\n"
     ]
    },
    {
     "name": "stderr",
     "output_type": "stream",
     "text": [
      "Executing: 100%|██████████| 12/12 [00:01<00:00,  6.98cell/s]\n",
      "\u001b[92m2025-02-07 09:29:11 [INFO] Orchestration - ✅ Notebook final généré: Notebook-Final.ipynb\u001b[0m\n",
      "\u001b[92m2025-02-07 09:29:11 [INFO] Orchestration - ✅ Notebook final généré: Notebook-Final.ipynb\u001b[0m\n",
      "2025-02-07 09:29:11,960 [INFO] ✅ Notebook final généré: Notebook-Final.ipynb\n"
     ]
    }
   ],
   "source": [
    "# Exécution du notebook template avec Papermill\n",
    "source_notebook = \"Notebook-Template.ipynb\" \n",
    "output_notebook = \"Notebook-Updated.ipynb\"\n",
    "final_notebook = \"Notebook-Final.ipynb\"\n",
    "\n",
    "task_instruction = \"Créer un notebook Python qui requête DBpedia via SPARQL et affiche un graphique Plotly.\"\n",
    "\n",
    "logger.info(\"🚀 Début de l'exécution Papermill avec paramètre: %s\", task_instruction)\n",
    "pm.execute_notebook(\n",
    "    source_notebook,\n",
    "    output_notebook,\n",
    "    parameters=dict(TASK_INSTRUCTION=task_instruction)\n",
    ")\n",
    "logger.info(\"✅ Papermill a généré: %s\", output_notebook)\n",
    "print(f\"Notebook exécuté sous '{output_notebook}'.\")\n",
    "\n",
    "# Fonction de mise à jour enrichie avec logging\n",
    "def update_notebook_cell(notebook_path: str, unique_marker: str, new_content: str):\n",
    "    try:\n",
    "        logger.info(f\"🔍 Recherche du marqueur '{unique_marker}' dans {notebook_path}\")\n",
    "        nb = nbformat.read(notebook_path, as_version=4)\n",
    "        logger.info(f\"📄 Nombre de cellules initiales : {len(nb.cells)}\")\n",
    "        \n",
    "        found = False\n",
    "        for idx, cell in enumerate(nb.cells):\n",
    "            source = cell.get(\"source\", \"\")\n",
    "            if unique_marker in source:\n",
    "                logger.info(f\"🎯 Cellule trouvée à l'index {idx} - Type: {cell.cell_type}\")\n",
    "                logger.info(\"👉 Avant mise à jour : %s\", source[:100].replace(\"\\n\", \" \"))\n",
    "                cell[\"source\"] = new_content\n",
    "                nbformat.write(nb, notebook_path)\n",
    "                logger.info(\"✅ Cellule %d mise à jour avec succès\", idx)\n",
    "                logger.info(\"👉 Après mise à jour : %s\", cell[\"source\"][:100].replace(\"\\n\", \" \") + (\"...\" if len(cell[\"source\"]) > 100 else \"\"))\n",
    "                found = True\n",
    "                break\n",
    "        \n",
    "        if not found:\n",
    "            error_msg = f\"❌ Marqueur '{unique_marker}' non trouvé parmi {len(nb.cells)} cellules\"\n",
    "            logger.error(error_msg)\n",
    "            raise ValueError(error_msg)\n",
    "    except Exception as e:\n",
    "        logger.exception(f\"💥 Échec critique lors de la mise à jour du notebook: {str(e)}\")\n",
    "        raise\n",
    "\n",
    "\n",
    "\n",
    "# Appel avec log du résultat\n",
    "update_notebook_cell(output_notebook, \"TASK_INSTRUCTION_PLACEHOLDER\", \n",
    "                     f\"TASK_INSTRUCTION_PLACEHOLDER\\nTask: {task_instruction}\\nUpdated by AI Agent\")\n",
    "\n",
    "logger.info(\"🔄 Réexécution du notebook mis à jour\")\n",
    "pm.execute_notebook(output_notebook, final_notebook)\n",
    "logger.info(\"✅ Notebook final généré: Notebook-Final.ipynb\")\n"
   ]
  },
  {
   "cell_type": "markdown",
   "metadata": {},
   "source": [
    "## Partie 1bis : Visualisation Initiale du Notebook\n",
    "\n",
    "Avant de lancer la conversation entre agents, affichons une vue structurée du notebook template pour donner le contexte initial :"
   ]
  },
  {
   "cell_type": "code",
   "execution_count": 10,
   "metadata": {},
   "outputs": [
    {
     "data": {
      "text/html": [
       "<h3 style='color:#26608e'>📓 Contenu initial de Notebook-Template.ipynb</h3>"
      ],
      "text/plain": [
       "<IPython.core.display.HTML object>"
      ]
     },
     "metadata": {},
     "output_type": "display_data"
    },
    {
     "data": {
      "text/html": [
       "\n",
       "                <div style='border-left:4px solid #f0f0f0; padding:10px; margin:15px; border-radius:4px'>\n",
       "                    <div style='font-family: Monaco, monospace; font-size:0.9em; color:#404040'># Notebook de travail<br><br>Ce notebook est généré de façon incrémentale pour accomplir la tâche décrite ci-dessous.</div>\n",
       "                </div>\n",
       "            "
      ],
      "text/plain": [
       "<IPython.core.display.HTML object>"
      ]
     },
     "metadata": {},
     "output_type": "display_data"
    },
    {
     "name": "stderr",
     "output_type": "stream",
     "text": [
      "\u001b[92m2025-02-07 09:29:11 [INFO] Orchestration - 📄 Cell 0 preview: # Notebook de travail\n",
      "\n",
      "Ce notebook est généré de f...\u001b[0m\n",
      "\u001b[92m2025-02-07 09:29:11 [INFO] Orchestration - 📄 Cell 0 preview: # Notebook de travail\n",
      "\n",
      "Ce notebook est généré de f...\u001b[0m\n",
      "2025-02-07 09:29:11,987 [INFO] 📄 Cell 0 preview: # Notebook de travail\n",
      "\n",
      "Ce notebook est généré de f...\n"
     ]
    },
    {
     "data": {
      "text/html": [
       "\n",
       "                <div style='border-left:4px solid #f0f0f0; padding:10px; margin:15px; border-radius:4px'>\n",
       "                    <div style='font-family: Monaco, monospace; font-size:0.9em; color:#404040'>## 0. Objectif du Notebook<br><br>Dans cette section, nous décrivons l'objectif du notebook, sa fonction, les outils à utiliser et les buts à atteindre.<br><br>### Tâche originale<br><br>Voilà la tâche telle qu'elle a été initialement formulée :<br><br>{{TASK_DESCRIPTION}}<br><br>TASK_INSTRUCTION_PL...</div>\n",
       "                </div>\n",
       "            "
      ],
      "text/plain": [
       "<IPython.core.display.HTML object>"
      ]
     },
     "metadata": {},
     "output_type": "display_data"
    },
    {
     "name": "stderr",
     "output_type": "stream",
     "text": [
      "\u001b[92m2025-02-07 09:29:11 [INFO] Orchestration - 📄 Cell 1 preview: ## 0. Objectif du Notebook\n",
      "\n",
      "Dans cette section, no...\u001b[0m\n",
      "\u001b[92m2025-02-07 09:29:11 [INFO] Orchestration - 📄 Cell 1 preview: ## 0. Objectif du Notebook\n",
      "\n",
      "Dans cette section, no...\u001b[0m\n",
      "2025-02-07 09:29:11,994 [INFO] 📄 Cell 1 preview: ## 0. Objectif du Notebook\n",
      "\n",
      "Dans cette section, no...\n"
     ]
    },
    {
     "data": {
      "text/html": [
       "\n",
       "                <div style='border-left:4px solid #f0f0f0; padding:10px; margin:15px; border-radius:4px'>\n",
       "                    <div style='font-family: Monaco, monospace; font-size:0.9em; color:#404040'>## 1. Préparation de l'environnement<br><br>Nous allons installer et importer les composants nécessaires.<br><br></div>\n",
       "                </div>\n",
       "            "
      ],
      "text/plain": [
       "<IPython.core.display.HTML object>"
      ]
     },
     "metadata": {},
     "output_type": "display_data"
    },
    {
     "name": "stderr",
     "output_type": "stream",
     "text": [
      "\u001b[92m2025-02-07 09:29:12 [INFO] Orchestration - 📄 Cell 2 preview: ## 1. Préparation de l'environnement\n",
      "\n",
      "Nous allons...\u001b[0m\n",
      "\u001b[92m2025-02-07 09:29:12 [INFO] Orchestration - 📄 Cell 2 preview: ## 1. Préparation de l'environnement\n",
      "\n",
      "Nous allons...\u001b[0m\n",
      "2025-02-07 09:29:12,005 [INFO] 📄 Cell 2 preview: ## 1. Préparation de l'environnement\n",
      "\n",
      "Nous allons...\n"
     ]
    },
    {
     "data": {
      "text/html": [
       "\n",
       "                <div style='border-left:4px solid #e0e0e0; padding:10px; margin:15px; border-radius:4px'>\n",
       "                    <div style='font-family: Monaco, monospace; font-size:0.9em; color:#404040'># Cellule 1</div>\n",
       "                </div>\n",
       "            "
      ],
      "text/plain": [
       "<IPython.core.display.HTML object>"
      ]
     },
     "metadata": {},
     "output_type": "display_data"
    },
    {
     "name": "stderr",
     "output_type": "stream",
     "text": [
      "\u001b[92m2025-02-07 09:29:12 [INFO] Orchestration - 📄 Cell 3 preview: # Cellule 1...\u001b[0m\n",
      "\u001b[92m2025-02-07 09:29:12 [INFO] Orchestration - 📄 Cell 3 preview: # Cellule 1...\u001b[0m\n",
      "2025-02-07 09:29:12,014 [INFO] 📄 Cell 3 preview: # Cellule 1...\n"
     ]
    },
    {
     "data": {
      "text/html": [
       "\n",
       "                <div style='border-left:4px solid #f0f0f0; padding:10px; margin:15px; border-radius:4px'>\n",
       "                    <div style='font-family: Monaco, monospace; font-size:0.9em; color:#404040'>## 2. Initialisation<br><br>Dans cette partie, nous créons les objets nécessaires pour réaliser la tâche.<br><br></div>\n",
       "                </div>\n",
       "            "
      ],
      "text/plain": [
       "<IPython.core.display.HTML object>"
      ]
     },
     "metadata": {},
     "output_type": "display_data"
    },
    {
     "name": "stderr",
     "output_type": "stream",
     "text": [
      "\u001b[92m2025-02-07 09:29:12 [INFO] Orchestration - 📄 Cell 4 preview: ## 2. Initialisation\n",
      "\n",
      "Dans cette partie, nous créo...\u001b[0m\n",
      "\u001b[92m2025-02-07 09:29:12 [INFO] Orchestration - 📄 Cell 4 preview: ## 2. Initialisation\n",
      "\n",
      "Dans cette partie, nous créo...\u001b[0m\n",
      "2025-02-07 09:29:12,022 [INFO] 📄 Cell 4 preview: ## 2. Initialisation\n",
      "\n",
      "Dans cette partie, nous créo...\n"
     ]
    }
   ],
   "source": [
    "# Nouvelle cellule après l'exécution de Papermill (Bloc 2)\n",
    "\n",
    "from IPython.display import display, HTML, Markdown\n",
    "\n",
    "# Nouvelle version enrichie de display_notebook\n",
    "def display_notebook(notebook_path: str, max_cells: int = 5):\n",
    "    try:\n",
    "        nb = nbformat.read(notebook_path, as_version=4)\n",
    "        display(HTML(f\"<h3 style='color:#26608e'>📓 Contenu initial de {notebook_path}</h3>\"))\n",
    "        \n",
    "        for i, cell in enumerate(nb.cells[:max_cells]):\n",
    "            cell_type = cell.cell_type.capitalize()\n",
    "            header = f\"### Cellule {i} ({cell_type})\"\n",
    "            content = cell.source.replace(\"\\n\", \"<br>\")[:300] + (\"...\" if len(cell.source) > 300 else \"\")\n",
    "            \n",
    "            # Ajout d'une couleur de bordure selon le type\n",
    "            border_color = \"#e0e0e0\" if cell_type == \"Code\" else \"#f0f0f0\"\n",
    "            \n",
    "            display(HTML(f\"\"\"\n",
    "                <div style='border-left:4px solid {border_color}; padding:10px; margin:15px; border-radius:4px'>\n",
    "                    <div style='font-family: Monaco, monospace; font-size:0.9em; color:#404040'>{content}</div>\n",
    "                </div>\n",
    "            \"\"\"))\n",
    "            logger.info(f\"📄 Cell {i} preview: {cell.source[:50].strip()}...\")\n",
    "            \n",
    "    except Exception as e:\n",
    "        logger.error(f\"🚨 Erreur d'affichage du notebook : {str(e)}\")\n",
    "        raise\n",
    "\n",
    "# Afficher le template initial avant l'exécution\n",
    "display_notebook(source_notebook)"
   ]
  },
  {
   "cell_type": "markdown",
   "metadata": {},
   "source": [
    "## Partie 2 : Intégration d'un Plugin de Contrôle du Notebook\n",
    "\n",
    "Nous définissons un plugin (NotebookControlPlugin) qui expose des fonctions pour :\n",
    "- Obtenir le statut du notebook (par exemple, le nombre de cellules, les erreurs éventuelles) via `get_notebook_status`.\n",
    "- Soumettre le notebook pour approbation via `submit_for_approval`.\n",
    "\n",
    "Ces fonctions permettront aux agents d'interroger l'état du notebook et de déclencher des actions."
   ]
  },
  {
   "cell_type": "code",
   "execution_count": 11,
   "metadata": {},
   "outputs": [],
   "source": [
    "# Classe d'état partagée pour le notebook\n",
    "class NotebookState:\n",
    "    def __init__(self, notebook_path: str):\n",
    "        self.notebook_path = notebook_path\n",
    "    def __str__(self):\n",
    "        return f\"NotebookState(notebook_path='{self.notebook_path}')\"\n",
    "\n",
    "shared_state = NotebookState(final_notebook)\n",
    "\n",
    "# Plugin pour le Coder Agent\n",
    "class NotebookControlPluginCoder:\n",
    "    def __init__(self, state):\n",
    "        self.state = state\n",
    "        self.logger = logging.getLogger(\"CoderPlugin\")\n",
    "\n",
    "    @kernel_function(description=\"Met à jour une cellule identifiée par un marqueur unique.\")\n",
    "    def update_cell(self, marker: str, new_content: str) -> str:\n",
    "        self.logger.info(\"📤 Appel de update_cell avec marker: %s\", marker)\n",
    "        try:\n",
    "            nb = nbformat.read(self.state.notebook_path, as_version=4)\n",
    "            self.logger.info(\"Lecture du notebook '%s'; %d cellules trouvées.\", self.state.notebook_path, len(nb.cells))\n",
    "            found = False\n",
    "            for cell in nb.cells:\n",
    "                if marker in cell.get(\"source\", \"\"):\n",
    "                    cell[\"source\"] = new_content\n",
    "                    found = True\n",
    "                    break\n",
    "            if not found:\n",
    "                error_msg = f\"❌ Erreur : Le marqueur '{marker}' n'a pas été trouvé.\"\n",
    "                self.logger.error(error_msg)\n",
    "                return error_msg\n",
    "            nbformat.write(nb, self.state.notebook_path)\n",
    "            self.logger.info(\"✅ Mise à jour effectuée. Nouveau contenu (truncated): %s\", new_content[:100])\n",
    "            return f\"✅ Cellule mise à jour dans '{self.state.notebook_path}'.\"\n",
    "        except Exception as ex:\n",
    "            error_msg = f\"❌ Erreur lors de la mise à jour: {ex}\"\n",
    "            self.logger.error(error_msg)\n",
    "            return error_msg\n",
    "\n",
    "    @kernel_function(description=\"Récupère le contenu actuel d'une cellule spécifique.\")\n",
    "    def get_cell_content(self, cell_index: int) -> str:\n",
    "        self.logger.info(\"Lecture de la cellule %d\", cell_index)\n",
    "        nb = nbformat.read(self.state.notebook_path, as_version=4)\n",
    "        if 0 <= cell_index < len(nb.cells):\n",
    "            cell = nb.cells[cell_index]\n",
    "            return f\"Cellule {cell_index} ({cell.cell_type}):\\n{cell.source[:200]}{'...' if len(cell.source)>200 else ''}\"\n",
    "        return f\"Index {cell_index} invalide; le notebook contient {len(nb.cells)} cellules.\"\n",
    "\n",
    "\n",
    "\n",
    "\n",
    "class NotebookControlPluginReviewer:\n",
    "    def __init__(self, state):\n",
    "        self.state = state\n",
    "        self.logger = logging.getLogger(\"ReviewerPlugin\")\n",
    "\n",
    "    @kernel_function(description=\"Exécute le notebook et retourne un rapport de validation.\")\n",
    "    def get_notebook_status(self) -> str:\n",
    "        try:\n",
    "            executed_path = self.state.notebook_path.replace(\".ipynb\", \"-VALIDATED.ipynb\")\n",
    "            self.logger.info(\"⏳ Exécution de validation du notebook '%s'\", self.state.notebook_path)\n",
    "            pm.execute_notebook(\n",
    "                self.state.notebook_path,\n",
    "                executed_path,\n",
    "                kernel_name=\"python3\",\n",
    "                progress_bar=False\n",
    "            )\n",
    "            nb = nbformat.read(executed_path, as_version=4)\n",
    "            stats = {\"cells\": len(nb.cells), \"errors\": 0, \"outputs\": 0}\n",
    "            error_details = []\n",
    "            for idx, cell in enumerate(nb.cells):\n",
    "                if cell.cell_type == \"code\":\n",
    "                    stats[\"outputs\"] += len(cell.get(\"outputs\", []))\n",
    "                    for output in cell.get(\"outputs\", []):\n",
    "                        if output.get(\"output_type\") == \"error\":\n",
    "                            stats[\"errors\"] += 1\n",
    "                            error_details.append(f\"🚨 Cellule {idx}: {output.get('ename')} - {output.get('evalue')}\")\n",
    "            report = [\n",
    "                \"📊 RAPPORT DE VALIDATION\",\n",
    "                f\"• Cellules: {stats['cells']}\",\n",
    "                f\"• Sorties: {stats['outputs']}\",\n",
    "                f\"• Erreurs: {stats['errors']}\",\n",
    "            ]\n",
    "            if error_details:\n",
    "                report.extend(error_details)\n",
    "                report.append(\"❌ ERREURS DÉTECTÉES\")\n",
    "            else:\n",
    "                report.append(\"✅ VALIDATION TERMINÉE\")\n",
    "            final_report = \"\\n\".join(report)\n",
    "            self.logger.info(\"Rapport de validation généré.\")\n",
    "            return final_report\n",
    "        except Exception as e:\n",
    "            self.logger.error(\"🔥 Échec de la validation: %s\", e)\n",
    "            return f\"❌ Validation impossible: {e}\"\n",
    "\n",
    "\n",
    "\n",
    "# Plugin pour l'Admin Agent\n",
    "class NotebookControlPluginAdmin:\n",
    "    def __init__(self, state):\n",
    "        self.state = state\n",
    "        self.logger = logging.getLogger(\"AdminPlugin\")\n",
    "\n",
    "    @kernel_function(description=\"Soumet le notebook pour approbation.\")\n",
    "    def submit_for_approval(self) -> str:\n",
    "        self.logger.info(\"📝 Soumission du notebook '%s' pour approbation.\", self.state.notebook_path)\n",
    "        # Ici, vous pouvez ajouter des vérifications supplémentaires si besoin.\n",
    "        return f\"✅ Notebook '{self.state.notebook_path}' soumis et approuvé.\"\n",
    "\n",
    "    \n",
    "\n"
   ]
  },
  {
   "cell_type": "markdown",
   "metadata": {},
   "source": [
    "## Partie 3 : Création des Agents (Coder, Reviewer, Admin) avec Plugins\n",
    "\n",
    "Chaque agent aura son propre kernel auquel sera ajouté un plugin spécifique lui permettant d'accéder aux fonctions de contrôle du notebook.\n",
    "- Le **Coder Agent** utilisera NotebookControlPluginCoder pour éditer les cellules.\n",
    "- Le **Reviewer Agent** utilisera NotebookControlPluginReviewer pour obtenir le statut du notebook.\n",
    "- L’**Admin Agent** utilisera NotebookControlPluginAdmin pour soumettre le notebook pour approbation."
   ]
  },
  {
   "cell_type": "code",
   "execution_count": 12,
   "metadata": {},
   "outputs": [
    {
     "name": "stdout",
     "output_type": "stream",
     "text": [
      "Group chat multi-agent créé avec plugins spécifiques (état partagé).\n"
     ]
    }
   ],
   "source": [
    "def create_kernel_for_agent(service_id: str, plugin_instance) -> Kernel:\n",
    "    k = Kernel()\n",
    "    # Ajout du service OpenAIChatCompletion pour cet agent\n",
    "    k.add_service(OpenAIChatCompletion(service_id=service_id, ai_model_id=\"gpt-4o-mini\"))\n",
    "    # Ajout du plugin spécifique, si fourni\n",
    "    if plugin_instance is not None:\n",
    "        k.add_plugin(plugin_instance, plugin_name=\"nbcontrol\")\n",
    "    return k\n",
    "\n",
    "# Instructions et noms pour chaque agent\n",
    "CODER_AGENT_NAME = \"Coder_Agent\"\n",
    "CODER_AGENT_INSTRUCTIONS = \"Vous êtes le Coder. Vous devez mettre à jour les cellules de code selon l'instruction fournie.\"\n",
    "\n",
    "REVIEWER_AGENT_NAME = \"Reviewer_Agent\"\n",
    "REVIEWER_AGENT_INSTRUCTIONS = \"Vous êtes le Reviewer. Exécutez le notebook complet, vérifiez son statut via get_notebook_status et fournissez des retours.\"\n",
    "\n",
    "ADMIN_AGENT_NAME = \"Admin_Agent\"\n",
    "ADMIN_AGENT_INSTRUCTIONS = \"Vous êtes l'Admin. Vérifiez que le notebook est correct et soumettez-le pour approbation via submit_for_approval.\"\n",
    "\n",
    "# Création des plugins spécifiques pour chaque agent (en partageant l'état)\n",
    "coder_plugin = NotebookControlPluginCoder(shared_state)\n",
    "reviewer_plugin = NotebookControlPluginReviewer(shared_state)\n",
    "admin_plugin = NotebookControlPluginAdmin(shared_state)\n",
    "\n",
    "# Création des kernels dédiés pour chaque agent\n",
    "coder_kernel = create_kernel_for_agent(CODER_AGENT_NAME, coder_plugin)\n",
    "reviewer_kernel = create_kernel_for_agent(REVIEWER_AGENT_NAME, reviewer_plugin)\n",
    "admin_kernel = create_kernel_for_agent(ADMIN_AGENT_NAME, admin_plugin)\n",
    "\n",
    "# Création des agents\n",
    "coder_agent = ChatCompletionAgent(\n",
    "    service_id=CODER_AGENT_NAME,\n",
    "    kernel=coder_kernel,\n",
    "    name=CODER_AGENT_NAME,\n",
    "    instructions=CODER_AGENT_INSTRUCTIONS\n",
    ")\n",
    "\n",
    "reviewer_agent = ChatCompletionAgent(\n",
    "    service_id=REVIEWER_AGENT_NAME,\n",
    "    kernel=reviewer_kernel,\n",
    "    name=REVIEWER_AGENT_NAME,\n",
    "    instructions=REVIEWER_AGENT_INSTRUCTIONS\n",
    ")\n",
    "\n",
    "admin_agent = ChatCompletionAgent(\n",
    "    service_id=ADMIN_AGENT_NAME,\n",
    "    kernel=admin_kernel,\n",
    "    name=ADMIN_AGENT_NAME,\n",
    "    instructions=ADMIN_AGENT_INSTRUCTIONS\n",
    ")\n",
    "\n",
    "# Création d'un group chat avec les trois agents\n",
    "group_chat = AgentGroupChat(agents=[coder_agent, reviewer_agent, admin_agent])\n",
    "print(\"Group chat multi-agent créé avec plugins spécifiques (état partagé).\")\n"
   ]
  },
  {
   "cell_type": "markdown",
   "metadata": {},
   "source": [
    "## Partie 4 : Workflow Itératif Complet\n",
    "\n",
    "Dans cette section, nous mettons en place un workflow itératif où :\n",
    "- L'utilisateur envoie une demande de mise à jour.\n",
    "- Le **Coder Agent** propose des modifications via sa fonction d'édition.\n",
    "- Le **Reviewer Agent** exécute le notebook et vérifie son statut via `get_notebook_status`.\n",
    "- L’**Admin Agent** intervient pour soumettre le notebook pour approbation via `submit_for_approval`.\n",
    "\n",
    "Le passage de main (sélection du prochain agent) et la terminaison de la conversation sont gérés par des stratégies basées sur des fonctions kernel (créées à partir de prompts)."
   ]
  },
  {
   "cell_type": "code",
   "execution_count": 13,
   "metadata": {},
   "outputs": [],
   "source": [
    "from semantic_kernel.functions.kernel_function_from_prompt import KernelFunctionFromPrompt\n",
    "from semantic_kernel.agents.strategies import KernelFunctionTerminationStrategy, KernelFunctionSelectionStrategy\n",
    "\n",
    "# Pour extraire le contenu texte d'un résultat éventuel (si c'est un ChatMessageContent), on définit des parsers dédiés\n",
    "def selection_result_parser(result):\n",
    "    value = result.value\n",
    "    if value is None:\n",
    "        return CODER_AGENT_NAME\n",
    "    # Si le résultat est une liste, on prend le contenu du premier élément\n",
    "    if isinstance(value, list):\n",
    "        first = value[0]\n",
    "        if hasattr(first, \"content\"):\n",
    "            return first.content.strip()\n",
    "        else:\n",
    "            return str(first).strip()\n",
    "    # Si le résultat possède l'attribut 'content', on le retourne\n",
    "    if hasattr(value, \"content\"):\n",
    "        return value.content.strip()\n",
    "    return str(value).strip()\n",
    "\n",
    "\n",
    "def termination_result_parser(result):\n",
    "    value = result.value\n",
    "    if value is None:\n",
    "        return False\n",
    "    if isinstance(value, list):\n",
    "        first = value[0]\n",
    "        text = first.content if hasattr(first, \"content\") else str(first)\n",
    "    elif hasattr(value, \"content\"):\n",
    "        text = value.content\n",
    "    else:\n",
    "        text = str(value)\n",
    "    return \"approved\" in text.lower()\n",
    "\n",
    "\n",
    "# Définition d'une fonction de terminaison via prompt\n",
    "termination_function = KernelFunctionFromPrompt(\n",
    "    function_name=\"termination\",\n",
    "    prompt=\"\"\"\n",
    "Examine the conversation history and determine if the notebook is approved.\n",
    "If the notebook is approved, respond with a single word: \"approved\".\n",
    "Otherwise, respond with \"continue\".\n",
    "History:\n",
    "{{$history}}\n",
    "\"\"\"\n",
    ")\n",
    "\n",
    "# Définition d'une fonction de sélection via prompt\n",
    "selection_function = KernelFunctionFromPrompt(\n",
    "    function_name=\"selection\",\n",
    "    prompt=f\"\"\"\n",
    "Determine which agent should take the next turn based on the conversation history.\n",
    "Rules:\n",
    "- After user input, it is the Coder_Agent's turn.\n",
    "- After Coder_Agent responds, it is Reviewer_Agent's turn.\n",
    "- After Reviewer_Agent responds, it is the Coder_Agent's turn again.\n",
    "- Admin_Agent intervenes only when the Reviewer indicates readiness for approval.\n",
    "History:\n",
    "{{{{$history}}}}\n",
    "Return only the agent name.\n",
    "\"\"\"\n",
    ")\n",
    "\n",
    "# Création d'une instance de kernel pour les stratégies (pour la sélection et la terminaison)\n",
    "def create_kernel_for_strategy(service_id: str) -> Kernel:\n",
    "    k = Kernel()\n",
    "    k.add_service(OpenAIChatCompletion(service_id=service_id))\n",
    "    return k\n",
    "\n",
    "termination_strategy = KernelFunctionTerminationStrategy(\n",
    "    agents=[admin_agent],\n",
    "    function=termination_function,\n",
    "    kernel=create_kernel_for_strategy(\"termination\"),\n",
    "    result_parser=termination_result_parser,  # Utilisation de la fonction de parsing corrigée\n",
    "    history_variable_name=\"history\",\n",
    "    maximum_iterations=10\n",
    ")\n",
    "\n",
    "\n",
    "selection_strategy = KernelFunctionSelectionStrategy(\n",
    "    function=selection_function,\n",
    "    kernel=create_kernel_for_strategy(\"selection\"),\n",
    "    result_parser=selection_result_parser,  # Utilisation de la fonction de parsing corrigée\n",
    "    agent_variable_name=\"_agent_\",\n",
    "    history_variable_name=\"history\"\n",
    ")\n",
    "\n",
    "\n",
    "# Création d'un nouveau group chat itératif intégrant ces stratégies\n",
    "iterative_group_chat = AgentGroupChat(\n",
    "    agents=[coder_agent, reviewer_agent, admin_agent],\n",
    "    termination_strategy=termination_strategy,\n",
    "    selection_strategy=selection_strategy\n",
    ")\n",
    "\n",
    "\n"
   ]
  },
  {
   "cell_type": "code",
   "execution_count": 14,
   "metadata": {},
   "outputs": [
    {
     "name": "stderr",
     "output_type": "stream",
     "text": [
      "\u001b[92m2025-02-07 09:29:13 [INFO] Orchestration - 📂 Contexte initial injecté :  ## CONTEXTE INITIAL ## Notebook template: Notebook-Template.ipynb Extrait de ce...\u001b[0m\n",
      "\u001b[92m2025-02-07 09:29:13 [INFO] Orchestration - 📂 Contexte initial injecté :  ## CONTEXTE INITIAL ## Notebook template: Notebook-Template.ipynb Extrait de ce...\u001b[0m\n",
      "2025-02-07 09:29:13,976 [INFO] 📂 Contexte initial injecté :  ## CONTEXTE INITIAL ## Notebook template: Notebook-Template.ipynb Extrait de ce...\n"
     ]
    },
    {
     "name": "stdout",
     "output_type": "stream",
     "text": [
      "# User: 'Veuillez implémenter une requête SPARQL sur DBpedia avec visualisation Plotly.'\n"
     ]
    },
    {
     "name": "stderr",
     "output_type": "stream",
     "text": [
      "2025-02-07 09:29:14,983 [INFO] HTTP Request: POST https://api.openai.com/v1/chat/completions \"HTTP/1.1 200 OK\"\n",
      "2025-02-07 09:29:16,465 [INFO] HTTP Request: POST https://api.openai.com/v1/chat/completions \"HTTP/1.1 200 OK\"\n",
      "\u001b[92m2025-02-07 09:29:16 [INFO] Orchestration - [Tour 1] ASSISTANT: D'accord, je suis prêt à vous aider avec les mises à jour de code. Quelle instruction spécifique souhaitez-vous que je s...\u001b[0m\n",
      "\u001b[92m2025-02-07 09:29:16 [INFO] Orchestration - [Tour 1] ASSISTANT: D'accord, je suis prêt à vous aider avec les mises à jour de code. Quelle instruction spécifique souhaitez-vous que je s...\u001b[0m\n",
      "2025-02-07 09:29:16,469 [INFO] [Tour 1] ASSISTANT: D'accord, je suis prêt à vous aider avec les mises à jour de code. Quelle instruction spécifique souhaitez-vous que je s...\n",
      "2025-02-07 09:29:17,141 [INFO] HTTP Request: POST https://api.openai.com/v1/chat/completions \"HTTP/1.1 200 OK\"\n",
      "2025-02-07 09:29:19,175 [INFO] HTTP Request: POST https://api.openai.com/v1/chat/completions \"HTTP/1.1 200 OK\"\n",
      "\u001b[92m2025-02-07 09:29:19 [INFO] Orchestration - [Tour 2] ASSISTANT: Je ne peux pas exécuter de notebooks ou vérifier leur statut directement. Cependant, je peux vous aider à passer en revu...\u001b[0m\n",
      "\u001b[92m2025-02-07 09:29:19 [INFO] Orchestration - [Tour 2] ASSISTANT: Je ne peux pas exécuter de notebooks ou vérifier leur statut directement. Cependant, je peux vous aider à passer en revu...\u001b[0m\n",
      "2025-02-07 09:29:19,178 [INFO] [Tour 2] ASSISTANT: Je ne peux pas exécuter de notebooks ou vérifier leur statut directement. Cependant, je peux vous aider à passer en revu...\n",
      "\u001b[92m2025-02-07 09:29:19 [INFO] Orchestration - 📌 État du notebook 'Notebook-Final.ipynb': 12 cellules\u001b[0m\n",
      "\u001b[92m2025-02-07 09:29:19 [INFO] Orchestration - 📌 État du notebook 'Notebook-Final.ipynb': 12 cellules\u001b[0m\n",
      "2025-02-07 09:29:19,191 [INFO] 📌 État du notebook 'Notebook-Final.ipynb': 12 cellules\n",
      "2025-02-07 09:29:19,761 [INFO] HTTP Request: POST https://api.openai.com/v1/chat/completions \"HTTP/1.1 200 OK\"\n",
      "2025-02-07 09:29:20,716 [INFO] HTTP Request: POST https://api.openai.com/v1/chat/completions \"HTTP/1.1 200 OK\"\n",
      "\u001b[92m2025-02-07 09:29:20 [INFO] Orchestration - [Tour 3] ASSISTANT: Je suis ici pour vous aider. Veuillez fournir le code que vous souhaitez mettre à jour ou les instructions spécifiques s...\u001b[0m\n",
      "\u001b[92m2025-02-07 09:29:20 [INFO] Orchestration - [Tour 3] ASSISTANT: Je suis ici pour vous aider. Veuillez fournir le code que vous souhaitez mettre à jour ou les instructions spécifiques s...\u001b[0m\n",
      "2025-02-07 09:29:20,718 [INFO] [Tour 3] ASSISTANT: Je suis ici pour vous aider. Veuillez fournir le code que vous souhaitez mettre à jour ou les instructions spécifiques s...\n",
      "2025-02-07 09:29:21,249 [INFO] HTTP Request: POST https://api.openai.com/v1/chat/completions \"HTTP/1.1 200 OK\"\n",
      "2025-02-07 09:29:24,201 [INFO] HTTP Request: POST https://api.openai.com/v1/chat/completions \"HTTP/1.1 200 OK\"\n",
      "\u001b[92m2025-02-07 09:29:24 [INFO] Orchestration - [Tour 4] ASSISTANT: Il semble qu'il y ait une confusion sur les capacités disponibles ici. Je ne peux pas exécuter de code ou interagir dire...\u001b[0m\n",
      "\u001b[92m2025-02-07 09:29:24 [INFO] Orchestration - [Tour 4] ASSISTANT: Il semble qu'il y ait une confusion sur les capacités disponibles ici. Je ne peux pas exécuter de code ou interagir dire...\u001b[0m\n",
      "2025-02-07 09:29:24,208 [INFO] [Tour 4] ASSISTANT: Il semble qu'il y ait une confusion sur les capacités disponibles ici. Je ne peux pas exécuter de code ou interagir dire...\n",
      "\u001b[92m2025-02-07 09:29:24 [INFO] Orchestration - 📌 État du notebook 'Notebook-Final.ipynb': 12 cellules\u001b[0m\n",
      "\u001b[92m2025-02-07 09:29:24 [INFO] Orchestration - 📌 État du notebook 'Notebook-Final.ipynb': 12 cellules\u001b[0m\n",
      "2025-02-07 09:29:24,211 [INFO] 📌 État du notebook 'Notebook-Final.ipynb': 12 cellules\n",
      "2025-02-07 09:29:24,827 [INFO] HTTP Request: POST https://api.openai.com/v1/chat/completions \"HTTP/1.1 200 OK\"\n",
      "2025-02-07 09:29:25,876 [INFO] HTTP Request: POST https://api.openai.com/v1/chat/completions \"HTTP/1.1 200 OK\"\n",
      "\u001b[92m2025-02-07 09:29:25 [INFO] Orchestration - [Tour 5] ASSISTANT: Je suis ici pour répondre à vos demandes concernant le code. Veuillez spécifier ce que vous souhaitez modifier ou mettre...\u001b[0m\n",
      "\u001b[92m2025-02-07 09:29:25 [INFO] Orchestration - [Tour 5] ASSISTANT: Je suis ici pour répondre à vos demandes concernant le code. Veuillez spécifier ce que vous souhaitez modifier ou mettre...\u001b[0m\n",
      "2025-02-07 09:29:25,878 [INFO] [Tour 5] ASSISTANT: Je suis ici pour répondre à vos demandes concernant le code. Veuillez spécifier ce que vous souhaitez modifier ou mettre...\n",
      "2025-02-07 09:29:26,475 [INFO] HTTP Request: POST https://api.openai.com/v1/chat/completions \"HTTP/1.1 200 OK\"\n",
      "2025-02-07 09:29:32,575 [INFO] HTTP Request: POST https://api.openai.com/v1/chat/completions \"HTTP/1.1 200 OK\"\n",
      "\u001b[92m2025-02-07 09:29:32 [INFO] Orchestration - [Tour 6] ASSISTANT: Si vous avez un notebook ou du code précis sur lequel vous souhaitez des retours, n'hésitez pas à le partager ici, et je...\u001b[0m\n",
      "\u001b[92m2025-02-07 09:29:32 [INFO] Orchestration - [Tour 6] ASSISTANT: Si vous avez un notebook ou du code précis sur lequel vous souhaitez des retours, n'hésitez pas à le partager ici, et je...\u001b[0m\n",
      "2025-02-07 09:29:32,578 [INFO] [Tour 6] ASSISTANT: Si vous avez un notebook ou du code précis sur lequel vous souhaitez des retours, n'hésitez pas à le partager ici, et je...\n",
      "\u001b[92m2025-02-07 09:29:32 [INFO] Orchestration - 📌 État du notebook 'Notebook-Final.ipynb': 12 cellules\u001b[0m\n",
      "\u001b[92m2025-02-07 09:29:32 [INFO] Orchestration - 📌 État du notebook 'Notebook-Final.ipynb': 12 cellules\u001b[0m\n",
      "2025-02-07 09:29:32,580 [INFO] 📌 État du notebook 'Notebook-Final.ipynb': 12 cellules\n",
      "2025-02-07 09:29:33,209 [INFO] HTTP Request: POST https://api.openai.com/v1/chat/completions \"HTTP/1.1 200 OK\"\n",
      "2025-02-07 09:29:34,272 [INFO] HTTP Request: POST https://api.openai.com/v1/chat/completions \"HTTP/1.1 200 OK\"\n",
      "\u001b[92m2025-02-07 09:29:34 [INFO] Orchestration - [Tour 7] ASSISTANT: Je suis prêt à vous aider avec votre code. Veuillez fournir les détails sur ce que vous souhaitez mettre à jour ou modif...\u001b[0m\n",
      "\u001b[92m2025-02-07 09:29:34 [INFO] Orchestration - [Tour 7] ASSISTANT: Je suis prêt à vous aider avec votre code. Veuillez fournir les détails sur ce que vous souhaitez mettre à jour ou modif...\u001b[0m\n",
      "2025-02-07 09:29:34,274 [INFO] [Tour 7] ASSISTANT: Je suis prêt à vous aider avec votre code. Veuillez fournir les détails sur ce que vous souhaitez mettre à jour ou modif...\n",
      "2025-02-07 09:29:40,334 [INFO] HTTP Request: POST https://api.openai.com/v1/chat/completions \"HTTP/1.1 200 OK\"\n",
      "2025-02-07 09:29:42,337 [INFO] HTTP Request: POST https://api.openai.com/v1/chat/completions \"HTTP/1.1 200 OK\"\n",
      "\u001b[92m2025-02-07 09:29:42 [INFO] Orchestration - [Tour 8] ASSISTANT: Il semble qu'il y ait un malentendu dans notre échange. Je suis ici pour vous aider à examiner ou à améliorer votre code...\u001b[0m\n",
      "\u001b[92m2025-02-07 09:29:42 [INFO] Orchestration - [Tour 8] ASSISTANT: Il semble qu'il y ait un malentendu dans notre échange. Je suis ici pour vous aider à examiner ou à améliorer votre code...\u001b[0m\n",
      "2025-02-07 09:29:42,340 [INFO] [Tour 8] ASSISTANT: Il semble qu'il y ait un malentendu dans notre échange. Je suis ici pour vous aider à examiner ou à améliorer votre code...\n",
      "\u001b[92m2025-02-07 09:29:42 [INFO] Orchestration - 📌 État du notebook 'Notebook-Final.ipynb': 12 cellules\u001b[0m\n",
      "\u001b[92m2025-02-07 09:29:42 [INFO] Orchestration - 📌 État du notebook 'Notebook-Final.ipynb': 12 cellules\u001b[0m\n",
      "2025-02-07 09:29:42,343 [INFO] 📌 État du notebook 'Notebook-Final.ipynb': 12 cellules\n",
      "2025-02-07 09:29:43,071 [INFO] HTTP Request: POST https://api.openai.com/v1/chat/completions \"HTTP/1.1 200 OK\"\n",
      "2025-02-07 09:29:44,221 [INFO] HTTP Request: POST https://api.openai.com/v1/chat/completions \"HTTP/1.1 200 OK\"\n",
      "\u001b[92m2025-02-07 09:29:44 [INFO] Orchestration - [Tour 9] ASSISTANT: Je suis ici pour vous aider avec votre code ou votre notebook ! Merci de partager les détails de ce que vous souhaitez m...\u001b[0m\n",
      "\u001b[92m2025-02-07 09:29:44 [INFO] Orchestration - [Tour 9] ASSISTANT: Je suis ici pour vous aider avec votre code ou votre notebook ! Merci de partager les détails de ce que vous souhaitez m...\u001b[0m\n",
      "2025-02-07 09:29:44,223 [INFO] [Tour 9] ASSISTANT: Je suis ici pour vous aider avec votre code ou votre notebook ! Merci de partager les détails de ce que vous souhaitez m...\n",
      "2025-02-07 09:29:45,157 [INFO] HTTP Request: POST https://api.openai.com/v1/chat/completions \"HTTP/1.1 200 OK\"\n",
      "2025-02-07 09:29:48,423 [INFO] HTTP Request: POST https://api.openai.com/v1/chat/completions \"HTTP/1.1 200 OK\"\n",
      "\u001b[92m2025-02-07 09:29:48 [INFO] Orchestration - [Tour 10] ASSISTANT: Il semble y avoir eu un malentendu sur mes capacités. Je ne peux pas exécuter de code ou interagir avec des systèmes ext...\u001b[0m\n",
      "\u001b[92m2025-02-07 09:29:48 [INFO] Orchestration - [Tour 10] ASSISTANT: Il semble y avoir eu un malentendu sur mes capacités. Je ne peux pas exécuter de code ou interagir avec des systèmes ext...\u001b[0m\n",
      "2025-02-07 09:29:48,428 [INFO] [Tour 10] ASSISTANT: Il semble y avoir eu un malentendu sur mes capacités. Je ne peux pas exécuter de code ou interagir avec des systèmes ext...\n",
      "\u001b[92m2025-02-07 09:29:48 [INFO] Orchestration - 📌 État du notebook 'Notebook-Final.ipynb': 12 cellules\u001b[0m\n",
      "\u001b[92m2025-02-07 09:29:48 [INFO] Orchestration - 📌 État du notebook 'Notebook-Final.ipynb': 12 cellules\u001b[0m\n",
      "2025-02-07 09:29:48,430 [INFO] 📌 État du notebook 'Notebook-Final.ipynb': 12 cellules\n"
     ]
    },
    {
     "data": {
      "text/markdown": [
       "\n",
       "=== RAPPORT FINAL ===\n",
       "🗂 Notebook final : Notebook-Final.ipynb\n",
       "🔄 Cellules modifiées : 1\n",
       "✅ Dernière exécution : 2025-02-07 09:29:48\n",
       "📊 Statut : EN ÉCHEC\n"
      ],
      "text/plain": [
       "<IPython.core.display.Markdown object>"
      ]
     },
     "metadata": {},
     "output_type": "display_data"
    },
    {
     "name": "stderr",
     "output_type": "stream",
     "text": [
      "\u001b[92m2025-02-07 09:29:48 [INFO] Orchestration -  === RAPPORT FINAL === 🗂 Notebook final : Notebook-Final.ipynb 🔄 Cellules modifiées : 1 ✅ Dernière exécution : 2025-02-07 09:29:48 📊 Statut : EN ÉCHEC \u001b[0m\n",
      "\u001b[92m2025-02-07 09:29:48 [INFO] Orchestration -  === RAPPORT FINAL === 🗂 Notebook final : Notebook-Final.ipynb 🔄 Cellules modifiées : 1 ✅ Dernière exécution : 2025-02-07 09:29:48 📊 Statut : EN ÉCHEC \u001b[0m\n",
      "2025-02-07 09:29:48,434 [INFO]  === RAPPORT FINAL === 🗂 Notebook final : Notebook-Final.ipynb 🔄 Cellules modifiées : 1 ✅ Dernière exécution : 2025-02-07 09:29:48 📊 Statut : EN ÉCHEC \n",
      "2025-02-07 09:29:48,436 [INFO] 📝 Soumission du notebook 'Notebook-Final.ipynb' pour approbation.\n",
      "\u001b[92m2025-02-07 09:29:48 [INFO] Orchestration - [Admin] Notebook soumis pour approbation: ✅ Notebook 'Notebook-Final.ipynb' soumis et approuvé.\u001b[0m\n",
      "\u001b[92m2025-02-07 09:29:48 [INFO] Orchestration - [Admin] Notebook soumis pour approbation: ✅ Notebook 'Notebook-Final.ipynb' soumis et approuvé.\u001b[0m\n",
      "2025-02-07 09:29:48,437 [INFO] [Admin] Notebook soumis pour approbation: ✅ Notebook 'Notebook-Final.ipynb' soumis et approuvé.\n"
     ]
    },
    {
     "name": "stdout",
     "output_type": "stream",
     "text": [
      "[Admin] Submission result: ✅ Notebook 'Notebook-Final.ipynb' soumis et approuvé.\n"
     ]
    }
   ],
   "source": [
    "async def run_iterative_workflow():\n",
    "    chat_history = ChatHistory()\n",
    "    # Injection du contexte initial avec un extrait du template\n",
    "    nb_content = \"\\n\".join([c.source[:100] for c in nbformat.read(source_notebook, as_version=4).cells[:3]])\n",
    "    initial_context = f\"\"\"\n",
    "## CONTEXTE INITIAL ##\n",
    "Notebook template: {source_notebook}\n",
    "Extrait de cellules clés:\n",
    "{nb_content}\n",
    "\"\"\"\n",
    "    chat_history.add_system_message(initial_context)\n",
    "    logger.info(\"📂 Contexte initial injecté : %.80s...\", initial_context.replace(\"\\n\", \" \"))\n",
    "\n",
    "    # Message utilisateur initial\n",
    "    user_request = \"Veuillez implémenter une requête SPARQL sur DBpedia avec visualisation Plotly.\"\n",
    "    chat_history.add_user_message(user_request)\n",
    "    print(f\"# User: '{user_request}'\")\n",
    "\n",
    "    iteration = 0\n",
    "    async for msg in iterative_group_chat.invoke():\n",
    "        iteration += 1\n",
    "        # On stocke le numéro de l'itération dans les métadonnées du message (si ce n'est pas déjà fait)\n",
    "        msg.metadata[\"iteration\"] = iteration\n",
    "        logger.info(\"[Tour %d] %s: %.120s...\", iteration, msg.role.name, msg.content.replace(\"\\n\", \" \"))\n",
    "        \n",
    "        # Toutes les 2 itérations, on affiche l'état actuel du notebook\n",
    "        if iteration % 2 == 0:\n",
    "            current_state = nbformat.read(shared_state.notebook_path, as_version=4)\n",
    "            logger.info(\"📌 État du notebook '%s': %d cellules\", shared_state.notebook_path, len(current_state.cells))\n",
    "    \n",
    "    # Affichage du rapport final\n",
    "    final_report = f\"\"\"\n",
    "=== RAPPORT FINAL ===\n",
    "🗂 Notebook final : {final_notebook}\n",
    "🔄 Cellules modifiées : {sum(1 for c in nbformat.read(final_notebook, as_version=4).cells if \"Updated by AI\" in c.source)}\n",
    "✅ Dernière exécution : {datetime.now().strftime('%Y-%m-%d %H:%M:%S')}\n",
    "📊 Statut : {\"APPROUVÉ\" if iterative_group_chat.is_complete else \"EN ÉCHEC\"}\n",
    "\"\"\"\n",
    "    from IPython.display import Markdown, display\n",
    "    display(Markdown(final_report))\n",
    "    logger.info(final_report.replace(\"\\n\", \" \"))\n",
    "    \n",
    "    # Si la conversation est terminée, l'Admin soumet le notebook\n",
    "    submit_func = admin_kernel.get_function(\"nbcontrol\", \"submit_for_approval\")\n",
    "    approval_result = await admin_kernel.invoke(submit_func, KernelArguments(notebook_path=shared_state.notebook_path))\n",
    "    print(f\"[Admin] Submission result: {approval_result}\")\n",
    "    logger.info(\"[Admin] Notebook soumis pour approbation: %s\", approval_result)\n",
    "\n",
    "await run_iterative_workflow()\n"
   ]
  },
  {
   "cell_type": "markdown",
   "metadata": {},
   "source": [
    "## Conclusion et Perspectives\n",
    "\n",
    "Ce notebook intègre désormais un workflow complet et itératif qui combine :\n",
    "1. L'exécution paramétrée d'un notebook template via Papermill.\n",
    "2. La mise à jour dynamique d'une cellule ciblée avec nbformat.\n",
    "3. Une orchestration collaborative multi‑agents (Coder, Reviewer, Admin) avec Semantic Kernel, chacun disposant d'un kernel et de plugins spécifiques pour contrôler l'état du notebook.\n",
    "4. Des stratégies de sélection et de terminaison (définies via des fonctions kernel) permettant de passer la main de manière itérative jusqu'à ce que le notebook soit approuvé.\n",
    "\n",
    "Les prochaines étapes pourraient inclure :\n",
    "- L'enrichissement des plugins pour gérer d'autres aspects (logs, rollback, etc.).\n",
    "- L'ajustement des stratégies de passage de main pour une sélection plus fine de l'agent suivant.\n",
    "- La gestion avancée de l'historique de la conversation pour une meilleure réduction des messages.\n",
    "\n",
    "Bonne exploration !"
   ]
  }
 ],
 "metadata": {
  "kernelspec": {
   "display_name": "Python 3",
   "language": "python",
   "name": "python3"
  },
  "language_info": {
   "codemirror_mode": {
    "name": "ipython",
    "version": 3
   },
   "file_extension": ".py",
   "mimetype": "text/x-python",
   "name": "python",
   "nbconvert_exporter": "python",
   "pygments_lexer": "ipython3",
   "version": "3.11.9"
  },
  "polyglot_notebook": {
   "kernelInfo": {
    "defaultKernelName": "csharp",
    "items": [
     {
      "aliases": [],
      "name": "csharp"
     }
    ]
   }
  }
 },
 "nbformat": 4,
 "nbformat_minor": 2
}
