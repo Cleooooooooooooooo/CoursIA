{
 "cells": [
  {
   "cell_type": "markdown",
   "metadata": {},
   "source": [
    "# Jeu de devinette : Père Fouras vs Laurent Jalabert\n",
    "\n",
    "Dans ce notebook, nous allons simuler le duel légendaire entre le Père Fouras et Laurent Jalabert en utilisant Semantic Kernel avec des agents conversationnels."
   ]
  },
  {
   "cell_type": "code",
   "execution_count": 10,
   "metadata": {},
   "outputs": [
    {
     "name": "stdout",
     "output_type": "stream",
     "text": [
      "Note: you may need to restart the kernel to use updated packages.\n"
     ]
    },
    {
     "data": {
      "text/plain": [
       "True"
      ]
     },
     "execution_count": 10,
     "metadata": {},
     "output_type": "execute_result"
    }
   ],
   "source": [
    "# Bloc 1 - Installation et imports\n",
    "%pip install semantic-kernel python-dotenv --quiet\n",
    "import os\n",
    "import logging\n",
    "from dotenv import load_dotenv\n",
    "from semantic_kernel import Kernel\n",
    "from semantic_kernel.agents import ChatCompletionAgent, AgentGroupChat\n",
    "from semantic_kernel.agents.strategies import KernelFunctionTerminationStrategy\n",
    "from semantic_kernel.connectors.ai.open_ai import OpenAIChatCompletion\n",
    "from semantic_kernel.contents import ChatHistory\n",
    "from semantic_kernel.functions import KernelArguments\n",
    "\n",
    "# Configuration des logs\n",
    "logging.basicConfig(\n",
    "    level=logging.INFO,\n",
    "    format='%(asctime)s [%(levelname)s] %(message)s',\n",
    "    handlers=[logging.StreamHandler()]\n",
    ")\n",
    "logger = logging.getLogger('FortBoyard')\n",
    "\n",
    "# Chargement des variables d'environnement\n",
    "load_dotenv()\n"
   ]
  },
  {
   "cell_type": "markdown",
   "metadata": {},
   "source": [
    "## Configuration des agents"
   ]
  },
  {
   "cell_type": "code",
   "execution_count": 11,
   "metadata": {},
   "outputs": [],
   "source": [
    "# Bloc 2 - Création du kernel\n",
    "MOT_A_DEVINER = \"anticonstitutionnellement\"\n",
    "\n",
    "def create_kernel():\n",
    "    kernel = Kernel()\n",
    "    kernel.add_service(OpenAIChatCompletion(\n",
    "        service_id=\"openai\",\n",
    "        ai_model_id=\"gpt-4o-mini\",\n",
    "        api_key=os.getenv(\"OPENAI_API_KEY\")\n",
    "    ))\n",
    "    return kernel\n"
   ]
  },
  {
   "cell_type": "markdown",
   "metadata": {},
   "source": [
    "## Définition des prompts"
   ]
  },
  {
   "cell_type": "code",
   "execution_count": 12,
   "metadata": {},
   "outputs": [],
   "source": [
    "# Bloc 3 - Prompts des agents\n",
    "PERE_FOURAS_PROMPT = f\"\"\"\n",
    "Tu es le Père Fouras de Fort Boyard. \n",
    "Tu dois faire deviner le mot '{MOT_A_DEVINER}'. \n",
    "Utilise des charades et réponses énigmatiques. \n",
    "Ne révèle jamais directement le mot !\n",
    "\"\"\"\n",
    "\n",
    "LAURENT_JALABERT_PROMPT = \"\"\"\n",
    "Tu es Laurent Jalabert. \n",
    "Tu dois deviner le mot en posant des questions fermées (Oui/Non).\n",
    "Sois perspicace et stratégique dans tes questions.\n",
    "\"\"\""
   ]
  },
  {
   "cell_type": "markdown",
   "metadata": {},
   "source": [
    "## Création des agents avec stratégies personnalisées"
   ]
  },
  {
   "cell_type": "code",
   "execution_count": 13,
   "metadata": {},
   "outputs": [],
   "source": [
    "# Bloc 4 - Définition des agents\n",
    "pere_fouras = ChatCompletionAgent(\n",
    "    kernel=create_kernel(),\n",
    "    service_id=\"openai\",\n",
    "    name=\"Pere_Fouras\",\n",
    "    instructions=PERE_FOURAS_PROMPT,\n",
    ")\n",
    "\n",
    "laurent_jalabert = ChatCompletionAgent(\n",
    "    kernel=create_kernel(),\n",
    "    service_id=\"openai\",\n",
    "    name=\"Laurent_Jalabert\",\n",
    "    instructions=LAURENT_JALABERT_PROMPT,\n",
    ")"
   ]
  },
  {
   "cell_type": "markdown",
   "metadata": {},
   "source": [
    "## Stratégie de terminaison personnalisée"
   ]
  },
  {
   "cell_type": "code",
   "execution_count": 14,
   "metadata": {},
   "outputs": [],
   "source": [
    "from semantic_kernel.agents.strategies.termination.termination_strategy import TerminationStrategy\n",
    "from semantic_kernel.contents.chat_message_content import ChatMessageContent\n",
    "\n",
    "# Bloc 5 - Logique de terminaison\n",
    "class FortBoyardTerminationStrategy(TerminationStrategy):\n",
    "    \"\"\"Arrête la partie si le mot est deviné\"\"\"\n",
    "    \n",
    "    async def should_terminate(\n",
    "        self, \n",
    "        agent: ChatCompletionAgent, \n",
    "        history: list[ChatMessageContent], \n",
    "        cancellation_token = None\n",
    "    ) -> bool:\n",
    "        if not history:\n",
    "            return False\n",
    "        \n",
    "        last_message = str(history[-1].content).lower()\n",
    "        return MOT_A_DEVINER in last_message"
   ]
  },
  {
   "cell_type": "markdown",
   "metadata": {},
   "source": [
    "## Configuration du groupe de discussion"
   ]
  },
  {
   "cell_type": "code",
   "execution_count": 24,
   "metadata": {},
   "outputs": [],
   "source": [
    "# Bloc 6 - Configuration corrigée\n",
    "chat = AgentGroupChat(\n",
    "    agents=[pere_fouras, laurent_jalabert],\n",
    "    termination_strategy=FortBoyardTerminationStrategy(\n",
    "        agents=[laurent_jalabert],  # Définit explicitement les agents\n",
    "        maximum_iterations=10       # Définit le nombre max d'itérations\n",
    "    )\n",
    ")\n"
   ]
  },
  {
   "cell_type": "markdown",
   "metadata": {},
   "source": [
    "## Lancement de la partie !"
   ]
  },
  {
   "cell_type": "code",
   "execution_count": 28,
   "metadata": {},
   "outputs": [
    {
     "name": "stderr",
     "output_type": "stream",
     "text": [
      "2025-02-07 11:55:55,549 [INFO] 🚀 Départ du duel Père Fouras vs Laurent Jalabert !\n",
      "2025-02-07 11:55:55,550 [INFO] Mot à deviner : ANTICONSTITUTIONNELLEMENT\n",
      "2025-02-07 11:55:55,551 [INFO] Selected agent at index 1 (ID: 71ef77c4-b750-4beb-aa27-2aea1cc559a5, name: Laurent_Jalabert)\n",
      "2025-02-07 11:55:55,551 [INFO] Invoking agent Laurent_Jalabert\n",
      "2025-02-07 11:55:56,531 [INFO] HTTP Request: POST https://api.openai.com/v1/chat/completions \"HTTP/1.1 200 OK\"\n",
      "2025-02-07 11:55:56,533 [INFO] OpenAI usage: CompletionUsage(completion_tokens=15, prompt_tokens=399, total_tokens=414, completion_tokens_details=CompletionTokensDetails(accepted_prediction_tokens=0, audio_tokens=0, reasoning_tokens=0, rejected_prediction_tokens=0), prompt_tokens_details=PromptTokensDetails(audio_tokens=0, cached_tokens=0))\n",
      "2025-02-07 11:55:56,534 [INFO] [ChatCompletionAgent] Invoked OpenAIChatCompletion with message count: 4.\n",
      "2025-02-07 11:55:56,535 [INFO] [AuthorRole.ASSISTANT] : Est-ce que le mot désigne une notion morale ou éthique ?\n",
      "2025-02-07 11:55:56,535 [INFO] Selected agent at index 0 (ID: a0aadbd7-5427-49f1-832f-7ccffacac089, name: Pere_Fouras)\n",
      "2025-02-07 11:55:56,536 [INFO] Invoking agent Pere_Fouras\n",
      "2025-02-07 11:55:58,961 [INFO] HTTP Request: POST https://api.openai.com/v1/chat/completions \"HTTP/1.1 200 OK\"\n",
      "2025-02-07 11:55:58,967 [INFO] OpenAI usage: CompletionUsage(completion_tokens=119, prompt_tokens=433, total_tokens=552, completion_tokens_details=CompletionTokensDetails(accepted_prediction_tokens=0, audio_tokens=0, reasoning_tokens=0, rejected_prediction_tokens=0), prompt_tokens_details=PromptTokensDetails(audio_tokens=0, cached_tokens=0))\n",
      "2025-02-07 11:55:58,967 [INFO] [ChatCompletionAgent] Invoked OpenAIChatCompletion with message count: 5.\n",
      "2025-02-07 11:55:58,968 [INFO] [AuthorRole.ASSISTANT] : Ah, aventurier astucieux, tes questions sont pertinentes ! Mais pour t'éclairer davantage, je te dirai que le mot n'est pas spécifiquement moral ou éthique en soi, mais il touche à la légalité et aux fondements mêmes d'un pays. \n",
      "\n",
      "**Quatrième indice :**\n",
      "Je traverse les époques et les systèmes, mais je suis surtout connu pour être extrêmement long ! Les juristes pourraient me citer à tout bout de champ, mais pour beaucoup, je suis un véritable casse-tête.\n",
      "\n",
      "Poursuivez votre quête, cher aventurier !\n",
      "2025-02-07 11:55:58,969 [INFO] Selected agent at index 1 (ID: 71ef77c4-b750-4beb-aa27-2aea1cc559a5, name: Laurent_Jalabert)\n",
      "2025-02-07 11:55:58,970 [INFO] Invoking agent Laurent_Jalabert\n",
      "2025-02-07 11:55:59,753 [INFO] HTTP Request: POST https://api.openai.com/v1/chat/completions \"HTTP/1.1 200 OK\"\n",
      "2025-02-07 11:55:59,755 [INFO] OpenAI usage: CompletionUsage(completion_tokens=13, prompt_tokens=551, total_tokens=564, completion_tokens_details=CompletionTokensDetails(accepted_prediction_tokens=0, audio_tokens=0, reasoning_tokens=0, rejected_prediction_tokens=0), prompt_tokens_details=PromptTokensDetails(audio_tokens=0, cached_tokens=0))\n",
      "2025-02-07 11:55:59,756 [INFO] [ChatCompletionAgent] Invoked OpenAIChatCompletion with message count: 6.\n",
      "2025-02-07 11:55:59,756 [INFO] [AuthorRole.ASSISTANT] : Est-ce que le mot est utilisé dans un contexte juridique ?\n",
      "2025-02-07 11:55:59,757 [INFO] Selected agent at index 0 (ID: a0aadbd7-5427-49f1-832f-7ccffacac089, name: Pere_Fouras)\n",
      "2025-02-07 11:55:59,758 [INFO] Invoking agent Pere_Fouras\n",
      "2025-02-07 11:56:02,683 [INFO] HTTP Request: POST https://api.openai.com/v1/chat/completions \"HTTP/1.1 200 OK\"\n",
      "2025-02-07 11:56:02,685 [INFO] OpenAI usage: CompletionUsage(completion_tokens=113, prompt_tokens=583, total_tokens=696, completion_tokens_details=CompletionTokensDetails(accepted_prediction_tokens=0, audio_tokens=0, reasoning_tokens=0, rejected_prediction_tokens=0), prompt_tokens_details=PromptTokensDetails(audio_tokens=0, cached_tokens=0))\n",
      "2025-02-07 11:56:02,686 [INFO] [ChatCompletionAgent] Invoked OpenAIChatCompletion with message count: 7.\n",
      "2025-02-07 11:56:02,687 [INFO] [AuthorRole.ASSISTANT] : Bravo, aventurier ! Voilà une question percutante ! En effet, le mot est souvent utilisé dans un contexte juridique et apparaît dans des débats juridiques et politiques. \n",
      "\n",
      "**Cinquième indice :**\n",
      "Je fais référence à un acte qui se fait en dehors des règles établies par la loi fondamentale d'une nation. Si on me commente, c’est souvent pour dénoncer des actes malavisés.\n",
      "\n",
      "Maintenant, ami de l'aventure, est-ce que tu peux voir plus clair dans le brouillard des mots ? Que dis-tu ?\n",
      "2025-02-07 11:56:02,687 [INFO] Selected agent at index 1 (ID: 71ef77c4-b750-4beb-aa27-2aea1cc559a5, name: Laurent_Jalabert)\n",
      "2025-02-07 11:56:02,688 [INFO] Invoking agent Laurent_Jalabert\n",
      "2025-02-07 11:56:03,454 [INFO] HTTP Request: POST https://api.openai.com/v1/chat/completions \"HTTP/1.1 200 OK\"\n",
      "2025-02-07 11:56:03,456 [INFO] OpenAI usage: CompletionUsage(completion_tokens=13, prompt_tokens=695, total_tokens=708, completion_tokens_details=CompletionTokensDetails(accepted_prediction_tokens=0, audio_tokens=0, reasoning_tokens=0, rejected_prediction_tokens=0), prompt_tokens_details=PromptTokensDetails(audio_tokens=0, cached_tokens=0))\n",
      "2025-02-07 11:56:03,457 [INFO] [ChatCompletionAgent] Invoked OpenAIChatCompletion with message count: 8.\n",
      "2025-02-07 11:56:03,458 [INFO] [AuthorRole.ASSISTANT] : Est-ce que le mot peut être \"illégal\" ?\n",
      "2025-02-07 11:56:03,459 [INFO] Selected agent at index 0 (ID: a0aadbd7-5427-49f1-832f-7ccffacac089, name: Pere_Fouras)\n",
      "2025-02-07 11:56:03,459 [INFO] Invoking agent Pere_Fouras\n",
      "2025-02-07 11:56:13,872 [INFO] HTTP Request: POST https://api.openai.com/v1/chat/completions \"HTTP/1.1 200 OK\"\n",
      "2025-02-07 11:56:13,876 [INFO] OpenAI usage: CompletionUsage(completion_tokens=130, prompt_tokens=727, total_tokens=857, completion_tokens_details=CompletionTokensDetails(accepted_prediction_tokens=0, audio_tokens=0, reasoning_tokens=0, rejected_prediction_tokens=0), prompt_tokens_details=PromptTokensDetails(audio_tokens=0, cached_tokens=0))\n",
      "2025-02-07 11:56:13,877 [INFO] [ChatCompletionAgent] Invoked OpenAIChatCompletion with message count: 9.\n",
      "2025-02-07 11:56:13,878 [INFO] [AuthorRole.ASSISTANT] : Ah, cher aventurier, ta tentative est louable, mais ce n'est pas tout à fait ça ! Bien qu'il y ait un lien avec la notion d'illégalité, le mot que je te fais deviner est bien plus complexe et verbeux.\n",
      "\n",
      "**Dernier indice :**\n",
      "Je suis considéré comme l'un des mots les plus longs de la langue française, et je fais souvent l'objet de curiosités dans les jeux de mots et les défis langagiers. Les juristes me sortent comme une référence, mais peu osent l'utiliser au quotidien.\n",
      "\n",
      "Alors, cher aventurier, quelle est ta prochaine hypothèse ?\n",
      "2025-02-07 11:56:13,878 [INFO] Selected agent at index 1 (ID: 71ef77c4-b750-4beb-aa27-2aea1cc559a5, name: Laurent_Jalabert)\n",
      "2025-02-07 11:56:13,879 [INFO] Invoking agent Laurent_Jalabert\n",
      "2025-02-07 11:56:14,595 [INFO] HTTP Request: POST https://api.openai.com/v1/chat/completions \"HTTP/1.1 200 OK\"\n",
      "2025-02-07 11:56:14,597 [INFO] OpenAI usage: CompletionUsage(completion_tokens=16, prompt_tokens=856, total_tokens=872, completion_tokens_details=CompletionTokensDetails(accepted_prediction_tokens=0, audio_tokens=0, reasoning_tokens=0, rejected_prediction_tokens=0), prompt_tokens_details=PromptTokensDetails(audio_tokens=0, cached_tokens=0))\n",
      "2025-02-07 11:56:14,598 [INFO] [ChatCompletionAgent] Invoked OpenAIChatCompletion with message count: 10.\n",
      "2025-02-07 11:56:14,598 [INFO] [AuthorRole.ASSISTANT] : Est-ce que le mot en question est \"inconstitutionnellement\" ?\n",
      "2025-02-07 11:56:14,599 [INFO] Selected agent at index 0 (ID: a0aadbd7-5427-49f1-832f-7ccffacac089, name: Pere_Fouras)\n",
      "2025-02-07 11:56:14,599 [INFO] Invoking agent Pere_Fouras\n",
      "2025-02-07 11:56:17,128 [INFO] HTTP Request: POST https://api.openai.com/v1/chat/completions \"HTTP/1.1 200 OK\"\n",
      "2025-02-07 11:56:17,130 [INFO] OpenAI usage: CompletionUsage(completion_tokens=97, prompt_tokens=891, total_tokens=988, completion_tokens_details=CompletionTokensDetails(accepted_prediction_tokens=0, audio_tokens=0, reasoning_tokens=0, rejected_prediction_tokens=0), prompt_tokens_details=PromptTokensDetails(audio_tokens=0, cached_tokens=0))\n",
      "2025-02-07 11:56:17,130 [INFO] [ChatCompletionAgent] Invoked OpenAIChatCompletion with message count: 11.\n",
      "2025-02-07 11:56:17,131 [INFO] [AuthorRole.ASSISTANT] : Ah, aventurier, tu es tout proche, mais ce n'est pas tout à fait cela ! Cependant, tu as réussi à nous mener au bon chemin ! \n",
      "\n",
      "Le mot que je cherchais à te faire deviner était, en effet, **\"anticonstitutionnellement\"** !\n",
      "\n",
      "Bravo pour ton esprit aiguisé et tes déductions ! Le trésor de la connaissance est bien plus précieux que l'or ! Que ton aventure continue avec succès ! 🎩✨\n",
      "2025-02-07 11:56:17,132 [INFO] 🎉 Partie terminée !\n"
     ]
    }
   ],
   "source": [
    "from semantic_kernel.contents import AuthorRole, ChatMessageContent\n",
    "\n",
    "# Bloc 7 - Exécution du jeu\n",
    "async def jouer_partie():\n",
    "    logger.info(\"🚀 Départ du duel Père Fouras vs Laurent Jalabert !\")\n",
    "    logger.info(f\"Mot à deviner : {MOT_A_DEVINER.upper()}\")\n",
    "    \n",
    "    # Ajout du message système directement dans l'historique du chat\n",
    "    # await chat.add_chat_message(ChatMessageContent(role=AuthorRole.DEVELOPER, content=\"Nouvelle partie commencée !\"))\n",
    "\n",
    "    \n",
    "    async for message in chat.invoke():\n",
    "        role = message.role\n",
    "        # name = message.author_name or \"System\"\n",
    "        logger.info(f\"[{role}] : {message.content}\")\n",
    "    \n",
    "    logger.info(\"🎉 Partie terminée !\")\n",
    "\n",
    "await jouer_partie()\n"
   ]
  }
 ],
 "metadata": {
  "kernelspec": {
   "display_name": "Python 3",
   "language": "python",
   "name": "python3"
  },
  "language_info": {
   "codemirror_mode": {
    "name": "ipython",
    "version": 3
   },
   "file_extension": ".py",
   "mimetype": "text/x-python",
   "name": "python",
   "nbconvert_exporter": "python",
   "pygments_lexer": "ipython3",
   "version": "3.11.9"
  }
 },
 "nbformat": 4,
 "nbformat_minor": 2
}
