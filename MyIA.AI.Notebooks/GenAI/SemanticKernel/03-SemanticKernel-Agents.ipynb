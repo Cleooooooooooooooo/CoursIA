{
  "cells": [
    {
      "cell_type": "markdown",
      "id": "5cb171a6",
      "metadata": {},
      "source": [
        "# Agents Semantic Kernel en Python\n",
        "\n",
        "Dans ce notebook, nous allons :\n",
        "1. Installer / Importer **semantic-kernel** en Python\n",
        "2. Illustrer la création d'un agent simple (single agent) et son invocation\n",
        "3. Illustrer un **group chat** (AgentGroupChat) avec sélection/termination\n",
        "4. Conclusion"
      ]
    },
    {
      "cell_type": "code",
      "execution_count": 1,
      "id": "52c8e9c0",
      "metadata": {},
      "outputs": [
        {
          "name": "stdout",
          "output_type": "stream",
          "text": [
            "Note: you may need to restart the kernel to use updated packages.\n",
            "semantic-kernel installé.\n"
          ]
        }
      ],
      "source": [
        "# ============================\n",
        "# Bloc 1 : Installation semantic-kernel et imports\n",
        "# ============================\n",
        "\n",
        "# À n’exécuter qu'une fois\n",
        "%pip install semantic-kernel --quiet\n",
        "import asyncio\n",
        "import logging\n",
        "\n",
        "print(\"semantic-kernel installé.\")\n"
      ]
    },
    {
      "cell_type": "markdown",
      "id": "601cefe0",
      "metadata": {},
      "source": [
        "## Bloc 2 : Simple Agent (Parrot)\n",
        "\n",
        "Nous créons un agent tout simple, qui répète le message de l’utilisateur sur le ton d’un pirate."
      ]
    },
    {
      "cell_type": "code",
      "execution_count": 2,
      "id": "bd991043",
      "metadata": {},
      "outputs": [
        {
          "name": "stdout",
          "output_type": "stream",
          "text": [
            "# User: 'Fortune favors the bold.'\n",
            "# Agent - Parrot: 'Fortune favors the bold, arrr!'\n",
            "# User: 'I came, I saw, I conquered.'\n",
            "# Agent - Parrot: 'I came, I saw, I conquered, arrr!'\n",
            "# User: 'Practice makes perfect.'\n",
            "# Agent - Parrot: 'Practice makes perfect, arrr!'\n"
          ]
        }
      ],
      "source": [
        "import logging\n",
        "from semantic_kernel import Kernel\n",
        "from semantic_kernel.agents import ChatCompletionAgent\n",
        "from semantic_kernel.connectors.ai.open_ai import OpenAIChatCompletion\n",
        "from semantic_kernel.contents import ChatHistory\n",
        "\n",
        "AGENT_NAME = \"Parrot\"\n",
        "AGENT_INSTRUCTIONS = \"You are a helpful parrot that repeats the user message in a pirate voice, then ends with 'Arrr!'\"\n",
        "\n",
        "# Création du Kernel\n",
        "kernel = Kernel()\n",
        "# On suppose que vous avez défini ou récupéré des clés d'API :\n",
        "# kernel.add_service(OpenAIChatCompletion(...)) ou AzureChatCompletion(...)\n",
        "kernel.add_service(OpenAIChatCompletion(service_id=\"agent\"))\n",
        "\n",
        "agent = ChatCompletionAgent(\n",
        "    service_id=\"agent\",\n",
        "    kernel=kernel,\n",
        "    name=AGENT_NAME,\n",
        "    instructions=AGENT_INSTRUCTIONS\n",
        ")\n",
        "user_inputs = [\n",
        "    \"Fortune favors the bold.\",\n",
        "    \"I came, I saw, I conquered.\",\n",
        "    \"Practice makes perfect.\",\n",
        "]\n",
        "\n",
        "async def simple_agent_demo():\n",
        "    chat_history = ChatHistory()\n",
        "    # On ajoute les instructions de l'agent en tant que 'developer' ou 'system'\n",
        "    chat_history.add_developer_message(AGENT_INSTRUCTIONS)\n",
        "\n",
        "    for user_input in user_inputs:\n",
        "        chat_history.add_user_message(user_input)\n",
        "        print(f\"# User: '{user_input}'\")\n",
        "        async for content in agent.invoke(chat_history):\n",
        "            chat_history.add_message(content)\n",
        "            print(f\"# Agent - {content.name or '*'}: '{content.content}'\")\n",
        "\n",
        "await simple_agent_demo()\n"
      ]
    },
    {
      "cell_type": "markdown",
      "id": "08f12a31",
      "metadata": {},
      "source": [
        "## Bloc 3 : Agent simple avec Plugins\n",
        "\n",
        "Exemple de plugin `MenuPlugin`, et agent unique qui répond en utilisant ces fonctions.\n"
      ]
    },
    {
      "cell_type": "code",
      "execution_count": 3,
      "id": "1546a45e",
      "metadata": {},
      "outputs": [
        {
          "name": "stdout",
          "output_type": "stream",
          "text": [
            "# User: 'Hello'\n",
            "# Host: 'Hello! How can I assist you today?'\n",
            "# User: 'What is the special soup?'\n",
            "# Host: 'The special soup is Clam Chowder. Would you like to know more about it?'\n",
            "# User: 'What does it cost?'\n",
            "# Host: 'The Clam Chowder costs $9.99. Would you like to order it or need help with anything else?'\n",
            "# User: 'Thanks'\n",
            "# Host: 'You're welcome! If you have any more questions or need assistance, feel free to ask. Have a great day!'\n"
          ]
        }
      ],
      "source": [
        "import asyncio\n",
        "from typing import TYPE_CHECKING, Annotated\n",
        "from semantic_kernel import Kernel\n",
        "from semantic_kernel.agents import ChatCompletionAgent\n",
        "from semantic_kernel.connectors.ai.open_ai import OpenAIChatCompletion\n",
        "from semantic_kernel.functions import KernelArguments, kernel_function\n",
        "from semantic_kernel.contents import ChatHistory\n",
        "\n",
        "class MenuPlugin:\n",
        "    \"\"\"Plugin pour gérer un menu\"\"\"\n",
        "    @kernel_function(description=\"Liste les specials\")\n",
        "    def get_specials(self) -> Annotated[str, \"Describes specials\"]:\n",
        "        return \"Special Soup: Clam Chowder\\nSpecial Salad: Cobb Salad\\nSpecial Drink: Chai Tea\"\n",
        "    @kernel_function(description=\"Donne le prix d'un item\")\n",
        "    def get_item_price(self, menu_item: Annotated[str, \"nom de l'item\"]) -> str:\n",
        "        return \"$9.99\"\n",
        "# Créer kernel\n",
        "kernel2 = Kernel()\n",
        "# Ajout du plugin\n",
        "kernel2.add_plugin(MenuPlugin(), plugin_name=\"menu\")\n",
        "# Ajout du service\n",
        "kernel2.add_service(OpenAIChatCompletion(service_id=\"agent2\"))\n",
        "# On configure l'auto function-calling\n",
        "settings2 = kernel2.get_prompt_execution_settings_from_service_id(service_id=\"agent2\")\n",
        "from semantic_kernel.connectors.ai import FunctionChoiceBehavior\n",
        "settings2.function_choice_behavior = FunctionChoiceBehavior.Auto()\n",
        "\n",
        "AGENT2_NAME = \"Host\"\n",
        "AGENT2_INSTRUCTIONS = \"Answer questions about the menu.\"\n",
        "agent2 = ChatCompletionAgent(\n",
        "    service_id=\"agent2\",\n",
        "    kernel=kernel2,\n",
        "    name=AGENT2_NAME,\n",
        "    instructions=AGENT2_INSTRUCTIONS,\n",
        "    arguments=KernelArguments(settings=settings2),\n",
        ")\n",
        "async def plugin_agent_demo():\n",
        "    chat_history = ChatHistory()\n",
        "    user_msgs = [\n",
        "        \"Hello\",\n",
        "        \"What is the special soup?\",\n",
        "        \"What does it cost?\",\n",
        "        \"Thanks\",\n",
        "    ]\n",
        "    for user_input in user_msgs:\n",
        "        chat_history.add_user_message(user_input)\n",
        "        print(f\"# User: '{user_input}'\")\n",
        "        agent_name = None\n",
        "        async for content in agent2.invoke_stream(chat_history):\n",
        "            if not agent_name:\n",
        "                agent_name = content.name or AGENT2_NAME\n",
        "                print(f\"# {agent_name}: '\", end=\"\")\n",
        "            if content.content.strip():\n",
        "                print(content.content, end=\"\", flush=True)\n",
        "        print(\"'\")\n",
        "\n",
        "await plugin_agent_demo()\n"
      ]
    },
    {
      "cell_type": "markdown",
      "id": "88566ce4",
      "metadata": {},
      "source": [
        "## Bloc 4 : Group Chat\n",
        "\n",
        "Exemple d'un chat groupé : un agent CopyWriter, un agent ArtDirector, etc. On utilise la `AgentGroupChat`.\n"
      ]
    },
    {
      "cell_type": "code",
      "execution_count": 4,
      "id": "0e10355e",
      "metadata": {},
      "outputs": [
        {
          "name": "stdout",
          "output_type": "stream",
          "text": [
            "# User: 'I need a slogan for a new line of electric bikes'\n",
            "# Agent - ArtDirector: 'Sure! Here are a few options for your electric bike line:\n",
            "\n",
            "1. \"Ride the Future.\"\n",
            "2. \"Power Your Ride.\"\n",
            "3. \"Unleash the Electric!\"\n",
            "4. \"Revolutionize Your Commute.\"\n",
            "5. \"Energize Your Journey.\"\n",
            "\n",
            "Please let me know if you would like to explore more options or need any adjustments!'\n",
            "# Agent - CopyWriter: 'Here are some catchy slogans for your electric bike line:\n",
            "\n",
            "1. \"Charge Ahead.\"\n",
            "2. \"Eco-Freedom on Two Wheels.\"\n",
            "3. \"Electrify Your Ride.\"\n",
            "4. \"Pedal Less, Explore More.\"\n",
            "5. \"Go Green, Ride Clean.\"\n",
            "\n",
            "Feel free to ask for more suggestions or variations!'\n",
            "# Agent - ArtDirector: 'Approved.'\n",
            "# IS COMPLETE: True\n"
          ]
        }
      ],
      "source": [
        "import asyncio\n",
        "from semantic_kernel.agents import AgentGroupChat, ChatCompletionAgent\n",
        "from semantic_kernel.connectors.ai.open_ai import OpenAIChatCompletion\n",
        "from semantic_kernel.contents import AuthorRole, ChatMessageContent\n",
        "from semantic_kernel.agents.strategies import TerminationStrategy\n",
        "from semantic_kernel import Kernel\n",
        "\n",
        "class ApprovalTerminationStrategy(TerminationStrategy):\n",
        "    async def should_agent_terminate(self, agent, history):\n",
        "        return \"approved\" in history[-1].content.lower()\n",
        "\n",
        "# On crée un kernel par agent, ou le même kernel + service differencié.\n",
        "def create_kernel_for(name):\n",
        "    k = Kernel()\n",
        "    # on admet qu'on a paramétré un service openAI.\n",
        "    k.add_service(OpenAIChatCompletion(service_id=name))\n",
        "    return k\n",
        "\n",
        "REVIEWER_NAME = \"ArtDirector\"\n",
        "REVIEWER_INSTRUCTIONS = \"You are an art director. If the copy is good, say 'Approved'. Otherwise, propose improvements.\"\n",
        "reviewer_agent = ChatCompletionAgent(\n",
        "    service_id=REVIEWER_NAME,\n",
        "    kernel=create_kernel_for(REVIEWER_NAME),\n",
        "    name=REVIEWER_NAME,\n",
        "    instructions=REVIEWER_INSTRUCTIONS,\n",
        ")\n",
        "COPYWRITER_NAME = \"CopyWriter\"\n",
        "COPYWRITER_INSTRUCTIONS = \"You are a copywriter. Provide short but strong marketing copy.\"\n",
        "writer_agent = ChatCompletionAgent(\n",
        "    service_id=COPYWRITER_NAME,\n",
        "    kernel=create_kernel_for(COPYWRITER_NAME),\n",
        "    name=COPYWRITER_NAME,\n",
        "    instructions=COPYWRITER_INSTRUCTIONS,\n",
        ")\n",
        "group_chat = AgentGroupChat(\n",
        "    agents=[reviewer_agent, writer_agent],\n",
        "    termination_strategy=ApprovalTerminationStrategy(agents=[reviewer_agent], maximum_iterations=6)\n",
        ")\n",
        "\n",
        "async def group_chat_demo():\n",
        "    user_msg = \"I need a slogan for a new line of electric bikes\"\n",
        "    await group_chat.add_chat_message(ChatMessageContent(role=AuthorRole.USER, content=user_msg))\n",
        "    print(f\"# User: '{user_msg}'\")\n",
        "    async for content in group_chat.invoke():\n",
        "        print(f\"# Agent - {content.name or '*'}: '{content.content}'\")\n",
        "\n",
        "    print(f\"# IS COMPLETE: {group_chat.is_complete}\")\n",
        "\n",
        "await group_chat_demo()\n"
      ]
    },
    {
      "cell_type": "markdown",
      "id": "910fffa7",
      "metadata": {},
      "source": [
        "## Conclusion\n",
        "\n",
        "Nous avons illustré **plusieurs scénarios** d’agents en Python avec Semantic Kernel :\n",
        "- Un agent **unique** type “parrot” qui répète le user input.\n",
        "- Un agent **unique** + plugins (function-calling auto-invoqué).\n",
        "- Un **group chat** d’agents (ex: CopyWriter, ArtDirector), orchestré via `AgentGroupChat`.\n",
        "\n",
        "Vous pouvez adapter ces exemples à vos propres clés API (OpenAI vs Azure), configurer l’autogestion des tools, ou enrichir avec vos plugins sémantiques.\n",
        "Et voilà un “notebook 3” purement Python côté Semantic Kernel. 😉"
      ]
    }
  ],
  "metadata": {
    "kernelspec": {
      "display_name": "Python 3",
      "language": "python",
      "name": "python3"
    },
    "language_info": {
      "codemirror_mode": {
        "name": "ipython",
        "version": 3
      },
      "file_extension": ".py",
      "mimetype": "text/x-python",
      "name": "python",
      "nbconvert_exporter": "python",
      "pygments_lexer": "ipython3",
      "version": "3.11.9"
    }
  },
  "nbformat": 4,
  "nbformat_minor": 5
}
