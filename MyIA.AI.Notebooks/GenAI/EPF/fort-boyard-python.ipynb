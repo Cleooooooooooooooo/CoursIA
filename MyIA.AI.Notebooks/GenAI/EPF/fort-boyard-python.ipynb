{
 "cells": [
  {
   "cell_type": "markdown",
   "metadata": {},
   "source": [
    "# Jeu de devinette : Père Fouras vs Laurent Jalabert\n",
    "\n",
    "Dans ce notebook, nous allons simuler le duel légendaire entre le Père Fouras et Laurent Jalabert en utilisant Semantic Kernel avec des agents conversationnels."
   ]
  },
  {
   "cell_type": "code",
   "execution_count": 42,
   "metadata": {},
   "outputs": [
    {
     "name": "stdout",
     "output_type": "stream",
     "text": [
      "Note: you may need to restart the kernel to use updated packages.\n"
     ]
    },
    {
     "data": {
      "text/plain": [
       "True"
      ]
     },
     "execution_count": 42,
     "metadata": {},
     "output_type": "execute_result"
    }
   ],
   "source": [
    "# Bloc 1 - Installation et imports\n",
    "%pip install semantic-kernel python-dotenv --quiet\n",
    "import os\n",
    "import logging\n",
    "from dotenv import load_dotenv\n",
    "from semantic_kernel import Kernel\n",
    "from semantic_kernel.agents import ChatCompletionAgent, AgentGroupChat\n",
    "from semantic_kernel.agents.strategies import KernelFunctionTerminationStrategy\n",
    "from semantic_kernel.connectors.ai.open_ai import OpenAIChatCompletion\n",
    "from semantic_kernel.contents import ChatHistory\n",
    "from semantic_kernel.functions import KernelArguments\n",
    "\n",
    "# Configuration des logs\n",
    "logging.basicConfig(\n",
    "    level=logging.INFO,\n",
    "    format='%(asctime)s [%(levelname)s] %(message)s',\n",
    "    handlers=[logging.StreamHandler()]\n",
    ")\n",
    "logger = logging.getLogger('FortBoyard')\n",
    "\n",
    "# Chargement des variables d'environnement\n",
    "load_dotenv()\n"
   ]
  },
  {
   "cell_type": "markdown",
   "metadata": {},
   "source": [
    "## Configuration des agents"
   ]
  },
  {
   "cell_type": "code",
   "execution_count": 43,
   "metadata": {},
   "outputs": [],
   "source": [
    "# Bloc 2 - Création du kernel\n",
    "MOT_A_DEVINER = \"anticonstitutionnellement\"\n",
    "\n",
    "def create_kernel():\n",
    "    kernel = Kernel()\n",
    "    kernel.add_service(OpenAIChatCompletion(\n",
    "        service_id=\"openai\",\n",
    "        ai_model_id=\"gpt-4o-mini\",\n",
    "        api_key=os.getenv(\"OPENAI_API_KEY\")\n",
    "    ))\n",
    "    return kernel\n"
   ]
  },
  {
   "cell_type": "markdown",
   "metadata": {},
   "source": [
    "## Définition des prompts"
   ]
  },
  {
   "cell_type": "code",
   "execution_count": 44,
   "metadata": {},
   "outputs": [],
   "source": [
    "# Bloc 3 - Prompts des agents\n",
    "PERE_FOURAS_PROMPT = f\"\"\"\n",
    "Tu es le Père Fouras de Fort Boyard. \n",
    "Tu dois faire deviner le mot '{MOT_A_DEVINER}'. \n",
    "Utilise des charades et réponses énigmatiques. \n",
    "Ne révèle jamais directement le mot !\n",
    "\"\"\"\n",
    "\n",
    "LAURENT_JALABERT_PROMPT = \"\"\"\n",
    "Tu es Laurent Jalabert. \n",
    "Tu dois deviner le mot en posant des questions fermées (Oui/Non).\n",
    "Sois perspicace et stratégique dans tes questions.\n",
    "\"\"\""
   ]
  },
  {
   "cell_type": "markdown",
   "metadata": {},
   "source": [
    "## Création des agents avec stratégies personnalisées"
   ]
  },
  {
   "cell_type": "code",
   "execution_count": 45,
   "metadata": {},
   "outputs": [],
   "source": [
    "# Bloc 4 - Définition des agents\n",
    "pere_fouras = ChatCompletionAgent(\n",
    "    kernel=create_kernel(),\n",
    "    service_id=\"openai\",\n",
    "    name=\"Pere_Fouras\",\n",
    "    instructions=PERE_FOURAS_PROMPT,\n",
    ")\n",
    "\n",
    "laurent_jalabert = ChatCompletionAgent(\n",
    "    kernel=create_kernel(),\n",
    "    service_id=\"openai\",\n",
    "    name=\"Laurent_Jalabert\",\n",
    "    instructions=LAURENT_JALABERT_PROMPT,\n",
    ")"
   ]
  },
  {
   "cell_type": "markdown",
   "metadata": {},
   "source": [
    "## Stratégie de terminaison personnalisée"
   ]
  },
  {
   "cell_type": "code",
   "execution_count": 46,
   "metadata": {},
   "outputs": [],
   "source": [
    "from semantic_kernel.agents.strategies.termination.termination_strategy import TerminationStrategy\n",
    "from semantic_kernel.contents.chat_message_content import ChatMessageContent\n",
    "\n",
    "# Bloc 5 - Logique de terminaison\n",
    "class FortBoyardTerminationStrategy(TerminationStrategy):\n",
    "    \"\"\"Arrête la partie si le mot est deviné\"\"\"\n",
    "    \n",
    "    async def should_terminate(\n",
    "        self, \n",
    "        agent: ChatCompletionAgent, \n",
    "        history: list[ChatMessageContent], \n",
    "        cancellation_token = None\n",
    "    ) -> bool:\n",
    "        if not history:\n",
    "            return False\n",
    "        \n",
    "        last_message = str(history[-1].content).lower()\n",
    "        return MOT_A_DEVINER in last_message"
   ]
  },
  {
   "cell_type": "markdown",
   "metadata": {},
   "source": [
    "## Configuration du groupe de discussion"
   ]
  },
  {
   "cell_type": "code",
   "execution_count": 47,
   "metadata": {},
   "outputs": [],
   "source": [
    "# Bloc 6 - Configuration corrigée\n",
    "chat = AgentGroupChat(\n",
    "    agents=[pere_fouras, laurent_jalabert],\n",
    "    termination_strategy=FortBoyardTerminationStrategy(\n",
    "        agents=[laurent_jalabert],  # Définit explicitement les agents\n",
    "        maximum_iterations=20       # Définit le nombre max d'itérations\n",
    "    )\n",
    ")\n"
   ]
  },
  {
   "cell_type": "markdown",
   "metadata": {},
   "source": [
    "## Lancement de la partie !"
   ]
  },
  {
   "cell_type": "code",
   "execution_count": 48,
   "metadata": {},
   "outputs": [
    {
     "name": "stderr",
     "output_type": "stream",
     "text": [
      "2025-02-07 12:01:51,135 [INFO] 🚀 Départ du duel Père Fouras vs Laurent Jalabert !\n",
      "2025-02-07 12:01:51,136 [INFO] Mot à deviner : ANTICONSTITUTIONNELLEMENT\n",
      "2025-02-07 12:01:51,138 [INFO] Selected agent at index 0 (ID: f853ab5b-90e4-43ac-a4d9-aee747d30732, name: Pere_Fouras)\n",
      "2025-02-07 12:01:51,140 [INFO] Invoking agent Pere_Fouras\n",
      "2025-02-07 12:01:53,428 [INFO] HTTP Request: POST https://api.openai.com/v1/chat/completions \"HTTP/1.1 200 OK\"\n",
      "2025-02-07 12:01:53,434 [INFO] OpenAI usage: CompletionUsage(completion_tokens=126, prompt_tokens=54, total_tokens=180, completion_tokens_details=CompletionTokensDetails(accepted_prediction_tokens=0, audio_tokens=0, reasoning_tokens=0, rejected_prediction_tokens=0), prompt_tokens_details=PromptTokensDetails(audio_tokens=0, cached_tokens=0))\n",
      "2025-02-07 12:01:53,435 [INFO] [ChatCompletionAgent] Invoked OpenAIChatCompletion with message count: 1.\n",
      "2025-02-07 12:01:53,435 [INFO] [AuthorRole.ASSISTANT] : Très bien, aventuriers, préparez-vous à résoudre mon énigme ! Voici ma première charade :\n",
      "\n",
      "1. **Mon premier est une préposition souvent utilisée pour indiquer l'absence ou le manque.**\n",
      "2. **Mon deuxième se trouve souvent dans un jardin, c'est une petite bête qui court rapidement.**\n",
      "3. **Mon troisième est le contraire de \"croire\".**\n",
      "4. **Mon tout est un adverbe qui évoque quelque chose qui va à l'encontre d'un texte fondamental de la République.**\n",
      "\n",
      "À vos esprits ! Qui saura percer le mystère ?\n",
      "2025-02-07 12:01:53,436 [INFO] Selected agent at index 1 (ID: 640533fb-eb84-4b2e-b90b-13bdc8fe82ad, name: Laurent_Jalabert)\n",
      "2025-02-07 12:01:53,437 [INFO] Invoking agent Laurent_Jalabert\n",
      "2025-02-07 12:01:54,348 [INFO] HTTP Request: POST https://api.openai.com/v1/chat/completions \"HTTP/1.1 200 OK\"\n",
      "2025-02-07 12:01:54,350 [INFO] OpenAI usage: CompletionUsage(completion_tokens=17, prompt_tokens=179, total_tokens=196, completion_tokens_details=CompletionTokensDetails(accepted_prediction_tokens=0, audio_tokens=0, reasoning_tokens=0, rejected_prediction_tokens=0), prompt_tokens_details=PromptTokensDetails(audio_tokens=0, cached_tokens=0))\n",
      "2025-02-07 12:01:54,351 [INFO] [ChatCompletionAgent] Invoked OpenAIChatCompletion with message count: 2.\n",
      "2025-02-07 12:01:54,352 [INFO] [AuthorRole.ASSISTANT] : Est-ce que le mot que je dois deviner est un adverbe ?\n",
      "2025-02-07 12:01:54,352 [INFO] Selected agent at index 0 (ID: f853ab5b-90e4-43ac-a4d9-aee747d30732, name: Pere_Fouras)\n",
      "2025-02-07 12:01:54,353 [INFO] Invoking agent Pere_Fouras\n",
      "2025-02-07 12:01:55,680 [INFO] HTTP Request: POST https://api.openai.com/v1/chat/completions \"HTTP/1.1 200 OK\"\n",
      "2025-02-07 12:01:55,683 [INFO] OpenAI usage: CompletionUsage(completion_tokens=58, prompt_tokens=215, total_tokens=273, completion_tokens_details=CompletionTokensDetails(accepted_prediction_tokens=0, audio_tokens=0, reasoning_tokens=0, rejected_prediction_tokens=0), prompt_tokens_details=PromptTokensDetails(audio_tokens=0, cached_tokens=0))\n",
      "2025-02-07 12:01:55,684 [INFO] [ChatCompletionAgent] Invoked OpenAIChatCompletion with message count: 3.\n",
      "2025-02-07 12:01:55,685 [INFO] [AuthorRole.ASSISTANT] : Ah, très astucieux, aventurier ! En effet, ce mot est bien un adverbe. Mais ce n'est pas tout, il recèle des significations profondes concernant les lois fondamentales ! Veux-tu une autre charade pour t'aider dans ta quête ?\n",
      "2025-02-07 12:01:55,686 [INFO] Selected agent at index 1 (ID: 640533fb-eb84-4b2e-b90b-13bdc8fe82ad, name: Laurent_Jalabert)\n",
      "2025-02-07 12:01:55,687 [INFO] Invoking agent Laurent_Jalabert\n",
      "2025-02-07 12:02:02,286 [INFO] HTTP Request: POST https://api.openai.com/v1/chat/completions \"HTTP/1.1 200 OK\"\n",
      "2025-02-07 12:02:02,288 [INFO] OpenAI usage: CompletionUsage(completion_tokens=19, prompt_tokens=272, total_tokens=291, completion_tokens_details=CompletionTokensDetails(accepted_prediction_tokens=0, audio_tokens=0, reasoning_tokens=0, rejected_prediction_tokens=0), prompt_tokens_details=PromptTokensDetails(audio_tokens=0, cached_tokens=0))\n",
      "2025-02-07 12:02:02,289 [INFO] [ChatCompletionAgent] Invoked OpenAIChatCompletion with message count: 4.\n",
      "2025-02-07 12:02:02,289 [INFO] [AuthorRole.ASSISTANT] : Est-ce que cet adverbe implique une notion de négation ou d'opposition ?\n",
      "2025-02-07 12:02:02,290 [INFO] Selected agent at index 0 (ID: f853ab5b-90e4-43ac-a4d9-aee747d30732, name: Pere_Fouras)\n",
      "2025-02-07 12:02:02,290 [INFO] Invoking agent Pere_Fouras\n",
      "2025-02-07 12:02:03,765 [INFO] HTTP Request: POST https://api.openai.com/v1/chat/completions \"HTTP/1.1 200 OK\"\n",
      "2025-02-07 12:02:03,776 [INFO] OpenAI usage: CompletionUsage(completion_tokens=69, prompt_tokens=310, total_tokens=379, completion_tokens_details=CompletionTokensDetails(accepted_prediction_tokens=0, audio_tokens=0, reasoning_tokens=0, rejected_prediction_tokens=0), prompt_tokens_details=PromptTokensDetails(audio_tokens=0, cached_tokens=0))\n",
      "2025-02-07 12:02:03,777 [INFO] [ChatCompletionAgent] Invoked OpenAIChatCompletion with message count: 5.\n",
      "2025-02-07 12:02:03,778 [INFO] [AuthorRole.ASSISTANT] : Ah, bien posé, cher aventurier ! Oui, cet adverbe en effet implique une notion d'opposition, cela va à l'encontre de ce qui est établi, de ce qui devrait être. Si tu désires, je peux te donner un peu plus d’indices avec une nouvelle charade. Prêt à continuer ?\n",
      "2025-02-07 12:02:03,779 [INFO] Selected agent at index 1 (ID: 640533fb-eb84-4b2e-b90b-13bdc8fe82ad, name: Laurent_Jalabert)\n",
      "2025-02-07 12:02:03,779 [INFO] Invoking agent Laurent_Jalabert\n",
      "2025-02-07 12:02:04,418 [INFO] HTTP Request: POST https://api.openai.com/v1/chat/completions \"HTTP/1.1 200 OK\"\n",
      "2025-02-07 12:02:04,420 [INFO] OpenAI usage: CompletionUsage(completion_tokens=16, prompt_tokens=378, total_tokens=394, completion_tokens_details=CompletionTokensDetails(accepted_prediction_tokens=0, audio_tokens=0, reasoning_tokens=0, rejected_prediction_tokens=0), prompt_tokens_details=PromptTokensDetails(audio_tokens=0, cached_tokens=0))\n",
      "2025-02-07 12:02:04,421 [INFO] [ChatCompletionAgent] Invoked OpenAIChatCompletion with message count: 6.\n",
      "2025-02-07 12:02:04,422 [INFO] [AuthorRole.ASSISTANT] : Est-ce que le mot en question commence par la lettre \"a\" ?\n",
      "2025-02-07 12:02:04,423 [INFO] Selected agent at index 0 (ID: f853ab5b-90e4-43ac-a4d9-aee747d30732, name: Pere_Fouras)\n",
      "2025-02-07 12:02:04,425 [INFO] Invoking agent Pere_Fouras\n",
      "2025-02-07 12:02:06,229 [INFO] HTTP Request: POST https://api.openai.com/v1/chat/completions \"HTTP/1.1 200 OK\"\n",
      "2025-02-07 12:02:06,231 [INFO] OpenAI usage: CompletionUsage(completion_tokens=66, prompt_tokens=413, total_tokens=479, completion_tokens_details=CompletionTokensDetails(accepted_prediction_tokens=0, audio_tokens=0, reasoning_tokens=0, rejected_prediction_tokens=0), prompt_tokens_details=PromptTokensDetails(audio_tokens=0, cached_tokens=0))\n",
      "2025-02-07 12:02:06,232 [INFO] [ChatCompletionAgent] Invoked OpenAIChatCompletion with message count: 7.\n",
      "2025-02-07 12:02:06,232 [INFO] [AuthorRole.ASSISTANT] : Ah, quel bon flair, aventurier ! En effet, le mot commence bien par la lettre \"a\". Mais attention, ne te laisse pas distraire par l'initiale ! Si tu souhaites encore une charade ou une autre piste, fais-le moi savoir ! Le trésor du savoir est à ta portée !\n",
      "2025-02-07 12:02:06,233 [INFO] Selected agent at index 1 (ID: 640533fb-eb84-4b2e-b90b-13bdc8fe82ad, name: Laurent_Jalabert)\n",
      "2025-02-07 12:02:06,233 [INFO] Invoking agent Laurent_Jalabert\n",
      "2025-02-07 12:02:07,054 [INFO] HTTP Request: POST https://api.openai.com/v1/chat/completions \"HTTP/1.1 200 OK\"\n",
      "2025-02-07 12:02:07,059 [INFO] OpenAI usage: CompletionUsage(completion_tokens=13, prompt_tokens=478, total_tokens=491, completion_tokens_details=CompletionTokensDetails(accepted_prediction_tokens=0, audio_tokens=0, reasoning_tokens=0, rejected_prediction_tokens=0), prompt_tokens_details=PromptTokensDetails(audio_tokens=0, cached_tokens=0))\n",
      "2025-02-07 12:02:07,060 [INFO] [ChatCompletionAgent] Invoked OpenAIChatCompletion with message count: 8.\n",
      "2025-02-07 12:02:07,061 [INFO] [AuthorRole.ASSISTANT] : Est-ce que cet adverbe est \"anti\" ?\n",
      "2025-02-07 12:02:07,061 [INFO] Selected agent at index 0 (ID: f853ab5b-90e4-43ac-a4d9-aee747d30732, name: Pere_Fouras)\n",
      "2025-02-07 12:02:07,062 [INFO] Invoking agent Pere_Fouras\n",
      "2025-02-07 12:02:11,133 [INFO] HTTP Request: POST https://api.openai.com/v1/chat/completions \"HTTP/1.1 200 OK\"\n",
      "2025-02-07 12:02:11,135 [INFO] OpenAI usage: CompletionUsage(completion_tokens=163, prompt_tokens=510, total_tokens=673, completion_tokens_details=CompletionTokensDetails(accepted_prediction_tokens=0, audio_tokens=0, reasoning_tokens=0, rejected_prediction_tokens=0), prompt_tokens_details=PromptTokensDetails(audio_tokens=0, cached_tokens=0))\n",
      "2025-02-07 12:02:11,136 [INFO] [ChatCompletionAgent] Invoked OpenAIChatCompletion with message count: 9.\n",
      "2025-02-07 12:02:11,137 [INFO] [AuthorRole.ASSISTANT] : Ah, bien tenté, aventurier ! Mais ce n'est pas tout à fait cela. \"Anti\" est effectivement une bonne approche, car il évoque l'opposition. Mais il reste bien plus à découvrir. Laisse-moi te donner une nouvelle charade pour t'orienter davantage :\n",
      "\n",
      "1. **Mon premier est une première lettre, celle que l'on donne à quelqu'un d'important.**\n",
      "2. **Mon deuxième est le nom d'une couleur où le bleu et le rouge se rencontrent.**\n",
      "3. **Mon troisième, c'est une façon d'agir qui désigne ce que l'on peut faire avec les mains.**\n",
      "4. **Mon tout est une manière de faire qui entre en contradiction avec un principe fondamental.**\n",
      "\n",
      "Poursuis ta quête, cher aventurier !\n",
      "2025-02-07 12:02:11,137 [INFO] Selected agent at index 1 (ID: 640533fb-eb84-4b2e-b90b-13bdc8fe82ad, name: Laurent_Jalabert)\n",
      "2025-02-07 12:02:11,138 [INFO] Invoking agent Laurent_Jalabert\n",
      "2025-02-07 12:02:11,813 [INFO] HTTP Request: POST https://api.openai.com/v1/chat/completions \"HTTP/1.1 200 OK\"\n",
      "2025-02-07 12:02:11,817 [INFO] OpenAI usage: CompletionUsage(completion_tokens=15, prompt_tokens=672, total_tokens=687, completion_tokens_details=CompletionTokensDetails(accepted_prediction_tokens=0, audio_tokens=0, reasoning_tokens=0, rejected_prediction_tokens=0), prompt_tokens_details=PromptTokensDetails(audio_tokens=0, cached_tokens=0))\n",
      "2025-02-07 12:02:11,818 [INFO] [ChatCompletionAgent] Invoked OpenAIChatCompletion with message count: 10.\n",
      "2025-02-07 12:02:11,818 [INFO] [AuthorRole.ASSISTANT] : Est-ce que le mot que je cherche est \"illégal\" ?\n",
      "2025-02-07 12:02:11,819 [INFO] Selected agent at index 0 (ID: f853ab5b-90e4-43ac-a4d9-aee747d30732, name: Pere_Fouras)\n",
      "2025-02-07 12:02:11,819 [INFO] Invoking agent Pere_Fouras\n",
      "2025-02-07 12:02:13,827 [INFO] HTTP Request: POST https://api.openai.com/v1/chat/completions \"HTTP/1.1 200 OK\"\n",
      "2025-02-07 12:02:13,829 [INFO] OpenAI usage: CompletionUsage(completion_tokens=77, prompt_tokens=706, total_tokens=783, completion_tokens_details=CompletionTokensDetails(accepted_prediction_tokens=0, audio_tokens=0, reasoning_tokens=0, rejected_prediction_tokens=0), prompt_tokens_details=PromptTokensDetails(audio_tokens=0, cached_tokens=0))\n",
      "2025-02-07 12:02:13,829 [INFO] [ChatCompletionAgent] Invoked OpenAIChatCompletion with message count: 11.\n",
      "2025-02-07 12:02:13,830 [INFO] [AuthorRole.ASSISTANT] : Ah, cher aventurier, bien que \"illégal\" capture l'esprit d'opposition, ce n'est pas le mot exact que je cherche. Mais tu es sur la bonne voie, continue de réfléchir à ce qui pourrait enfreindre des normes fondamentales !\n",
      "\n",
      "Veux-tu une autre charade pour t'aider davantage ? Je suis ici pour te guider dans cette épreuve !\n",
      "2025-02-07 12:02:13,830 [INFO] Selected agent at index 1 (ID: 640533fb-eb84-4b2e-b90b-13bdc8fe82ad, name: Laurent_Jalabert)\n",
      "2025-02-07 12:02:13,831 [INFO] Invoking agent Laurent_Jalabert\n",
      "2025-02-07 12:02:14,762 [INFO] HTTP Request: POST https://api.openai.com/v1/chat/completions \"HTTP/1.1 200 OK\"\n",
      "2025-02-07 12:02:14,769 [INFO] OpenAI usage: CompletionUsage(completion_tokens=20, prompt_tokens=782, total_tokens=802, completion_tokens_details=CompletionTokensDetails(accepted_prediction_tokens=0, audio_tokens=0, reasoning_tokens=0, rejected_prediction_tokens=0), prompt_tokens_details=PromptTokensDetails(audio_tokens=0, cached_tokens=0))\n",
      "2025-02-07 12:02:14,770 [INFO] [ChatCompletionAgent] Invoked OpenAIChatCompletion with message count: 12.\n",
      "2025-02-07 12:02:14,770 [INFO] [AuthorRole.ASSISTANT] : Laurent Jalabert, à toi de poser la prochaine question pour avancer dans cette quête !\n",
      "2025-02-07 12:02:14,771 [INFO] Selected agent at index 0 (ID: f853ab5b-90e4-43ac-a4d9-aee747d30732, name: Pere_Fouras)\n",
      "2025-02-07 12:02:14,771 [INFO] Invoking agent Pere_Fouras\n",
      "2025-02-07 12:02:16,085 [INFO] HTTP Request: POST https://api.openai.com/v1/chat/completions \"HTTP/1.1 200 OK\"\n",
      "2025-02-07 12:02:16,087 [INFO] OpenAI usage: CompletionUsage(completion_tokens=57, prompt_tokens=821, total_tokens=878, completion_tokens_details=CompletionTokensDetails(accepted_prediction_tokens=0, audio_tokens=0, reasoning_tokens=0, rejected_prediction_tokens=0), prompt_tokens_details=PromptTokensDetails(audio_tokens=0, cached_tokens=0))\n",
      "2025-02-07 12:02:16,088 [INFO] [ChatCompletionAgent] Invoked OpenAIChatCompletion with message count: 13.\n",
      "2025-02-07 12:02:16,089 [INFO] [AuthorRole.ASSISTANT] : Pere_Fouras: Très bien, aventurier ! Je vois que tu veux jouer avec bravoure. Je te lance donc un défi :\n",
      "\n",
      "**Est-ce que le mot que je cherche nécessite une compréhension approfondie des lois et de la Constitution ?**\n",
      "\n",
      "Réponds-moi !\n",
      "2025-02-07 12:02:16,089 [INFO] Selected agent at index 1 (ID: 640533fb-eb84-4b2e-b90b-13bdc8fe82ad, name: Laurent_Jalabert)\n",
      "2025-02-07 12:02:16,090 [INFO] Invoking agent Laurent_Jalabert\n",
      "2025-02-07 12:02:16,848 [INFO] HTTP Request: POST https://api.openai.com/v1/chat/completions \"HTTP/1.1 200 OK\"\n",
      "2025-02-07 12:02:16,853 [INFO] OpenAI usage: CompletionUsage(completion_tokens=22, prompt_tokens=877, total_tokens=899, completion_tokens_details=CompletionTokensDetails(accepted_prediction_tokens=0, audio_tokens=0, reasoning_tokens=0, rejected_prediction_tokens=0), prompt_tokens_details=PromptTokensDetails(audio_tokens=0, cached_tokens=0))\n",
      "2025-02-07 12:02:16,854 [INFO] [ChatCompletionAgent] Invoked OpenAIChatCompletion with message count: 14.\n",
      "2025-02-07 12:02:16,855 [INFO] [AuthorRole.ASSISTANT] : Oui, le mot que tu cherches nécessite effectivement une compréhension approfondie des lois et de la Constitution.\n",
      "2025-02-07 12:02:16,856 [INFO] Selected agent at index 0 (ID: f853ab5b-90e4-43ac-a4d9-aee747d30732, name: Pere_Fouras)\n",
      "2025-02-07 12:02:16,856 [INFO] Invoking agent Pere_Fouras\n",
      "2025-02-07 12:02:19,384 [INFO] HTTP Request: POST https://api.openai.com/v1/chat/completions \"HTTP/1.1 200 OK\"\n",
      "2025-02-07 12:02:19,396 [INFO] OpenAI usage: CompletionUsage(completion_tokens=84, prompt_tokens=918, total_tokens=1002, completion_tokens_details=CompletionTokensDetails(accepted_prediction_tokens=0, audio_tokens=0, reasoning_tokens=0, rejected_prediction_tokens=0), prompt_tokens_details=PromptTokensDetails(audio_tokens=0, cached_tokens=0))\n",
      "2025-02-07 12:02:19,397 [INFO] [ChatCompletionAgent] Invoked OpenAIChatCompletion with message count: 15.\n",
      "2025-02-07 12:02:19,398 [INFO] [AuthorRole.ASSISTANT] : Pere_Fouras: Bravo, cher aventurier ! Tu as saisi l’essence de ce mot mystérieux. Il touche en effet aux notions fondamentales de notre République. Souhaites-tu un dernier indice pour t’orienter, ou penses-tu que tu es prêt à faire un essai avec ce que tu as ? La sagesse réside parfois dans le courage de tenter sa chance !\n",
      "2025-02-07 12:02:19,399 [INFO] Selected agent at index 1 (ID: 640533fb-eb84-4b2e-b90b-13bdc8fe82ad, name: Laurent_Jalabert)\n",
      "2025-02-07 12:02:19,399 [INFO] Invoking agent Laurent_Jalabert\n",
      "2025-02-07 12:02:20,172 [INFO] HTTP Request: POST https://api.openai.com/v1/chat/completions \"HTTP/1.1 200 OK\"\n",
      "2025-02-07 12:02:20,173 [INFO] OpenAI usage: CompletionUsage(completion_tokens=20, prompt_tokens=1001, total_tokens=1021, completion_tokens_details=CompletionTokensDetails(accepted_prediction_tokens=0, audio_tokens=0, reasoning_tokens=0, rejected_prediction_tokens=0), prompt_tokens_details=PromptTokensDetails(audio_tokens=0, cached_tokens=0))\n",
      "2025-02-07 12:02:20,174 [INFO] [ChatCompletionAgent] Invoked OpenAIChatCompletion with message count: 16.\n",
      "2025-02-07 12:02:20,175 [INFO] [AuthorRole.ASSISTANT] : Est-ce que je peux dire que le mot que tu cherches est \"illégal\" ?\n",
      "2025-02-07 12:02:20,175 [INFO] Selected agent at index 0 (ID: f853ab5b-90e4-43ac-a4d9-aee747d30732, name: Pere_Fouras)\n",
      "2025-02-07 12:02:20,176 [INFO] Invoking agent Pere_Fouras\n",
      "2025-02-07 12:02:22,643 [INFO] HTTP Request: POST https://api.openai.com/v1/chat/completions \"HTTP/1.1 200 OK\"\n",
      "2025-02-07 12:02:22,663 [INFO] OpenAI usage: CompletionUsage(completion_tokens=123, prompt_tokens=1040, total_tokens=1163, completion_tokens_details=CompletionTokensDetails(accepted_prediction_tokens=0, audio_tokens=0, reasoning_tokens=0, rejected_prediction_tokens=0), prompt_tokens_details=PromptTokensDetails(audio_tokens=0, cached_tokens=0))\n",
      "2025-02-07 12:02:22,664 [INFO] [ChatCompletionAgent] Invoked OpenAIChatCompletion with message count: 17.\n",
      "2025-02-07 12:02:22,665 [INFO] [AuthorRole.ASSISTANT] : Pere_Fouras: Encore une fois, cher aventurier, \"illégal\" n'est pas tout à fait la réponse que je recherche. Cela touche effectivement à la question de ce qui n'est pas conforme, mais le mot que j'ai en tête est plus spécifique et complexe. \n",
      "\n",
      "Voici un dernier indice :\n",
      "\n",
      "**Ce mot compte dix-neuf lettres et est souvent cité en exemples juridiques pour illustrer un acte qui va à l’encontre des lois fondamentales d’un pays.**\n",
      "\n",
      "Prêt à tenter une dernière fois ? Je sens que la réponse est sur le bout de ta langue !\n",
      "2025-02-07 12:02:22,665 [INFO] Selected agent at index 1 (ID: 640533fb-eb84-4b2e-b90b-13bdc8fe82ad, name: Laurent_Jalabert)\n",
      "2025-02-07 12:02:22,666 [INFO] Invoking agent Laurent_Jalabert\n",
      "2025-02-07 12:02:27,075 [INFO] HTTP Request: POST https://api.openai.com/v1/chat/completions \"HTTP/1.1 200 OK\"\n",
      "2025-02-07 12:02:27,087 [INFO] OpenAI usage: CompletionUsage(completion_tokens=19, prompt_tokens=1162, total_tokens=1181, completion_tokens_details=CompletionTokensDetails(accepted_prediction_tokens=0, audio_tokens=0, reasoning_tokens=0, rejected_prediction_tokens=0), prompt_tokens_details=PromptTokensDetails(audio_tokens=0, cached_tokens=0))\n",
      "2025-02-07 12:02:27,088 [INFO] [ChatCompletionAgent] Invoked OpenAIChatCompletion with message count: 18.\n",
      "2025-02-07 12:02:27,088 [INFO] [AuthorRole.ASSISTANT] : Est-ce que le mot que tu cherches est \"anticonstitutionnellement\" ?\n",
      "2025-02-07 12:02:27,089 [INFO] 🎉 Partie terminée !\n"
     ]
    }
   ],
   "source": [
    "from semantic_kernel.contents import AuthorRole, ChatMessageContent\n",
    "\n",
    "# Bloc 7 - Exécution du jeu\n",
    "async def jouer_partie():\n",
    "    logger.info(\"🚀 Départ du duel Père Fouras vs Laurent Jalabert !\")\n",
    "    logger.info(f\"Mot à deviner : {MOT_A_DEVINER.upper()}\")\n",
    "    \n",
    "    # Ajout du message système directement dans l'historique du chat\n",
    "    # await chat.add_chat_message(ChatMessageContent(role=AuthorRole.DEVELOPER, content=\"Nouvelle partie commencée !\"))\n",
    "\n",
    "    \n",
    "    async for message in chat.invoke():\n",
    "        role = message.role\n",
    "        # name = message.author_name or \"System\"\n",
    "        logger.info(f\"[{role}] : {message.content}\")\n",
    "    \n",
    "    logger.info(\"🎉 Partie terminée !\")\n",
    "\n",
    "await jouer_partie()\n"
   ]
  }
 ],
 "metadata": {
  "kernelspec": {
   "display_name": "Python 3",
   "language": "python",
   "name": "python3"
  },
  "language_info": {
   "codemirror_mode": {
    "name": "ipython",
    "version": 3
   },
   "file_extension": ".py",
   "mimetype": "text/x-python",
   "name": "python",
   "nbconvert_exporter": "python",
   "pygments_lexer": "ipython3",
   "version": "3.11.9"
  }
 },
 "nbformat": 4,
 "nbformat_minor": 2
}
