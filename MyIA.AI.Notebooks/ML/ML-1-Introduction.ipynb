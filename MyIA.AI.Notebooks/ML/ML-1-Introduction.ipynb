{
 "cells": [
  {
   "cell_type": "markdown",
   "metadata": {},
   "source": [
    "# Introduction au Machine Learning avec ML.NET\n",
    "\n",
    "## Qu'est-ce que le Machine Learning ?\n",
    "\n",
    "Le Machine Learning (ML) est une méthode de création de modèles prédictifs en utilisant des algorithmes pour apprendre à partir de données. Contrairement à la programmation traditionnelle, où les développeurs définissent les étapes de l'algorithme, le ML permet à la machine d'apprendre ces étapes à partir des données.\n"
   ]
  },
  {
   "cell_type": "markdown",
   "metadata": {},
   "source": [
    "## Quelles sont les étapes à suivre ?\n",
    "\n",
    "1. **Source et Préparation des Données d'Entraînement**  \n",
    "   Pour entraîner le modèle, nous avons besoin de données étiquetées. Les données étiquetées signifient simplement un ensemble de données qui contient la colonne à prédire déjà présente afin que l'algorithme d'entraînement puisse apprendre à prédire les valeurs.\n",
    "\n",
    "2. **Choisir l'Algorithme d'Entraînement et Entraîner**  \n",
    "    >**Spoiler Alert**  \n",
    "    >Dans la plupart de nos exemples, nous utiliserons AutoML pour simplifier ce processus. AutoML essaie stratégiquement divers algorithmes et paramètres pour une tâche donnée afin de trouver celui qui fonctionne le mieux pour vos données !  \n",
    "    >  \n",
    "    >Vous pouvez penser à cela comme une boucle qui essaie toutes les options. Notre AutoML est un peu plus intelligent que cela ... mais c'est essentiellement ce qu'il fait !  \n",
    "    >\n",
    "    > Pour l'exemple ci-dessous, nous entraînerons un algorithme spécifique - pour que vous puissiez voir comment cela fonctionne !  \n",
    "    1. Choisir une Tâche - [Tâches ML.NET](https://docs.microsoft.com/dotnet/machine-learning/resources/tasks)\n",
    "    2. Choisir un Algorithme - [Algorithmes ML.NET](https://docs.microsoft.com/dotnet/machine-learning/how-to-choose-an-ml-net-algorithm)\n",
    "    3. Définir les Paramètres de l'Algorithme [Glossaire - Hyperparamètres](https://docs.microsoft.com/dotnet/machine-learning/resources/glossary#hyperparameter)\n",
    "    4. Entraîner - C'est ici que les données sont réellement alimentées dans l'algorithme pour entraîner le modèle. Cela peut prendre du temps en fonction de la quantité de données, de l'algorithme et des paramètres de cet algorithme.\n",
    "\n",
    "3. **Évaluer**  \n",
    "   Une fois que vous avez entraîné un modèle - comment savez-vous qu'il fonctionne ? Il existe de nombreuses techniques pour évaluer les performances de vos modèles. Si vous souhaitez approfondir - consultez [Les Métriques d'Évaluation](https://docs.microsoft.com/dotnet/machine-learning/resources/metrics). Sinon, nous donnerons des exemples tout au long de ces tutoriels.\n",
    "\n",
    "4. **Déployer**  \n",
    "   Après avoir entraîné un modèle ... c'est juste du code .NET ! Déployez-le comme vous le feriez pour toute autre application.\n",
    "\n",
    "## Comment commencer ?\n",
    "\n",
    "Ci-dessous, nous avons une introduction rapide à ML.NET - \"Hello ML.NET World!\" et les trois prochains notebooks de la série plongent en profondeur dans la [Préparation des Données et l'Ingénierie des Caractéristiques](https://ntbk.io/ml-02-data), [L'Entraînement et AutoML](https://ntbk.io/ml-03-training), et [L'Évaluation des Modèles](https://ntbk.io/ml-04-evaluation).\n",
    "\n",
    "# Hello ML.NET World!\n",
    "\n",
    "Le code dans l'extrait suivant démontre l'application ML.NET la plus simple. Cet exemple construit un modèle de régression linéaire pour prédire les prix des maisons en utilisant les données de taille et de prix des maisons. \n",
    "\n",
    "Première étape, référencer le package [Microsoft.ML](https://www.nuget.org/packages/Microsoft.ML/)."
   ]
  },
  {
   "cell_type": "code",
   "execution_count": null,
   "metadata": {
    "dotnet_interactive": {
     "language": "csharp"
    },
    "polyglot_notebook": {
     "kernelName": "csharp"
    }
   },
   "outputs": [],
   "source": [
    "#r \"nuget: Microsoft.ML\""
   ]
  },
  {
   "cell_type": "markdown",
   "metadata": {},
   "source": [
    "La deuxième étape est de référencer les espaces de noms ML.NET."
   ]
  },
  {
   "cell_type": "code",
   "execution_count": null,
   "metadata": {
    "dotnet_interactive": {
     "language": "csharp"
    },
    "polyglot_notebook": {
     "kernelName": "csharp"
    }
   },
   "outputs": [],
   "source": [
    "using Microsoft.ML;\n",
    "using Microsoft.ML.Data;"
   ]
  },
  {
   "cell_type": "markdown",
   "metadata": {},
   "source": [
    "Maintenant, nous sommes prêts à écrire le code pour accomplir la tâche de machine learning dont nous avons besoin. Toujours commencer par créer le [MLContext](https://docs.microsoft.com/dotnet/api/microsoft.ml.mlcontext?view=ml-dotnet) qui est le contexte commun pour toutes les opérations ML.NET."
   ]
  },
  {
   "cell_type": "code",
   "execution_count": null,
   "metadata": {
    "dotnet_interactive": {
     "language": "csharp"
    },
    "polyglot_notebook": {
     "kernelName": "csharp"
    }
   },
   "outputs": [],
   "source": [
    "MLContext mlContext = new MLContext();"
   ]
  },
  {
   "cell_type": "markdown",
   "metadata": {},
   "source": [
    "Ensuite, définissez les structures de données pour les données que nous allons utiliser. Cet exemple concerne la prédiction des prix des maisons. Commencez par définir la structure de données suivante qui contient la taille et le prix des maisons :"
   ]
  },
  {
   "cell_type": "code",
   "execution_count": null,
   "metadata": {
    "dotnet_interactive": {
     "language": "csharp"
    },
    "polyglot_notebook": {
     "kernelName": "csharp"
    }
   },
   "outputs": [],
   "source": [
    "public class HouseData\n",
    "{\n",
    "    public float Size { get; set; }\n",
    "    public float Price { get; set; }\n",
    "}"
   ]
  },
  {
   "cell_type": "markdown",
   "metadata": {},
   "source": [
    "Définissez ensuite la structure de données pour les prédictions de prix des maisons :"
   ]
  },
  {
   "cell_type": "code",
   "execution_count": null,
   "metadata": {
    "dotnet_interactive": {
     "language": "csharp"
    },
    "polyglot_notebook": {
     "kernelName": "csharp"
    }
   },
   "outputs": [],
   "source": [
    "public class Prediction\n",
    "{\n",
    "    [ColumnName(\"Score\")]\n",
    "    public float Price { get; set; }\n",
    "}"
   ]
  },
  {
   "cell_type": "markdown",
   "metadata": {},
   "source": [
    "Maintenant, nous sommes prêts à entraîner les données pré-collectées que nous utiliserons pour le scénario de prédiction des prix des maisons :"
   ]
  },
  {
   "cell_type": "code",
   "execution_count": null,
   "metadata": {
    "dotnet_interactive": {
     "language": "csharp"
    },
    "polyglot_notebook": {
     "kernelName": "csharp"
    }
   },
   "outputs": [],
   "source": [
    "HouseData[] houseData = {\n",
    "    new HouseData() { Size = 1.1F, Price = 1.2F },\n",
    "    new HouseData() { Size = 1.9F, Price = 2.3F },\n",
    "    new HouseData() { Size = 2.8F, Price = 3.0F },\n",
    "    new HouseData() { Size = 3.4F, Price = 3.7F }\n",
    "};\n",
    "\n",
    "IDataView trainingData = mlContext.Data.LoadFromEnumerable(houseData);"
   ]
  },
  {
   "cell_type": "markdown",
   "metadata": {},
   "source": [
    "En utilisant le `MLContext` que nous avons précédemment créé, chargez les données d'entraînement dans le [IDataView](https://docs.microsoft.com/dotnet/api/microsoft.ml.idataview?view=ml-dotnet) ML.NET, qui est le type de données fondamental de ML.NET."
   ]
  },
  {
   "cell_type": "code",
   "execution_count": null,
   "metadata": {
    "dotnet_interactive": {
     "language": "csharp"
    },
    "polyglot_notebook": {
     "kernelName": "csharp"
    }
   },
   "outputs": [],
   "source": [
    "IDataView trainingData = mlContext.Data.LoadFromEnumerable(houseData);"
   ]
  },
  {
   "cell_type": "markdown",
   "metadata": {},
   "source": [
    "Maintenant que nous avons les données prêtes, nous allons créer le pipeline ML.NET en spécifiant le formateur que nous allons utiliser pour construire notre modèle de machine learning. Pour la prédiction des prix des maisons, nous allons utiliser le formateur de régression. ML.NET prend en charge d'autres formateurs de machine learning qui peuvent être utilisés pour d'autres scénarios selon les besoins. Le pipeline créera ce que l'on appelle un [Estimator](https://docs.microsoft.com/dotnet/api/microsoft.ml.iestimator-1?view=ml-dotnet), utilisé pour définir les opérations appliquées aux données."
   ]
  },
  {
   "cell_type": "code",
   "execution_count": null,
   "metadata": {
    "dotnet_interactive": {
     "language": "csharp"
    },
    "polyglot_notebook": {
     "kernelName": "csharp"
    }
   },
   "outputs": [],
   "source": [
    "var pipeline = mlContext.Transforms.Concatenate(\"Features\", new[] { \"Size\" })\n",
    "               .Append(mlContext.Regression.Trainers.Sdca(labelColumnName: \"Price\", maximumNumberOfIterations: 100));"
   ]
  },
  {
   "cell_type": "markdown",
   "metadata": {},
   "source": [
    "Après avoir créé l'estimateur, nous sommes prêts à appliquer les transformations et le formateur définis dans le pipeline aux données. Pour ce faire, appelez la méthode [Fit](https://docs.microsoft.com/dotnet/api/microsoft.ml.iestimator-1.fit?view=ml-dotnet).\n"
   ]
  },
  {
   "cell_type": "code",
   "execution_count": null,
   "metadata": {
    "dotnet_interactive": {
     "language": "csharp"
    },
    "polyglot_notebook": {
     "kernelName": "csharp"
    }
   },
   "outputs": [],
   "source": [
    "var model = pipeline.Fit(trainingData);"
   ]
  },
  {
   "cell_type": "markdown",
   "metadata": {},
   "source": [
    "Maintenant, nous pouvons évaluer le modèle entraîné. Pour ce faire, nous chargerons des données de test préparées et ensuite nous appellerons la méthode [Evaluate](https://docs.microsoft.com/dotnet/api/microsoft.ml.regression\n",
    "\n",
    "catalog.evaluate?view=ml-dotnet), puis nous afficherons le [Coefficient de Détermination](https://en.wikipedia.org/wiki/Coefficient_of_determination) pour savoir comment le modèle s'ajuste aux données de test. Plus le coefficient de détermination est proche de 1, mieux le modèle est ajusté. Répétez les étapes d'entraînement et d'évaluation jusqu'à obtenir un résultat satisfaisant du modèle entraîné."
   ]
  },
  {
   "cell_type": "code",
   "execution_count": null,
   "metadata": {
    "dotnet_interactive": {
     "language": "csharp"
    },
    "polyglot_notebook": {
     "kernelName": "csharp"
    }
   },
   "outputs": [],
   "source": [
    "HouseData[] testData = {\n",
    "    new HouseData() { Size = 1.1F, Price = 1.2F },\n",
    "    new HouseData() { Size = 1.2F, Price = 1.5F },\n",
    "    new HouseData() { Size = 1.4F, Price = 1.7F },\n",
    "    new HouseData() { Size = 1.6F, Price = 1.9F },\n",
    "    new HouseData() { Size = 1.9F, Price = 2.3F },\n",
    "    new HouseData() { Size = 2.8F, Price = 3.0F },\n",
    "    new HouseData() { Size = 3.2F, Price = 3.5F },\n",
    "    new HouseData() { Size = 3.3F, Price = 3.6F },\n",
    "    new HouseData() { Size = 3.5F, Price = 3.9F },\n",
    "    new HouseData() { Size = 3.7F, Price = 4.3F },\n",
    "    new HouseData() { Size = 4.0F, Price = 6.1F },\n",
    "    new HouseData() { Size = 5.0F, Price = 7.2F },\n",
    "    new HouseData() { Size = 6.0F, Price = 8.5F },\n",
    "    new HouseData() { Size = 7.0F, Price = 9.8F },\n",
    "    new HouseData() { Size = 8.0F, Price = 10.3F }\n",
    "    };\n",
    "\n",
    "IDataView trainingTestData = mlContext.Data.LoadFromEnumerable(testData);\n",
    "IDataView transformedTestData = model.Transform(trainingTestData);\n",
    "RegressionMetrics trainedModelMetrics = mlContext.Regression.Evaluate(transformedTestData, labelColumnName: \"Size\");\n",
    "Console.WriteLine($\"Coefficient de détermination pour le modèle entraîné : {trainedModelMetrics.RSquared:0.00}\");"
   ]
  },
  {
   "cell_type": "markdown",
   "metadata": {},
   "source": [
    "Maintenant, nous avons le modèle entraîné prêt pour la prédiction. Utilisons ce modèle pour prédire le prix d'une maison. Pour ce faire, créez l'objet [PredictionEngine<TSrc,TDst>](https://docs.microsoft.com/dotnet/api/microsoft.ml.predictionengine-2?view=ml-dotnet). Le moteur de prédiction est la classe utilisée pour faire des prédictions uniques sur un modèle précédemment entraîné (et le pipeline de transformation précédent). La création du moteur de prédiction à partir du modèle entraîné peut se faire avec le code suivant :\n"
   ]
  },
  {
   "cell_type": "code",
   "execution_count": null,
   "metadata": {
    "dotnet_interactive": {
     "language": "csharp"
    },
    "polyglot_notebook": {
     "kernelName": "csharp"
    }
   },
   "outputs": [],
   "source": [
    "var predictionEngine = mlContext.Model.CreatePredictionEngine<HouseData, Prediction>(model);"
   ]
  },
  {
   "cell_type": "markdown",
   "metadata": {},
   "source": [
    "Ensuite, en utilisant le moteur de prédiction créé, nous pouvons prédire le prix de la maison comme suit :"
   ]
  },
  {
   "cell_type": "code",
   "execution_count": null,
   "metadata": {
    "dotnet_interactive": {
     "language": "csharp"
    },
    "polyglot_notebook": {
     "kernelName": "csharp"
    }
   },
   "outputs": [],
   "source": [
    "var size = new HouseData() { Size = 2.5F };\n",
    "var price = predictionEngine.Predict(size);\n",
    "Console.WriteLine($\"Prix prédit pour une taille de {size.Size * 1000} pieds carrés : {price.Price * 100:C}k\");"
   ]
  },
  {
   "cell_type": "markdown",
   "metadata": {},
   "source": [
    "Félicitations ! Vous avez entraîné avec succès un modèle de régression ML.NET en utilisant vos propres données, puis utilisé ce modèle pour prédire les prix des maisons. Voici un diagramme résumant l'opération de bout en bout de création et d'entraînement d'un modèle ML.NET, puis de l'utiliser pour prédire les prix des maisons.\n",
    "\n",
    "![ML.NET Workflow](https://docs.microsoft.com/dotnet/machine-learning/media/mldotnet-annotated-workflow.png)\n",
    "\n",
    "# Continuez à apprendre\n",
    "\n",
    "> [⏩ Module Suivant - Préparation des Données et Ingénierie des Caractéristiques](./02-Data%20Preparation%20and%20Feature%20Engineering.ipynb)"
   ]
  }
 ],
 "metadata": {
  "kernelspec": {
   "display_name": ".NET (C#)",
   "language": "C#",
   "name": ".net-csharp"
  },
  "polyglot_notebook": {
   "kernelInfo": {
    "defaultKernelName": "csharp",
    "items": [
     {
      "aliases": [],
      "languageName": "csharp",
      "name": "csharp"
     }
    ]
   }
  }
 },
 "nbformat": 4,
 "nbformat_minor": 2
}
