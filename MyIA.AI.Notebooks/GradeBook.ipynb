{
 "cells": [
  {
   "cell_type": "markdown",
   "metadata": {},
   "source": [
    "#### 1. Déclaration des packages NuGet"
   ]
  },
  {
   "cell_type": "code",
   "execution_count": 54,
   "metadata": {
    "dotnet_interactive": {
     "language": "csharp"
    },
    "polyglot_notebook": {
     "kernelName": "csharp"
    }
   },
   "outputs": [
    {
     "data": {
      "text/html": [
       "<div><div></div><div></div><div><strong>Installed Packages</strong><ul><li><span>ClosedXML, 0.95.4</span></li><li><span>CsvHelper, 27.1.1</span></li><li><span>Lucene.Net.Analysis.Common, 4.8.0-beta00013</span></li><li><span>XPlot.Plotly.Interactive, 4.1.0</span></li></ul></div></div>"
      ]
     },
     "metadata": {},
     "output_type": "display_data"
    }
   ],
   "source": [
    "// Déclaration des packages NuGet requis\n",
    "#r \"nuget: CsvHelper, 27.1.1\"\n",
    "#r \"nuget: ClosedXML, 0.95.4\"\n",
    "#r \"nuget: XPlot.Plotly.Interactive\"\n",
    "#r \"nuget: Lucene.Net.Analysis.Common, 4.8.0-beta00013\"\n"
   ]
  },
  {
   "cell_type": "markdown",
   "metadata": {},
   "source": [
    "#### 2. Définition des paramètres\n",
    "\n",
    "Il s'agit du coefficient et du nom du prof, d'éventuels paramètres de sécurité ou d'affichage."
   ]
  },
  {
   "cell_type": "code",
   "execution_count": 55,
   "metadata": {
    "dotnet_interactive": {
     "language": "csharp"
    },
    "polyglot_notebook": {
     "kernelName": "csharp"
    }
   },
   "outputs": [],
   "source": [
    "// Déclaration des variables pour la pondération et d'autres paramètres\n",
    "\n",
    "int numberOfProjects = 1; \n",
    "int[] nbEvalFieldsPerProject = { 3, 3, 3 };\n",
    "\n",
    "decimal teacherWeight = 1m;\n",
    "string professorEmail = \"jsboige@gmail.com\";\n",
    "// Ajouter d'autres paramètres selon les besoins\n"
   ]
  },
  {
   "cell_type": "markdown",
   "metadata": {},
   "source": [
    "#### 3. Upload et Chargement des Inscriptions"
   ]
  },
  {
   "cell_type": "code",
   "execution_count": 56,
   "metadata": {
    "dotnet_interactive": {
     "language": "csharp"
    },
    "polyglot_notebook": {
     "kernelName": "csharp"
    }
   },
   "outputs": [
    {
     "data": {
      "text/plain": [
       "Fichier sélectionné : g:\\Mon Drive\\MyIA\\Formation\\Epita\\2024\\2024 - SCIA - NLP - IA Symbolique - Inscription.xlsx - eleves.csv"
      ]
     },
     "metadata": {},
     "output_type": "display_data"
    },
    {
     "data": {
      "application/json": [
       {
        "Moyenne": 0,
        "Nom": "Achour",
        "Notes": [],
        "Prénom": "Assil",
        "Sujet": "Assil + Djunice + Romain + Lina -> Smart Contract",
        "Sujets": [
         "Assil + Djunice + Romain + Lina -> Smart Contract"
        ]
       },
       {
        "Moyenne": 0,
        "Nom": "Amine",
        "Notes": [],
        "Prénom": "Samy",
        "Sujet": "Planning Problem Solver (Optapy)",
        "Sujets": [
         "Planning Problem Solver (Optapy)"
        ]
       },
       {
        "Moyenne": 0,
        "Nom": "Andry",
        "Notes": [],
        "Prénom": "Abel",
        "Sujet": "Abel Andry + Léo Billant -> SMT dans la Santé",
        "Sujets": [
         "Abel Andry + Léo Billant -> SMT dans la Santé"
        ]
       },
       {
        "Moyenne": 0,
        "Nom": "Bailly",
        "Notes": [],
        "Prénom": "Alexandre",
        "Sujet": "Alexandre Bailly + Jean-Michel Naud + Florian Tigoulet -> Bot de service",
        "Sujets": [
         "Alexandre Bailly + Jean-Michel Naud + Florian Tigoulet -> Bot de service"
        ]
       },
       {
        "Moyenne": 0,
        "Nom": "Barberis",
        "Notes": [],
        "Prénom": "Emon",
        "Sujet": "Emon Barberis + Nicolas Schmitt + Paul Hartmann -> A la découverte du prouveur de théorème Lean",
        "Sujets": [
         "Emon Barberis + Nicolas Schmitt + Paul Hartmann -> A la découverte du prouveur de théorème Lean"
        ]
       }
      ]
     },
     "metadata": {},
     "output_type": "display_data"
    }
   ],
   "source": [
    "using Microsoft.DotNet.Interactive;\n",
    "using System.IO;\n",
    "using CsvHelper;\n",
    "using System.Globalization;\n",
    "using CsvHelper.Configuration;\n",
    "\n",
    "public class StudentRecord\n",
    "{\n",
    "    public string Nom { get; set; }\n",
    "    public string Prénom { get; set; }\n",
    "    public string Classe { get; set; }\n",
    "    \n",
    "    public string Sujet { get; set; }\n",
    "    public List<string> Sujets => new(){Sujet};\n",
    "    public List<decimal> Notes { get; set; } = new();\n",
    "    public decimal Moyenne => Notes.Any()? Notes.Average(): 0;\n",
    "\n",
    "}\n",
    "\n",
    "\n",
    "\n",
    "public class StudentMap : ClassMap<StudentRecord>\n",
    "{\n",
    "    public StudentMap()\n",
    "    {\n",
    "        Map(m => m.Nom).Name(\"Nom\");\n",
    "        Map(m => m.Prénom).Name(\"Prénom\");\n",
    "        // Map(m => m.Classe).Name(\"Classe (CV/NLP)\");\n",
    "        Map(m => m.Sujet).Name(\"Sujet IA Symbolique\");\n",
    "    }\n",
    "}\n",
    "\n",
    "// Upload et lecture du fichier CSV des inscriptions\n",
    "var studentFileInput = await Kernel.GetInputAsync(\n",
    "    \"Veuillez uploader le fichier CSV contenant les inscriptions des étudiants:\",\n",
    "    typeHint: \"file\");\n",
    "\n",
    "display($\"Fichier sélectionné : {studentFileInput}\");\n",
    "\n",
    "List<StudentRecord> studentRecords;\n",
    "using (var studentReader = new StreamReader(studentFileInput))\n",
    "{\n",
    "    using (var studentCsv = new CsvReader(studentReader, CultureInfo.InvariantCulture))\n",
    "    {\n",
    "        studentCsv.Context.RegisterClassMap<StudentMap>();\n",
    "        studentRecords = studentCsv.GetRecords<StudentRecord>().ToList();\n",
    "    }\n",
    "}\n",
    "\n",
    "// Affichage des 5 premières lignes pour vérification\n",
    "display(studentRecords.Take(5), \"application/json\");\n",
    "\n",
    "\n",
    "// Affichage des élèves en anomalie (non inscrits)\n"
   ]
  },
  {
   "cell_type": "markdown",
   "metadata": {},
   "source": [
    "#### 4. Chargement des fichiers de notes\n",
    "\n",
    "Dans une boucle, on charge les différents exports csv des fichiers produits par Google Forms."
   ]
  },
  {
   "cell_type": "code",
   "execution_count": 57,
   "metadata": {
    "dotnet_interactive": {
     "language": "csharp"
    },
    "polyglot_notebook": {
     "kernelName": "csharp"
    }
   },
   "outputs": [
    {
     "data": {
      "text/plain": [
       "Evaluations du projet Epita - 2024 - SCIA - NLP - Evaluations IASY (réponses) - Réponses au formulaire 1.csv"
      ]
     },
     "metadata": {},
     "output_type": "display_data"
    },
    {
     "data": {
      "text/markdown": [
       "<table><thead><tr><th><i>index</i></th><th>value</th></tr></thead><tbody><tr><td>0</td><td><details class=\"dni-treeview\"><summary><span class=\"dni-code-hint\"><code>Submission#58+EvaluationRecord</code></span></summary><div><table><thead><tr></tr></thead><tbody><tr><td>Date</td><td><span>2024-06-12 14:15:49Z</span></td></tr><tr><td>Email</td><td><div class=\"dni-plaintext\"><pre>loris.lin@epita.fr</pre></div></td></tr><tr><td>Nom</td><td><div class=\"dni-plaintext\"><pre>Lin</pre></div></td></tr><tr><td>Prénom</td><td><div class=\"dni-plaintext\"><pre>Loris</pre></div></td></tr><tr><td>Groupe</td><td><div class=\"dni-plaintext\"><pre>Les locuteurs pragmatiques et le discours rationnel</pre></div></td></tr><tr><td>SujetLibre</td><td><div class=\"dni-plaintext\"><pre>Les locuteurs pragmatiques et le discours rationnel</pre></div></td></tr><tr><td>NoteCommunication</td><td><div class=\"dni-plaintext\"><pre>10</pre></div></td></tr><tr><td>NoteThéorique</td><td><div class=\"dni-plaintext\"><pre>10</pre></div></td></tr><tr><td>NoteTechnique</td><td><div class=\"dni-plaintext\"><pre>10</pre></div></td></tr><tr><td>NoteOrganisation</td><td><div class=\"dni-plaintext\"><pre>0</pre></div></td></tr><tr><td>PointsPositifs</td><td><div class=\"dni-plaintext\"><pre>Fluidit&#233; et des jolies slides</pre></div></td></tr><tr><td>PointsNégatifs</td><td><div class=\"dni-plaintext\"><pre></pre></div></td></tr><tr><td>Recommandations</td><td><div class=\"dni-plaintext\"><pre></pre></div></td></tr><tr><td>Note</td><td><div class=\"dni-plaintext\"><pre>20</pre></div></td></tr><tr><td>IsTeacher</td><td><div class=\"dni-plaintext\"><pre>False</pre></div></td></tr><tr><td>NbEvalFields</td><td><div class=\"dni-plaintext\"><pre>3</pre></div></td></tr></tbody></table></div></details></td></tr><tr><td>1</td><td><details class=\"dni-treeview\"><summary><span class=\"dni-code-hint\"><code>Submission#58+EvaluationRecord</code></span></summary><div><table><thead><tr></tr></thead><tbody><tr><td>Date</td><td><span>2024-06-12 14:17:09Z</span></td></tr><tr><td>Email</td><td><div class=\"dni-plaintext\"><pre>emon.barberis@epita.fr</pre></div></td></tr><tr><td>Nom</td><td><div class=\"dni-plaintext\"><pre>Barberis</pre></div></td></tr><tr><td>Prénom</td><td><div class=\"dni-plaintext\"><pre>Emon</pre></div></td></tr><tr><td>Groupe</td><td><div class=\"dni-plaintext\"><pre>Les locuteurs pragmatiques et le discours rationnel</pre></div></td></tr><tr><td>SujetLibre</td><td><div class=\"dni-plaintext\"><pre>Locuteurs pragmatiques et le discours rationnel</pre></div></td></tr><tr><td>NoteCommunication</td><td><div class=\"dni-plaintext\"><pre>10</pre></div></td></tr><tr><td>NoteThéorique</td><td><div class=\"dni-plaintext\"><pre>10</pre></div></td></tr><tr><td>NoteTechnique</td><td><div class=\"dni-plaintext\"><pre>10</pre></div></td></tr><tr><td>NoteOrganisation</td><td><div class=\"dni-plaintext\"><pre>0</pre></div></td></tr><tr><td>PointsPositifs</td><td><div class=\"dni-plaintext\"><pre></pre></div></td></tr><tr><td>PointsNégatifs</td><td><div class=\"dni-plaintext\"><pre></pre></div></td></tr><tr><td>Recommandations</td><td><div class=\"dni-plaintext\"><pre></pre></div></td></tr><tr><td>Note</td><td><div class=\"dni-plaintext\"><pre>20</pre></div></td></tr><tr><td>IsTeacher</td><td><div class=\"dni-plaintext\"><pre>False</pre></div></td></tr><tr><td>NbEvalFields</td><td><div class=\"dni-plaintext\"><pre>3</pre></div></td></tr></tbody></table></div></details></td></tr><tr><td>2</td><td><details class=\"dni-treeview\"><summary><span class=\"dni-code-hint\"><code>Submission#58+EvaluationRecord</code></span></summary><div><table><thead><tr></tr></thead><tbody><tr><td>Date</td><td><span>2024-06-12 14:19:57Z</span></td></tr><tr><td>Email</td><td><div class=\"dni-plaintext\"><pre>lilian.schall@epita.fr</pre></div></td></tr><tr><td>Nom</td><td><div class=\"dni-plaintext\"><pre>Schall</pre></div></td></tr><tr><td>Prénom</td><td><div class=\"dni-plaintext\"><pre>Lilian</pre></div></td></tr><tr><td>Groupe</td><td><div class=\"dni-plaintext\"><pre>Les locuteurs pragmatiques et le discours rationnel</pre></div></td></tr><tr><td>SujetLibre</td><td><div class=\"dni-plaintext\"><pre>Les locuteurs pragmatiques et le discours rationnel</pre></div></td></tr><tr><td>NoteCommunication</td><td><div class=\"dni-plaintext\"><pre>10</pre></div></td></tr><tr><td>NoteThéorique</td><td><div class=\"dni-plaintext\"><pre>10</pre></div></td></tr><tr><td>NoteTechnique</td><td><div class=\"dni-plaintext\"><pre>10</pre></div></td></tr><tr><td>NoteOrganisation</td><td><div class=\"dni-plaintext\"><pre>0</pre></div></td></tr><tr><td>PointsPositifs</td><td><div class=\"dni-plaintext\"><pre></pre></div></td></tr><tr><td>PointsNégatifs</td><td><div class=\"dni-plaintext\"><pre></pre></div></td></tr><tr><td>Recommandations</td><td><div class=\"dni-plaintext\"><pre></pre></div></td></tr><tr><td>Note</td><td><div class=\"dni-plaintext\"><pre>20</pre></div></td></tr><tr><td>IsTeacher</td><td><div class=\"dni-plaintext\"><pre>False</pre></div></td></tr><tr><td>NbEvalFields</td><td><div class=\"dni-plaintext\"><pre>3</pre></div></td></tr></tbody></table></div></details></td></tr><tr><td>3</td><td><details class=\"dni-treeview\"><summary><span class=\"dni-code-hint\"><code>Submission#58+EvaluationRecord</code></span></summary><div><table><thead><tr></tr></thead><tbody><tr><td>Date</td><td><span>2024-06-12 14:28:18Z</span></td></tr><tr><td>Email</td><td><div class=\"dni-plaintext\"><pre>lyes.benacer@epita.fr</pre></div></td></tr><tr><td>Nom</td><td><div class=\"dni-plaintext\"><pre>Benacer</pre></div></td></tr><tr><td>Prénom</td><td><div class=\"dni-plaintext\"><pre>Lyes</pre></div></td></tr><tr><td>Groupe</td><td><div class=\"dni-plaintext\"><pre>Les locuteurs pragmatiques et le discours rationnel</pre></div></td></tr><tr><td>SujetLibre</td><td><div class=\"dni-plaintext\"><pre>Locutuers pragmatiques</pre></div></td></tr><tr><td>NoteCommunication</td><td><div class=\"dni-plaintext\"><pre>9</pre></div></td></tr><tr><td>NoteThéorique</td><td><div class=\"dni-plaintext\"><pre>9</pre></div></td></tr><tr><td>NoteTechnique</td><td><div class=\"dni-plaintext\"><pre>10</pre></div></td></tr><tr><td>NoteOrganisation</td><td><div class=\"dni-plaintext\"><pre>0</pre></div></td></tr><tr><td>PointsPositifs</td><td><div class=\"dni-plaintext\"><pre></pre></div></td></tr><tr><td>PointsNégatifs</td><td><div class=\"dni-plaintext\"><pre></pre></div></td></tr><tr><td>Recommandations</td><td><div class=\"dni-plaintext\"><pre></pre></div></td></tr><tr><td>Note</td><td><div class=\"dni-plaintext\"><pre>18,666666666666666666666666667</pre></div></td></tr><tr><td>IsTeacher</td><td><div class=\"dni-plaintext\"><pre>False</pre></div></td></tr><tr><td>NbEvalFields</td><td><div class=\"dni-plaintext\"><pre>3</pre></div></td></tr></tbody></table></div></details></td></tr><tr><td>4</td><td><details class=\"dni-treeview\"><summary><span class=\"dni-code-hint\"><code>Submission#58+EvaluationRecord</code></span></summary><div><table><thead><tr></tr></thead><tbody><tr><td>Date</td><td><span>2024-06-12 14:28:34Z</span></td></tr><tr><td>Email</td><td><div class=\"dni-plaintext\"><pre>romain.trefault@epita.fr</pre></div></td></tr><tr><td>Nom</td><td><div class=\"dni-plaintext\"><pre>Trefault</pre></div></td></tr><tr><td>Prénom</td><td><div class=\"dni-plaintext\"><pre>Romain</pre></div></td></tr><tr><td>Groupe</td><td><div class=\"dni-plaintext\"><pre>Les locuteurs pragmatiques et le discours rationnel</pre></div></td></tr><tr><td>SujetLibre</td><td><div class=\"dni-plaintext\"><pre>Les locuteurs pragmatiques et le discours rationnel</pre></div></td></tr><tr><td>NoteCommunication</td><td><div class=\"dni-plaintext\"><pre>9</pre></div></td></tr><tr><td>NoteThéorique</td><td><div class=\"dni-plaintext\"><pre>9</pre></div></td></tr><tr><td>NoteTechnique</td><td><div class=\"dni-plaintext\"><pre>10</pre></div></td></tr><tr><td>NoteOrganisation</td><td><div class=\"dni-plaintext\"><pre>0</pre></div></td></tr><tr><td>PointsPositifs</td><td><div class=\"dni-plaintext\"><pre>Complet, code + partie th&#233;orique, bonne illustration et explication</pre></div></td></tr><tr><td>PointsNégatifs</td><td><div class=\"dni-plaintext\"><pre>trop monotone</pre></div></td></tr><tr><td>Recommandations</td><td><div class=\"dni-plaintext\"><pre></pre></div></td></tr><tr><td>Note</td><td><div class=\"dni-plaintext\"><pre>18,666666666666666666666666667</pre></div></td></tr><tr><td>IsTeacher</td><td><div class=\"dni-plaintext\"><pre>False</pre></div></td></tr><tr><td>NbEvalFields</td><td><div class=\"dni-plaintext\"><pre>3</pre></div></td></tr></tbody></table></div></details></td></tr></tbody></table><style>\r\n",
       ".dni-code-hint {\r\n",
       "    font-style: italic;\r\n",
       "    overflow: hidden;\r\n",
       "    white-space: nowrap;\r\n",
       "}\r\n",
       ".dni-treeview {\r\n",
       "    white-space: nowrap;\r\n",
       "}\r\n",
       ".dni-treeview td {\r\n",
       "    vertical-align: top;\r\n",
       "    text-align: start;\r\n",
       "}\r\n",
       "details.dni-treeview {\r\n",
       "    padding-left: 1em;\r\n",
       "}\r\n",
       "table td {\r\n",
       "    text-align: start;\r\n",
       "}\r\n",
       "table tr { \r\n",
       "    vertical-align: top; \r\n",
       "    margin: 0em 0px;\r\n",
       "}\r\n",
       "table tr td pre \r\n",
       "{ \r\n",
       "    vertical-align: top !important; \r\n",
       "    margin: 0em 0px !important;\r\n",
       "} \r\n",
       "table th {\r\n",
       "    text-align: start;\r\n",
       "}\r\n",
       "</style>"
      ]
     },
     "metadata": {},
     "output_type": "display_data"
    }
   ],
   "source": [
    "using System.Collections.Generic;\n",
    "using CsvHelper.Configuration;\n",
    "using System.Globalization;\n",
    "using System.IO;\n",
    "using System.Linq;\n",
    "using Microsoft.DotNet.Interactive.Formatting;\n",
    "\n",
    "\n",
    "public class EvaluationRecord\n",
    "{\n",
    "    public DateTime Date { get; set; }\n",
    "    public string Email { get; set; }\n",
    "    public string Nom { get; set; }\n",
    "    public string Prénom { get; set; }\n",
    "    public string Groupe { get; set; }\n",
    "    public string SujetLibre { get; set; }\n",
    "    public int NoteCommunication { get; set; }\n",
    "    public int NoteThéorique { get; set; }\n",
    "    public int NoteTechnique { get; set; }\n",
    "    public int NoteOrganisation { get; set; }\n",
    "    public string PointsPositifs { get; set; }\n",
    "    public string PointsNégatifs { get; set; }\n",
    "    public string Recommandations { get; set; }\n",
    "\n",
    "    public decimal Note => ((decimal) (NoteCommunication + NoteTechnique + NoteThéorique + NoteOrganisation) * 2)  / (decimal) NbEvalFields;\n",
    "\n",
    "    public bool IsTeacher { get; set; } \n",
    "    public int NbEvalFields { get; set; } = 4;\n",
    "\n",
    "}\n",
    "\n",
    "\n",
    "\n",
    "\n",
    "public class EvaluationMap : ClassMap<EvaluationRecord>\n",
    "{\n",
    "    public EvaluationMap()\n",
    "    {\n",
    "        Map(m => m.Date).Name(\"Horodateur\");\n",
    "        Map(m => m.Email).Name(\"Adresse e-mail\");\n",
    "        Map(m => m.Nom).Name(\"Votre nom\");\n",
    "        Map(m => m.Prénom).Name(\"Votre prénom\");\n",
    "        Map(m => m.Groupe).Name(\"Groupe à évaluer\");\n",
    "        Map(m => m.SujetLibre).Name(\"Sujet de la présentation\");\n",
    "        Map(m => m.NoteCommunication).Name(\"Qualité de la présentation (communication, la forme)\");\n",
    "        Map(m => m.NoteThéorique).Name(\"Qualité théorique (principes utilisés, classe d'algorithmes, contexte et explications des performances et des problèmes, histoire etc.)\");\n",
    "        Map(m => m.NoteTechnique).Name(\"Qualité technique (livrables, commits, qualité du code, démos, résultats, perspectives)\");\n",
    "        // Map(m => m.NoteOrganisation).Name(\"Organisation (planning, répartition des tâches, collaboration, intégration au projet Github)\");\n",
    "        Map(m => m.PointsPositifs).Name(\"Points positifs de la présentation\");\n",
    "        Map(m => m.PointsNégatifs).Name(\"Points négatifs de la présentation\");\n",
    "        Map(m => m.Recommandations).Name(\"Recommandations pour s'améliorer\");\n",
    "    }\n",
    "}\n",
    "var evaluations = new List<List<EvaluationRecord>>();\n",
    "for (int i = 0; i < numberOfProjects; i++)\n",
    "{\n",
    "    var fileInput = await Kernel.GetInputAsync($\"Veuillez uploader le fichier CSV pour le projet {i + 1}:\", typeHint: \"file\");\n",
    "    using var evalReader = new StreamReader(fileInput);\n",
    "    var csvConfig = new CsvConfiguration(CultureInfo.CurrentCulture)\n",
    "    {\n",
    "        Delimiter = \",\",\n",
    "        HasHeaderRecord = true,\n",
    "        MissingFieldFound = null,\n",
    "        BadDataFound = null,\n",
    "        IgnoreBlankLines = true,\n",
    "        TrimOptions = TrimOptions.Trim,\n",
    "    };\n",
    "    using var evalCsv = new CsvReader(evalReader, csvConfig);\n",
    "    evalCsv.Context.RegisterClassMap<EvaluationMap>();\n",
    "    var projectEvaluations = evalCsv.GetRecords<EvaluationRecord>().ToList();\n",
    "\n",
    "    // Validation du sujet libre contre le groupe évalué (simplifié ici)\n",
    "    foreach (var eval in projectEvaluations)\n",
    "    {\n",
    "        eval.NbEvalFields = nbEvalFieldsPerProject[i];\n",
    "        if (eval.Email == professorEmail)\n",
    "        {\n",
    "            eval.IsTeacher = true;\n",
    "        }\n",
    "        \n",
    "        var expectedSubject = studentRecords.FirstOrDefault(s => s.Sujet == eval.Groupe)?.Sujet;\n",
    "        if (expectedSubject != null && !eval.Groupe.Contains(expectedSubject))\n",
    "        {\n",
    "            display($\"Attention: Le sujet '{eval.Groupe}' ne correspond pas au groupe '{eval.Groupe}' attendu pour '{expectedSubject}'.\");\n",
    "        }\n",
    "    }\n",
    "\n",
    "    // Afficher les données chargées pour vérification\n",
    "    display($\"Evaluations du projet {System.IO.Path.GetFileName(fileInput)}\");\n",
    "     projectEvaluations.Take(5).ToList().ToDisplayString(\"text/html\").DisplayAs(\"text/markdown\");\n",
    "    evaluations.Add(projectEvaluations);\n",
    "}\n",
    "\n",
    "\n",
    "\n"
   ]
  },
  {
   "cell_type": "markdown",
   "metadata": {},
   "source": [
    "#### 5. Définition des structures de croisement et validation des données\n",
    "\n",
    "On commence par définir les structures de données qui vont permettre de rapprocher évaluations et inscriptions"
   ]
  },
  {
   "cell_type": "code",
   "execution_count": 58,
   "metadata": {
    "dotnet_interactive": {
     "language": "csharp"
    },
    "polyglot_notebook": {
     "kernelName": "csharp"
    }
   },
   "outputs": [],
   "source": [
    "\n",
    "using Lucene.Net.Analysis;\n",
    "using Lucene.Net.Analysis.Core;\n",
    "using Lucene.Net.Analysis.Standard;\n",
    "using Lucene.Net.Analysis.Miscellaneous;\n",
    "using Lucene.Net.Analysis.TokenAttributes;\n",
    "using Lucene.Net.Util;\n",
    "using System.IO;\n",
    "\n",
    "\n",
    "\n",
    "\n",
    "\n",
    "public class GroupEvaluation\n",
    "{\n",
    "    public decimal TeacherWeight { get; set; }\n",
    "    public string Groupe { get; set; }\n",
    "    \n",
    "    public decimal Moyenne\n",
    "    {\n",
    "        get\n",
    "        {\n",
    "            var studentEvals = Evaluations.Where(e => !e.IsTeacher).ToList();\n",
    "            var teacherEvals = Evaluations.Where(e => e.IsTeacher).ToList();\n",
    "            decimal studentAvg = studentEvals.Any() ? studentEvals.Average(e => e.Note) : 0;\n",
    "            decimal teacherAvg = teacherEvals.Any() ? teacherEvals.Average(e => e.Note) : 0;\n",
    "            decimal toReturn = studentEvals.Any() ? (studentAvg + (teacherEvals.Any() ? teacherAvg * TeacherWeight : 0)) / (1 + (teacherEvals.Any() ? TeacherWeight : 0)) : 0;\n",
    "            return toReturn;\n",
    "        }\n",
    "    }\n",
    "\n",
    "    \n",
    "     public decimal EcartType\n",
    "    {\n",
    "        get\n",
    "        {\n",
    "            var studentEvals = Evaluations.Where(e => !e.IsTeacher).ToList();\n",
    "            var teacherEvals = Evaluations.Where(e => e.IsTeacher).ToList();\n",
    "\n",
    "            if (!studentEvals.Any()) return 0;\n",
    "\n",
    "            decimal moyenne = Moyenne;\n",
    "            decimal varianceEtudiant = studentEvals.Any() ? (decimal) studentEvals.Select(e => Math.Pow((double)(e.Note - moyenne), 2)).Average(): 0;\n",
    "            decimal varianceProfesseur = teacherEvals.Any() ? (decimal) Math.Pow((double)(teacherEvals.Average(e => e.Note) - moyenne), 2) : 0;\n",
    "\n",
    "            var combinedVariance = (double) ((varianceEtudiant + varianceProfesseur * TeacherWeight) / (1 + TeacherWeight));\n",
    "            return (decimal)Math.Sqrt(combinedVariance);\n",
    "        }\n",
    "    }\n",
    "\n",
    "        \n",
    "    public decimal NoteRectifiée { get; set; }\n",
    "\n",
    "    public List<EvaluationRecord> Evaluations { get; set; }\n",
    "    public DateTime Date =>  Evaluations.Skip(Evaluations.Count / 2).First().Date;\n",
    "    public List<StudentRecord> GroupMembers { get; set; }   \n",
    "}\n",
    "\n",
    "public class ProjectEvaluation\n",
    "{\n",
    "\n",
    "    public string ProfessorEmail {get; set;}\n",
    "\n",
    "    public class CustomAnalyzer : Analyzer\n",
    "    {\n",
    "       private LuceneVersion version;\n",
    "    \n",
    "       public CustomAnalyzer(LuceneVersion version)\n",
    "       {\n",
    "           this.version = version;\n",
    "       }\n",
    "    \n",
    "       protected override TokenStreamComponents CreateComponents(string fieldName, TextReader reader)\n",
    "       {\n",
    "           var tokenizer = new StandardTokenizer(version, reader);\n",
    "           TokenStream tokenStream = new LowerCaseFilter(version, tokenizer);\n",
    "           tokenStream = new ASCIIFoldingFilter(tokenStream);\n",
    "           return new TokenStreamComponents(tokenizer, tokenStream);\n",
    "       }\n",
    "    }\n",
    "\n",
    "    public List<GroupEvaluation> GroupedEvaluations { get; set; } = new List<GroupEvaluation>();\n",
    "\n",
    "    public decimal Moyenne => GroupedEvaluations.Select(n => n.Moyenne * n.GroupMembers.Count).Sum() / GroupedEvaluations.Select(n => n.GroupMembers.Count).Sum();\n",
    "\n",
    "    public decimal EcartType => (decimal) Math.Sqrt(GroupedEvaluations.Select(n => Math.Pow((double) (n.Moyenne - Moyenne), 2) * n.GroupMembers.Count).Sum() \n",
    "    / GroupedEvaluations.Select(n => n.GroupMembers.Count).Sum());\n",
    "\n",
    "    public static string FoldAccents(string text)\n",
    "    {\n",
    "        using (var analyzer = new CustomAnalyzer(LuceneVersion.LUCENE_48))\n",
    "        using (var reader = new StringReader(text))\n",
    "        using (var tokenStream = analyzer.GetTokenStream(\"\", reader))\n",
    "        {\n",
    "            var charTermAttribute = tokenStream.AddAttribute<ICharTermAttribute>();\n",
    "            tokenStream.Reset();\n",
    "            var output = string.Empty;\n",
    "            while (tokenStream.IncrementToken())\n",
    "            {\n",
    "                output += charTermAttribute.ToString() + \" \";\n",
    "            }\n",
    "            tokenStream.End();\n",
    "            return output.Trim();\n",
    "        }\n",
    "    }\n",
    "\n",
    "\n",
    "    public string ProjectName(string name)\n",
    "    {\n",
    "        var firstName = name.Split(\" \").First().Split(\"-\").First();\n",
    "        firstName = firstName.Substring(0, Math.Min(5, firstName.Length));\n",
    "        return FoldAccents(firstName.ToLowerInvariant().Trim());\n",
    "    }\n",
    "\n",
    "    public void FilterEvaluations()\n",
    "    {\n",
    "        // display($\"Noms des inscrits : \");\n",
    "        // foreach (var groupEval in GroupedEvaluations)\n",
    "        // {\n",
    "        //     foreach (var student in groupEval.GroupMembers)\n",
    "        //     {\n",
    "        //         display($\"{student.Prénom} ({ProjectName(student.Prénom)}) {student.Nom} ({ProjectName(student.Nom)})\");\n",
    "        //     }\n",
    "        // }\n",
    "        foreach (var groupEval in GroupedEvaluations)\n",
    "        {\n",
    "            groupEval.Evaluations = groupEval.Evaluations.Where(e => this.IsValidEvaluation(groupEval, e)).ToList();\n",
    "        }\n",
    "    }\n",
    "\n",
    "\n",
    "    public bool MatchNames(StudentRecord student, EvaluationRecord eval)\n",
    "    {\n",
    "        return (ProjectName(student.Nom) == ProjectName(eval.Nom) && ProjectName(student.Prénom) == ProjectName(eval.Prénom))\n",
    "        || (ProjectName(student.Prénom) == ProjectName(eval.Nom) && ProjectName(student.Nom) == ProjectName(eval.Prénom));\n",
    "    }\n",
    "\n",
    "    public bool MatchNames(EvaluationRecord eval1, EvaluationRecord eval2)\n",
    "    {\n",
    "        return (ProjectName(eval1.Nom) == ProjectName(eval2.Nom) && ProjectName(eval1.Prénom) == ProjectName(eval2.Prénom))\n",
    "        || (ProjectName(eval1.Prénom) == ProjectName(eval2.Nom) && ProjectName(eval1.Nom) == ProjectName(eval2.Prénom));\n",
    "    }\n",
    "\n",
    "    public bool IsValidEvaluation(GroupEvaluation groupEvaluation, EvaluationRecord eval)\n",
    "    {\n",
    "       // Vérifier que la note n'est pas attribuée avant la présentation\n",
    "       // et que les notes ne sont pas extrêmement hautes ou basses sans justification\n",
    "       if (eval.Note < 1 && eval.Note > 19) {\n",
    "              display($\"Evaluation écartée: {eval}, Note invalide ({eval.Note})\");\n",
    "            return false;\n",
    "       }\n",
    "\n",
    "       // Vérifier que la date est cohérente avec les autres évaluations du groupe\n",
    "       if (groupEvaluation.Date >= eval.Date + TimeSpan.FromHours(5)){\n",
    "              display($\"Evaluation écartée: {eval}, Etudiant {eval.Prénom} ({this.ProjectName(eval.Prénom)}) {eval.Nom} ({this.ProjectName(eval.Nom)}) a évalué trop tôt ({eval.Date})\");\n",
    "              return false;\n",
    "       } \n",
    "       if (groupEvaluation.Date < eval.Date - TimeSpan.FromHours(2)) {\n",
    "                display($\"Evaluation écartée: {eval}, Etudiant {eval.Prénom} ({this.ProjectName(eval.Prénom)}) {eval.Nom} ({this.ProjectName(eval.Nom)}) a évalué trop tard ({eval.Date})\");\n",
    "                return false;\n",
    "        }\n",
    "\n",
    "       // L'étudiant doit être inscrit.\n",
    "       if (eval.Email != ProfessorEmail && !this.GroupedEvaluations.Exists(s => s.GroupMembers.Exists(s => MatchNames(s, eval)))) {\n",
    "                           display($\"Evaluation écartée: {eval}, Etudiant {eval.Prénom} ({this.ProjectName(eval.Prénom)}) {eval.Nom} ({this.ProjectName(eval.Nom)}) non inscrit ({eval.Email})\");\n",
    "                           \n",
    "                           return false;\n",
    "                       }\n",
    "\n",
    "\n",
    "       // Interdiction de voter pour soi-même\n",
    "       if(groupEvaluation.GroupMembers.Exists(s => MatchNames(s, eval))) {\n",
    "                           display($\"Evaluation écartée: {eval}, Etudiant {eval.Prénom} ({this.ProjectName(eval.Prénom)}) {eval.Nom} ({this.ProjectName(eval.Nom)}) membre du groupe évalué, \");\n",
    "                           return false;\n",
    "                       }\n",
    "\n",
    "       // Interdiction aux doublons\n",
    "       if (groupEvaluation.Evaluations.Count(e => MatchNames(e, eval)) > 1) {\n",
    "                           display($\"Evaluation écartée: {eval}, {eval.Prénom} ({this.ProjectName(eval.Prénom)}) {eval.Nom} ({this.ProjectName(eval.Nom)}) a évalué plusieurs fois le même groupe\");\n",
    "                           return false;\n",
    "                       }\n",
    "\n",
    "       return true;\n",
    "    }\n",
    "\n",
    "}\n",
    "\n"
   ]
  },
  {
   "cell_type": "markdown",
   "metadata": {},
   "source": [
    "#### 6. Définition des structures de croisement et validation des données\n",
    "\n",
    "Puis on effectue l'ensemble des étapes de calcul du workflow"
   ]
  },
  {
   "cell_type": "code",
   "execution_count": 59,
   "metadata": {
    "dotnet_interactive": {
     "language": "csharp"
    },
    "polyglot_notebook": {
     "kernelName": "csharp"
    }
   },
   "outputs": [
    {
     "data": {
      "text/plain": [
       "Evaluation écartée: Submission#58+EvaluationRecord, Samy (samy) Hadj-said (hadj) a évalué plusieurs fois le même groupe"
      ]
     },
     "metadata": {},
     "output_type": "display_data"
    },
    {
     "data": {
      "text/plain": [
       "Evaluation écartée: Submission#58+EvaluationRecord, Juliette (julie) Jin (jin) a évalué plusieurs fois le même groupe"
      ]
     },
     "metadata": {},
     "output_type": "display_data"
    },
    {
     "data": {
      "text/plain": [
       "Evaluation écartée: Submission#58+EvaluationRecord, Samy (samy) Hadj-said (hadj) a évalué plusieurs fois le même groupe"
      ]
     },
     "metadata": {},
     "output_type": "display_data"
    },
    {
     "data": {
      "text/plain": [
       "Evaluation écartée: Submission#58+EvaluationRecord, Juliette (julie) Jin (jin) a évalué plusieurs fois le même groupe"
      ]
     },
     "metadata": {},
     "output_type": "display_data"
    },
    {
     "data": {
      "text/plain": [
       "Evaluation écartée: Submission#58+EvaluationRecord, Samy (samy) Hadj-said (hadj) a évalué plusieurs fois le même groupe"
      ]
     },
     "metadata": {},
     "output_type": "display_data"
    },
    {
     "data": {
      "text/plain": [
       "Evaluation écartée: Submission#58+EvaluationRecord, Samy (samy) Hadj-said (hadj) a évalué plusieurs fois le même groupe"
      ]
     },
     "metadata": {},
     "output_type": "display_data"
    },
    {
     "data": {
      "text/plain": [
       "Evaluation écartée: Submission#58+EvaluationRecord, Samy (samy) Hadj-said (hadj) a évalué plusieurs fois le même groupe"
      ]
     },
     "metadata": {},
     "output_type": "display_data"
    },
    {
     "data": {
      "text/plain": [
       "Evaluation écartée: Submission#58+EvaluationRecord, Samy (samy) Hadj-said (hadj) a évalué plusieurs fois le même groupe"
      ]
     },
     "metadata": {},
     "output_type": "display_data"
    },
    {
     "data": {
      "text/plain": [
       "Evaluation écartée: Submission#58+EvaluationRecord, Samy (samy) Hadj-said (hadj) a évalué plusieurs fois le même groupe"
      ]
     },
     "metadata": {},
     "output_type": "display_data"
    },
    {
     "data": {
      "text/plain": [
       "Evaluation écartée: Submission#58+EvaluationRecord, Samy (samy) Hadj-said (hadj) a évalué plusieurs fois le même groupe"
      ]
     },
     "metadata": {},
     "output_type": "display_data"
    },
    {
     "data": {
      "text/plain": [
       "Evaluation écartée: Submission#58+EvaluationRecord, Samy (samy) Hadj-said (hadj) a évalué plusieurs fois le même groupe"
      ]
     },
     "metadata": {},
     "output_type": "display_data"
    },
    {
     "data": {
      "text/plain": [
       "Evaluation écartée: Submission#58+EvaluationRecord, Samy (samy) Hadj-said (hadj) a évalué plusieurs fois le même groupe"
      ]
     },
     "metadata": {},
     "output_type": "display_data"
    },
    {
     "data": {
      "text/plain": [
       "Evaluation écartée: Submission#58+EvaluationRecord, Samy (samy) Hadj-said (hadj) a évalué plusieurs fois le même groupe"
      ]
     },
     "metadata": {},
     "output_type": "display_data"
    },
    {
     "data": {
      "text/plain": [
       "Evaluation écartée: Submission#58+EvaluationRecord, Samy (samy) Hadj-said (hadj) a évalué plusieurs fois le même groupe"
      ]
     },
     "metadata": {},
     "output_type": "display_data"
    },
    {
     "data": {
      "text/plain": [
       "Evaluation écartée: Submission#58+EvaluationRecord, Etudiant Assil (assil) Achour (achou) a évalué trop tard (12/06/2024 18:13:09)"
      ]
     },
     "metadata": {},
     "output_type": "display_data"
    },
    {
     "data": {
      "text/plain": [
       "Evaluation écartée: Submission#58+EvaluationRecord, Emon (emon) Barberis (barbe) a évalué plusieurs fois le même groupe"
      ]
     },
     "metadata": {},
     "output_type": "display_data"
    },
    {
     "data": {
      "text/plain": [
       "Evaluation écartée: Submission#58+EvaluationRecord, Samy (samy) Hadj-said (hadj) a évalué plusieurs fois le même groupe"
      ]
     },
     "metadata": {},
     "output_type": "display_data"
    },
    {
     "data": {
      "text/plain": [
       "Evaluation écartée: Submission#58+EvaluationRecord, Samy (samy) Hadj-said (hadj) a évalué plusieurs fois le même groupe"
      ]
     },
     "metadata": {},
     "output_type": "display_data"
    },
    {
     "data": {
      "text/plain": [
       "Evaluation écartée: Submission#58+EvaluationRecord, Emon (emon) Barberis (barbe) a évalué plusieurs fois le même groupe"
      ]
     },
     "metadata": {},
     "output_type": "display_data"
    },
    {
     "data": {
      "text/plain": [
       "Evaluation écartée: Submission#58+EvaluationRecord, Samy (samy) Hadj-said (hadj) a évalué plusieurs fois le même groupe"
      ]
     },
     "metadata": {},
     "output_type": "display_data"
    },
    {
     "data": {
      "text/plain": [
       "Evaluation écartée: Submission#58+EvaluationRecord, Etudiant Lyes (lyes) Benacer (benac) membre du groupe évalué, "
      ]
     },
     "metadata": {},
     "output_type": "display_data"
    },
    {
     "data": {
      "text/plain": [
       "Evaluation écartée: Submission#58+EvaluationRecord, Samy (samy) Hadj-said (hadj) a évalué plusieurs fois le même groupe"
      ]
     },
     "metadata": {},
     "output_type": "display_data"
    },
    {
     "data": {
      "text/plain": [
       "Evaluation écartée: Submission#58+EvaluationRecord, Samy (samy) Hadj-said (hadj) a évalué plusieurs fois le même groupe"
      ]
     },
     "metadata": {},
     "output_type": "display_data"
    },
    {
     "data": {
      "text/plain": [
       "Evaluation écartée: Submission#58+EvaluationRecord, Samy (samy) Hadj-said (hadj) a évalué plusieurs fois le même groupe"
      ]
     },
     "metadata": {},
     "output_type": "display_data"
    },
    {
     "data": {
      "text/plain": [
       "Evaluation écartée: Submission#58+EvaluationRecord, Samy (samy) Hadj-said (hadj) a évalué plusieurs fois le même groupe"
      ]
     },
     "metadata": {},
     "output_type": "display_data"
    },
    {
     "data": {
      "text/plain": [
       "Evaluation écartée: Submission#58+EvaluationRecord, Samy (samy) Hadj-said (hadj) a évalué plusieurs fois le même groupe"
      ]
     },
     "metadata": {},
     "output_type": "display_data"
    },
    {
     "data": {
      "text/plain": [
       "Evaluation écartée: Submission#58+EvaluationRecord, Samy (samy) Hadj-said (hadj) a évalué plusieurs fois le même groupe"
      ]
     },
     "metadata": {},
     "output_type": "display_data"
    },
    {
     "data": {
      "text/plain": [
       "Evaluation écartée: Submission#58+EvaluationRecord, Loris (loris) LIN (lin) a évalué plusieurs fois le même groupe"
      ]
     },
     "metadata": {},
     "output_type": "display_data"
    },
    {
     "data": {
      "text/plain": [
       "Evaluation écartée: Submission#58+EvaluationRecord, Samy (samy) Hadj-said (hadj) a évalué plusieurs fois le même groupe"
      ]
     },
     "metadata": {},
     "output_type": "display_data"
    },
    {
     "data": {
      "text/plain": [
       "Evaluation écartée: Submission#58+EvaluationRecord, Etudiant Christophe (chris) NGUYEN (nguye) membre du groupe évalué, "
      ]
     },
     "metadata": {},
     "output_type": "display_data"
    },
    {
     "data": {
      "text/plain": [
       "Evaluation écartée: Submission#58+EvaluationRecord, Samy (samy) Hadj-said (hadj) a évalué plusieurs fois le même groupe"
      ]
     },
     "metadata": {},
     "output_type": "display_data"
    },
    {
     "data": {
      "text/plain": [
       "Evaluation écartée: Submission#58+EvaluationRecord, Samy (samy) Hadj-said (hadj) a évalué plusieurs fois le même groupe"
      ]
     },
     "metadata": {},
     "output_type": "display_data"
    },
    {
     "data": {
      "text/plain": [
       "Evaluation écartée: Submission#58+EvaluationRecord, Loris (loris) LIN (lin) a évalué plusieurs fois le même groupe"
      ]
     },
     "metadata": {},
     "output_type": "display_data"
    },
    {
     "data": {
      "text/plain": [
       "Evaluation écartée: Submission#58+EvaluationRecord, Lilian (lilia) SCHALL (schal) a évalué plusieurs fois le même groupe"
      ]
     },
     "metadata": {},
     "output_type": "display_data"
    },
    {
     "data": {
      "text/plain": [
       "Evaluation écartée: Submission#58+EvaluationRecord, Etudiant Loris (loris) LIN (lin) membre du groupe évalué, "
      ]
     },
     "metadata": {},
     "output_type": "display_data"
    },
    {
     "data": {
      "text/plain": [
       "Evaluation écartée: Submission#58+EvaluationRecord, Samy (samy) Hadj-said (hadj) a évalué plusieurs fois le même groupe"
      ]
     },
     "metadata": {},
     "output_type": "display_data"
    },
    {
     "data": {
      "text/plain": [
       "Evaluation écartée: Submission#58+EvaluationRecord, Samy (samy) Hadj-said (hadj) a évalué plusieurs fois le même groupe"
      ]
     },
     "metadata": {},
     "output_type": "display_data"
    },
    {
     "data": {
      "text/plain": [
       "Evaluation écartée: Submission#58+EvaluationRecord, Samy (samy) Hadj-said (hadj) a évalué plusieurs fois le même groupe"
      ]
     },
     "metadata": {},
     "output_type": "display_data"
    },
    {
     "data": {
      "text/plain": [
       "Evaluation écartée: Submission#58+EvaluationRecord, Etudiant Lilian (lilia) SCHALL (schal) a évalué trop tard (20/06/2024 14:15:07)"
      ]
     },
     "metadata": {},
     "output_type": "display_data"
    },
    {
     "data": {
      "text/plain": [
       "Evaluation écartée: Submission#58+EvaluationRecord, Etudiant Pierre-Louis (pierr) FAVREAU (favre) a évalué trop tard (20/06/2024 14:18:56)"
      ]
     },
     "metadata": {},
     "output_type": "display_data"
    },
    {
     "data": {
      "text/plain": [
       "Evaluation écartée: Submission#58+EvaluationRecord, Etudiant Léa (lea) Margery (marge) a évalué trop tôt (12/06/2024 17:41:40)"
      ]
     },
     "metadata": {},
     "output_type": "display_data"
    },
    {
     "data": {
      "text/plain": [
       "Evaluation écartée: Submission#58+EvaluationRecord, Etudiant jason (jason) perez (perez) membre du groupe évalué, "
      ]
     },
     "metadata": {},
     "output_type": "display_data"
    },
    {
     "data": {
      "text/plain": [
       "Evaluation écartée: Submission#58+EvaluationRecord, Etudiant Djuncie (djunc) Lumban (lumba) non inscrit (djunice.lumban@epita.fr)"
      ]
     },
     "metadata": {},
     "output_type": "display_data"
    },
    {
     "data": {
      "text/plain": [
       "Evaluation écartée: Submission#58+EvaluationRecord, Etudiant jason (jason) perez (perez) membre du groupe évalué, "
      ]
     },
     "metadata": {},
     "output_type": "display_data"
    },
    {
     "data": {
      "text/plain": [
       "Moyenne des notes pour le projet 1: 16,341263560933907357952234878, écart type: 0,797021705403362"
      ]
     },
     "metadata": {},
     "output_type": "display_data"
    },
    {
     "data": {
      "text/html": [
       "<!DOCTYPE html>\r\n",
       "<div style=\"width: 900px; height: 500px;\" id=\"73184c33-6309-459c-9ddd-e87352b7ce9b\"></div><script type=\"text/javascript\">\r\n",
       "\n",
       "var renderPlotly = function() {\n",
       "    var xplotRequire = require.config({context:'xplot-3.0.1',paths:{plotly:'https://cdn.plot.ly/plotly-1.49.2.min'}}) || require;\n",
       "    xplotRequire(['plotly'], function(Plotly) { \r\n",
       "\n",
       "            var data = [{\"type\":\"histogram\",\"x\":[16.347222222222222222222222222,16.065359477124183006535947712,14.836601307189542483660130719,16.088888888888888888888888889,15.448028673835125448028673835,17.46031746031746031746031746,15.374485596707818930041152264,17.045267489711934156378600823,15.481481481481481481481481481,16.502923976608187134502923977,16.469135802469135802469135803,17.244444444444444444444444444,16.044444444444444444444444444,17.777777777777777777777777778],\"autobinx\":false,\"xbins\":{\"start\":0.0,\"end\":20.0,\"size\":0.5}}];\n",
       "           var layout = \"\";\n",
       "           Plotly.newPlot('73184c33-6309-459c-9ddd-e87352b7ce9b', data, layout);\n",
       "        \r\n",
       "});\n",
       "};\r\n",
       "// ensure `require` is available globally\r\n",
       "if ((typeof(require) !==  typeof(Function)) || (typeof(require.config) !== typeof(Function))) {\r\n",
       "    let require_script = document.createElement('script');\r\n",
       "    require_script.setAttribute('src', 'https://cdnjs.cloudflare.com/ajax/libs/require.js/2.3.6/require.min.js');\r\n",
       "    require_script.setAttribute('type', 'text/javascript');\r\n",
       "    \r\n",
       "    \r\n",
       "    require_script.onload = function() {\r\n",
       "        renderPlotly();\r\n",
       "    };\r\n",
       "\r\n",
       "    document.getElementsByTagName('head')[0].appendChild(require_script);\r\n",
       "}\r\n",
       "else {\r\n",
       "    renderPlotly();\r\n",
       "}\r\n",
       "\r\n",
       "</script>\r\n"
      ]
     },
     "metadata": {},
     "output_type": "display_data"
    }
   ],
   "source": [
    "using XPlot.Plotly;\n",
    "\n",
    "// Apariement des élèves à partir de l'inscription\n",
    "\n",
    "var projectEvaluations = new List<ProjectEvaluation>();  \n",
    "\n",
    "for (int i = 0; i < evaluations.Count; i++)\n",
    "{\n",
    "    var projectEvaluation = new ProjectEvaluation(){ProfessorEmail = professorEmail};\n",
    "    projectEvaluations.Add(projectEvaluation);\n",
    "\n",
    "    \n",
    "    var projetEval = evaluations[i];\n",
    "    var groupProjectEvaluations = projetEval.GroupBy(e => e.Groupe).Select(g => new GroupEvaluation {\n",
    "        Groupe = g.Key,\n",
    "        Evaluations = g.ToList(),\n",
    "        GroupMembers = studentRecords.Where(s => s.Sujets.Contains(g.Key)).ToList(),\n",
    "        TeacherWeight = teacherWeight\n",
    "    }).ToList();\n",
    "    \n",
    "    projectEvaluation.GroupedEvaluations.AddRange(groupProjectEvaluations);\n",
    "    \n",
    "    // Affichage des élèves en anomalie, typiquement des élèves inscrits mais sans note.\n",
    "    \n",
    "    projectEvaluation.FilterEvaluations();\n",
    "\n",
    "\n",
    "   \n",
    "    // Affichage des groupes et des moyennes\n",
    "\n",
    "    display($\"Moyenne des notes pour le projet {i + 1}: {projectEvaluation.Moyenne}, écart type: {projectEvaluation.EcartType}\");\n",
    "\n",
    "    // Visualisation avec Plotly\n",
    "    var chart = Chart.Plot(\n",
    "        new Histogram\n",
    "        {\n",
    "            x = groupProjectEvaluations.Select(n => n.Moyenne),\n",
    "            autobinx = false,\n",
    "            xbins = new Xbins { start = 0, end = 20, size = 0.5 }\n",
    "        }\n",
    "    );\n",
    "    \n",
    "    display(chart);\n",
    "\n",
    "    // Affichage de la moyenne et l'écart type pour chacun des projets\n",
    "}\n",
    "\n",
    "\n"
   ]
  },
  {
   "cell_type": "markdown",
   "metadata": {},
   "source": [
    "#### 7. Définition des paramètres de rectification\n",
    "\n",
    "Définition pour chacun des projets de la moyenne et l'écart type à appliquer"
   ]
  },
  {
   "cell_type": "code",
   "execution_count": 63,
   "metadata": {
    "dotnet_interactive": {
     "language": "csharp"
    },
    "polyglot_notebook": {
     "kernelName": "csharp"
    }
   },
   "outputs": [],
   "source": [
    "//Déclaration des variables ou utilisation d'une saisie sous forme de boucle.\n",
    "\n",
    "// Dans un premier temps, une valeur pour tous les projets\n",
    "List<(decimal newMean, decimal newStdev)> rectificationParams = new List<(decimal newMean, decimal newStdev)>\n",
    "{\n",
    "    (15m, 1.5m)\n",
    "};\n",
    "\n"
   ]
  },
  {
   "cell_type": "markdown",
   "metadata": {},
   "source": [
    "#### 8. Application des paramètres de rectification \n",
    "\n",
    "Calcul et assignation des notes rectifiées "
   ]
  },
  {
   "cell_type": "code",
   "execution_count": 64,
   "metadata": {
    "dotnet_interactive": {
     "language": "csharp"
    },
    "polyglot_notebook": {
     "kernelName": "csharp"
    }
   },
   "outputs": [],
   "source": [
    "using System;\n",
    "using ClosedXML.Excel;\n",
    "\n",
    "public static decimal AdjustGrade(decimal originalGrade, decimal groupMean, \n",
    "    decimal groupStdDev, decimal targetMean = 10, decimal targetStdDev = 2)\n",
    "{\n",
    "    if (groupStdDev == 0) // Pour éviter la division par zéro\n",
    "        return targetMean; // Retourne la moyenne cible si l'écart-type est nul\n",
    "\n",
    "    // Calcul de la note ajustée\n",
    "    decimal adjustedGrade = ((originalGrade - groupMean) / groupStdDev) * targetStdDev + targetMean;\n",
    "\n",
    "    // Clamper la note pour qu'elle reste dans les bornes 0 à 20\n",
    "    adjustedGrade = Math.Max(0, Math.Min(20, adjustedGrade));\n",
    "\n",
    "    return adjustedGrade;\n",
    "}\n",
    "\n",
    "\n",
    "// Rectification des notes de chaque groupe pour chaque projet.\n",
    "\n",
    "\n",
    "for (int i = 0; i < projectEvaluations.Count; i++)\n",
    "{\n",
    "    var project = projectEvaluations[i];\n",
    "    var rectification = rectificationParams[i];\n",
    "    \n",
    "    for (int j = 0; j < project.GroupedEvaluations.Count; j++)\n",
    "    {\n",
    "        var eval = project.GroupedEvaluations[j];\n",
    "        decimal originalGrade = eval.Moyenne; // Assurez-vous que la conversion est correcte\n",
    "        decimal adjustedGrade = eval.NoteRectifiée = AdjustGrade(originalGrade, project.Moyenne, project.EcartType, rectification.newMean, rectification.newStdev);\n",
    "        \n",
    "    }\n",
    "}\n"
   ]
  },
  {
   "cell_type": "markdown",
   "metadata": {},
   "source": [
    "### 9. Génération du spreadsheet de résultats"
   ]
  },
  {
   "cell_type": "code",
   "execution_count": 65,
   "metadata": {
    "dotnet_interactive": {
     "language": "csharp"
    },
    "polyglot_notebook": {
     "kernelName": "csharp"
    }
   },
   "outputs": [
    {
     "data": {
      "text/plain": [
       "Fichier Excel généré : g:\\Mon Drive\\MyIA\\Formation\\Epita\\2024\\Resultats_Evaluations.xlsx"
      ]
     },
     "metadata": {},
     "output_type": "display_data"
    }
   ],
   "source": [
    "using ClosedXML.Excel;\n",
    "using System;\n",
    "using System.Linq;\n",
    "\n",
    "public string WrapText(string text, int maxLength)\n",
    "{\n",
    "    var words = text.Split(' ');\n",
    "    var wrappedText = new StringBuilder();\n",
    "    string line = \"\";\n",
    "\n",
    "    foreach (var word in words)\n",
    "    {\n",
    "        if ((line + word).Length > maxLength)\n",
    "        {\n",
    "            wrappedText.AppendLine(line.Trim());\n",
    "            line = \"\";\n",
    "        }\n",
    "        line += word + \" \";\n",
    "    }\n",
    "\n",
    "    if (line.Length > 0)\n",
    "        wrappedText.AppendLine(line.Trim());\n",
    "\n",
    "    return wrappedText.ToString();\n",
    "}\n",
    "\n",
    "\n",
    "public void GenerateWorkbook(List<ProjectEvaluation> projectEvaluations, List<StudentRecord> students)\n",
    "{\n",
    "    var workbook = new XLWorkbook();\n",
    "    var summarySheet = workbook.AddWorksheet(\"Résumé Étudiants\");\n",
    "\n",
    "    // En-tête pour la feuille de résumé\n",
    "    summarySheet.Cell(1, 1).Value = \"Nom\";\n",
    "    summarySheet.Cell(1, 2).Value = \"Prénom\";\n",
    "    int currentColumn = 3;\n",
    "    for (int i = 0; i < projectEvaluations.Count; i++)\n",
    "    {\n",
    "        summarySheet.Cell(1, currentColumn).Value = $\"Groupe Projet {i + 1}\";\n",
    "        summarySheet.Cell(1, currentColumn + 1).Value = $\"Note Projet {i + 1}\";\n",
    "        currentColumn += 2;\n",
    "    }\n",
    "    summarySheet.Cell(1, currentColumn).Value = \"Note Moyenne Finale\";\n",
    "\n",
    "    // Trier les étudiants par nom et prénom\n",
    "    var sortedStudents = students.OrderBy(s => s.Nom).ThenBy(s => s.Prénom).ToList();\n",
    "    int row = 2;\n",
    "    foreach (var student in sortedStudents)\n",
    "    {\n",
    "        decimal totalNotes = 0;\n",
    "        int numberOfGrades = 0;\n",
    "        summarySheet.Cell(row, 1).Value = student.Nom;\n",
    "        summarySheet.Cell(row, 2).Value = student.Prénom;\n",
    "\n",
    "        currentColumn = 3;\n",
    "        for (int i = 0; i < projectEvaluations.Count; i++)\n",
    "        {\n",
    "            var project = projectEvaluations[i];\n",
    "            var eval = project.GroupedEvaluations.FirstOrDefault(g => g.GroupMembers.Contains(student));\n",
    "            if (eval != null)\n",
    "            {\n",
    "                summarySheet.Cell(row, currentColumn).Value = eval.Groupe;\n",
    "                summarySheet.Cell(row, currentColumn + 1).Value = eval.NoteRectifiée;\n",
    "                summarySheet.Cell(row, currentColumn + 1).Style.NumberFormat.Format = \"0.0\";\n",
    "                totalNotes += eval.NoteRectifiée;\n",
    "                numberOfGrades++;\n",
    "            }\n",
    "            currentColumn += 2;\n",
    "        }\n",
    "\n",
    "        decimal finalAverage = numberOfGrades > 0 ? totalNotes / numberOfGrades : 0;\n",
    "        summarySheet.Cell(row, currentColumn).Value = finalAverage;\n",
    "        summarySheet.Cell(row, currentColumn).Style.NumberFormat.Format = \"0.0\";\n",
    "        row++;\n",
    "    }\n",
    "\n",
    "     // Format de tableau\n",
    "    var table = summarySheet.Range(1, 1, row - 1, currentColumn).CreateTable(\"SummaryTable\");\n",
    "    // summarySheet.Tables.Add(table);\n",
    "    table.ShowTotalsRow = false;\n",
    "    table.Theme = XLTableTheme.TableStyleMedium15;\n",
    "\n",
    "    // Ajustement des colonnes\n",
    "    summarySheet.Columns().AdjustToContents();\n",
    "\n",
    "\n",
    "\n",
    "    // Feuilles de retour qualitatif pour chaque projet\n",
    "    for (int i = 0; i < projectEvaluations.Count; i++)\n",
    "    {\n",
    "        var feedbackSheet = workbook.AddWorksheet($\"Projet {i + 1} Feedback\");\n",
    "        feedbackSheet.Cell(1, 1).Value = \"Groupe\";\n",
    "        feedbackSheet.Cell(1, 2).Value = \"Points Positifs\";\n",
    "        feedbackSheet.Cell(1, 3).Value = \"Points Négatifs\";\n",
    "        feedbackSheet.Cell(1, 4).Value = \"Recommandations\";\n",
    "\n",
    "        var feedbacks = projectEvaluations[i].GroupedEvaluations;\n",
    "        int feedbackRow = 2;\n",
    "        foreach (var feedback in feedbacks)\n",
    "        {\n",
    "            foreach (var eval in feedback.Evaluations)\n",
    "            {\n",
    "                if (!string.IsNullOrWhiteSpace(eval.PointsPositifs) || !string.IsNullOrWhiteSpace(eval.PointsNégatifs) || !string.IsNullOrWhiteSpace(eval.Recommandations))\n",
    "                {\n",
    "                    feedbackSheet.Cell(feedbackRow, 1).Value = feedback.Groupe;\n",
    "                    feedbackSheet.Cell(feedbackRow, 2).Value = WrapText(eval.PointsPositifs, 40);\n",
    "                    feedbackSheet.Cell(feedbackRow, 3).Value = WrapText(eval.PointsNégatifs, 40);\n",
    "                    feedbackSheet.Cell(feedbackRow, 4).Value = WrapText(eval.Recommandations, 40);\n",
    "                    feedbackRow++;\n",
    "                }\n",
    "            }\n",
    "        }\n",
    "\n",
    "        // Format de tableau pour les feedbacks\n",
    "        if (feedbackRow > 2) // S'il y a des données\n",
    "        {\n",
    "            var feedbackTable = feedbackSheet.Range(1, 1, feedbackRow - 1, 5).AsTable($\"FeedbackTable{i + 1}\");\n",
    "            // feedbackSheet.Tables.Add(feedbackTable);\n",
    "            feedbackTable.ShowTotalsRow = false;\n",
    "            feedbackTable.Theme = XLTableTheme.TableStyleLight9;\n",
    "        }\n",
    "\n",
    "        // Ajustement automatique des colonnes\n",
    "        feedbackSheet.Columns().AdjustToContents();\n",
    "\n",
    "    }\n",
    "\n",
    "\n",
    "    var savePath  = System.IO.Path.Combine(new System.IO.FileInfo(studentFileInput).DirectoryName, \"Resultats_Evaluations.xlsx\");\n",
    "    workbook.SaveAs(savePath);\n",
    "    display($\"Fichier Excel généré : {savePath}\");\n",
    "}\n",
    "\n",
    "GenerateWorkbook(projectEvaluations, studentRecords);\n"
   ]
  }
 ],
 "metadata": {
  "kernelspec": {
   "display_name": ".NET (C#)",
   "language": "C#",
   "name": ".net-csharp"
  },
  "polyglot_notebook": {
   "kernelInfo": {
    "defaultKernelName": "csharp",
    "items": [
     {
      "aliases": [],
      "languageName": "csharp",
      "name": "csharp"
     }
    ]
   }
  }
 },
 "nbformat": 4,
 "nbformat_minor": 2
}
